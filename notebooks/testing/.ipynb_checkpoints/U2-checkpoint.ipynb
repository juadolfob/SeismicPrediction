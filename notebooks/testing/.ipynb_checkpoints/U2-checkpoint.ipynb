{
 "cells": [
  {
   "cell_type": "markdown",
   "metadata": {
    "collapsed": true,
    "pycharm": {
     "name": "#%% md\n"
    }
   },
   "source": [
    "<html>\n",
    "<head>\n",
    "\t<meta charset=\"utf-8\"/>\n",
    "\t<link rel=\"stylesheet\" type=\"text/css\" href=\"style.css\">\n",
    "\t<script type=\"text/javascript\" src=\"JavaScript.js\"></script>\n",
    "</head>\n",
    "<body>\n",
    "\t<table>\n",
    "\t\t<tr>\n",
    "\t\t\t<td><div id=\"div11\" style=\"width:50px; height:50px\"></div></td>\n",
    "\t\t\t<td><div id=\"div12\" style=\"width:50px; height:50px\"></div></td>\n",
    "\t\t\t<td><div id=\"div13\" style=\"width:50px; height:50px\"></div></td>\n",
    "\t\t</tr>\n",
    "\t\t<tr>\n",
    "\t\t\t<td><div id=\"div21\" style=\"width:50px; height:50px\"></div></td>\n",
    "\t\t\t<td><div id=\"div22\" style=\"width:50px; height:50px\"></div></td>\n",
    "\t\t\t<td><div id=\"div23\" style=\"width:50px; height:50px\"></div></td>\n",
    "\t\t</tr>\n",
    "\t\t<tr>\n",
    "\t\t\t<td><div id=\"div31\" style=\"width:50px; height:50px\"></div></td>\n",
    "\t\t\t<td><div id=\"div32\" style=\"width:50px; height:50px\"></div></td>\n",
    "\t\t\t<td><div id=\"div33\" style=\"width:50px; height:50px\"></div></td>\n",
    "\t\t</tr>\n",
    "\t</table>\n",
    "</body>\n",
    "</html>"
   ]
  },
  {
   "cell_type": "code",
   "source": [
    "import pandas as pd\n",
    "import numpy as np\n",
    "df = pd.DataFrame(np.random.randn(50, 2), columns=list('XY'))"
   ],
   "metadata": {
    "collapsed": false,
    "pycharm": {
     "name": "#%%\n"
    }
   },
   "execution_count": 9,
   "outputs": []
  },
  {
   "cell_type": "code",
   "execution_count": 10,
   "outputs": [
    {
     "data": {
      "text/plain": "           X         Y\n0   1.249851 -1.123417\n1   0.201542 -0.484694\n2   1.781513 -1.798768\n3  -0.169635 -1.573089\n4   0.448386  0.627249\n5   1.073472 -0.609899\n6  -1.028153  1.329979\n7   0.893621 -0.957021\n8  -0.878993 -1.059521\n9  -0.764718 -0.496063\n10  0.866184 -0.427985\n11  0.098093  0.329647\n12 -1.858774 -0.766763\n13  0.868523 -2.505937\n14 -0.307806 -1.646463\n15 -2.906711  1.062879\n16 -1.144659  0.388500\n17 -0.318202 -1.726297\n18 -1.261454 -0.827273\n19  1.279421  1.709184\n20  0.293718 -0.313519\n21 -1.250413 -0.659925\n22 -0.831530 -0.034718\n23  0.766799  1.112774\n24  1.577909  0.748391\n25 -1.386685  0.677247\n26  0.121995  0.528690\n27  0.700136 -0.657520\n28 -1.038261 -0.804736\n29 -0.637861  1.608510\n30  0.711597 -0.501492\n31 -2.827817 -0.632379\n32  0.836571 -0.655724\n33 -2.760428  0.148785\n34  0.333254  0.031819\n35 -0.016554 -0.765325\n36 -0.606762  0.027054\n37  0.460230  0.832403\n38 -0.933394 -0.377903\n39  0.617343  0.737017\n40 -1.139258  0.561527\n41 -0.553867  1.550738\n42 -1.247764  1.583407\n43  0.572699  0.050548\n44 -0.486613 -0.177921\n45  0.140775  0.092833\n46  0.573030  0.107225\n47 -0.661793 -0.956295\n48 -1.451084 -0.045343\n49  0.818456  0.950373",
      "text/html": "<div>\n<style scoped>\n    .dataframe tbody tr th:only-of-type {\n        vertical-align: middle;\n    }\n\n    .dataframe tbody tr th {\n        vertical-align: top;\n    }\n\n    .dataframe thead th {\n        text-align: right;\n    }\n</style>\n<table border=\"1\" class=\"dataframe\">\n  <thead>\n    <tr style=\"text-align: right;\">\n      <th></th>\n      <th>X</th>\n      <th>Y</th>\n    </tr>\n  </thead>\n  <tbody>\n    <tr>\n      <th>0</th>\n      <td>1.249851</td>\n      <td>-1.123417</td>\n    </tr>\n    <tr>\n      <th>1</th>\n      <td>0.201542</td>\n      <td>-0.484694</td>\n    </tr>\n    <tr>\n      <th>2</th>\n      <td>1.781513</td>\n      <td>-1.798768</td>\n    </tr>\n    <tr>\n      <th>3</th>\n      <td>-0.169635</td>\n      <td>-1.573089</td>\n    </tr>\n    <tr>\n      <th>4</th>\n      <td>0.448386</td>\n      <td>0.627249</td>\n    </tr>\n    <tr>\n      <th>5</th>\n      <td>1.073472</td>\n      <td>-0.609899</td>\n    </tr>\n    <tr>\n      <th>6</th>\n      <td>-1.028153</td>\n      <td>1.329979</td>\n    </tr>\n    <tr>\n      <th>7</th>\n      <td>0.893621</td>\n      <td>-0.957021</td>\n    </tr>\n    <tr>\n      <th>8</th>\n      <td>-0.878993</td>\n      <td>-1.059521</td>\n    </tr>\n    <tr>\n      <th>9</th>\n      <td>-0.764718</td>\n      <td>-0.496063</td>\n    </tr>\n    <tr>\n      <th>10</th>\n      <td>0.866184</td>\n      <td>-0.427985</td>\n    </tr>\n    <tr>\n      <th>11</th>\n      <td>0.098093</td>\n      <td>0.329647</td>\n    </tr>\n    <tr>\n      <th>12</th>\n      <td>-1.858774</td>\n      <td>-0.766763</td>\n    </tr>\n    <tr>\n      <th>13</th>\n      <td>0.868523</td>\n      <td>-2.505937</td>\n    </tr>\n    <tr>\n      <th>14</th>\n      <td>-0.307806</td>\n      <td>-1.646463</td>\n    </tr>\n    <tr>\n      <th>15</th>\n      <td>-2.906711</td>\n      <td>1.062879</td>\n    </tr>\n    <tr>\n      <th>16</th>\n      <td>-1.144659</td>\n      <td>0.388500</td>\n    </tr>\n    <tr>\n      <th>17</th>\n      <td>-0.318202</td>\n      <td>-1.726297</td>\n    </tr>\n    <tr>\n      <th>18</th>\n      <td>-1.261454</td>\n      <td>-0.827273</td>\n    </tr>\n    <tr>\n      <th>19</th>\n      <td>1.279421</td>\n      <td>1.709184</td>\n    </tr>\n    <tr>\n      <th>20</th>\n      <td>0.293718</td>\n      <td>-0.313519</td>\n    </tr>\n    <tr>\n      <th>21</th>\n      <td>-1.250413</td>\n      <td>-0.659925</td>\n    </tr>\n    <tr>\n      <th>22</th>\n      <td>-0.831530</td>\n      <td>-0.034718</td>\n    </tr>\n    <tr>\n      <th>23</th>\n      <td>0.766799</td>\n      <td>1.112774</td>\n    </tr>\n    <tr>\n      <th>24</th>\n      <td>1.577909</td>\n      <td>0.748391</td>\n    </tr>\n    <tr>\n      <th>25</th>\n      <td>-1.386685</td>\n      <td>0.677247</td>\n    </tr>\n    <tr>\n      <th>26</th>\n      <td>0.121995</td>\n      <td>0.528690</td>\n    </tr>\n    <tr>\n      <th>27</th>\n      <td>0.700136</td>\n      <td>-0.657520</td>\n    </tr>\n    <tr>\n      <th>28</th>\n      <td>-1.038261</td>\n      <td>-0.804736</td>\n    </tr>\n    <tr>\n      <th>29</th>\n      <td>-0.637861</td>\n      <td>1.608510</td>\n    </tr>\n    <tr>\n      <th>30</th>\n      <td>0.711597</td>\n      <td>-0.501492</td>\n    </tr>\n    <tr>\n      <th>31</th>\n      <td>-2.827817</td>\n      <td>-0.632379</td>\n    </tr>\n    <tr>\n      <th>32</th>\n      <td>0.836571</td>\n      <td>-0.655724</td>\n    </tr>\n    <tr>\n      <th>33</th>\n      <td>-2.760428</td>\n      <td>0.148785</td>\n    </tr>\n    <tr>\n      <th>34</th>\n      <td>0.333254</td>\n      <td>0.031819</td>\n    </tr>\n    <tr>\n      <th>35</th>\n      <td>-0.016554</td>\n      <td>-0.765325</td>\n    </tr>\n    <tr>\n      <th>36</th>\n      <td>-0.606762</td>\n      <td>0.027054</td>\n    </tr>\n    <tr>\n      <th>37</th>\n      <td>0.460230</td>\n      <td>0.832403</td>\n    </tr>\n    <tr>\n      <th>38</th>\n      <td>-0.933394</td>\n      <td>-0.377903</td>\n    </tr>\n    <tr>\n      <th>39</th>\n      <td>0.617343</td>\n      <td>0.737017</td>\n    </tr>\n    <tr>\n      <th>40</th>\n      <td>-1.139258</td>\n      <td>0.561527</td>\n    </tr>\n    <tr>\n      <th>41</th>\n      <td>-0.553867</td>\n      <td>1.550738</td>\n    </tr>\n    <tr>\n      <th>42</th>\n      <td>-1.247764</td>\n      <td>1.583407</td>\n    </tr>\n    <tr>\n      <th>43</th>\n      <td>0.572699</td>\n      <td>0.050548</td>\n    </tr>\n    <tr>\n      <th>44</th>\n      <td>-0.486613</td>\n      <td>-0.177921</td>\n    </tr>\n    <tr>\n      <th>45</th>\n      <td>0.140775</td>\n      <td>0.092833</td>\n    </tr>\n    <tr>\n      <th>46</th>\n      <td>0.573030</td>\n      <td>0.107225</td>\n    </tr>\n    <tr>\n      <th>47</th>\n      <td>-0.661793</td>\n      <td>-0.956295</td>\n    </tr>\n    <tr>\n      <th>48</th>\n      <td>-1.451084</td>\n      <td>-0.045343</td>\n    </tr>\n    <tr>\n      <th>49</th>\n      <td>0.818456</td>\n      <td>0.950373</td>\n    </tr>\n  </tbody>\n</table>\n</div>"
     },
     "execution_count": 10,
     "metadata": {},
     "output_type": "execute_result"
    }
   ],
   "source": [
    "df"
   ],
   "metadata": {
    "collapsed": false,
    "pycharm": {
     "name": "#%%\n"
    }
   }
  },
  {
   "cell_type": "code",
   "execution_count": null,
   "outputs": [],
   "source": [],
   "metadata": {
    "collapsed": false,
    "pycharm": {
     "name": "#%%\n"
    }
   }
  }
 ],
 "metadata": {
  "kernelspec": {
   "display_name": "Python 3",
   "language": "python",
   "name": "python3"
  },
  "language_info": {
   "codemirror_mode": {
    "name": "ipython",
    "version": 2
   },
   "file_extension": ".py",
   "mimetype": "text/x-python",
   "name": "python",
   "nbconvert_exporter": "python",
   "pygments_lexer": "ipython2",
   "version": "2.7.6"
  }
 },
 "nbformat": 4,
 "nbformat_minor": 0
}