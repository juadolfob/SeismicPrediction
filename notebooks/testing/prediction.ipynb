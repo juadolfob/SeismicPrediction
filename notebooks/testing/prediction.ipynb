{
 "cells": [
  {
   "cell_type": "code",
   "execution_count": 189,
   "outputs": [],
   "source": [
    "import matplotlib.pyplot as plt\n",
    "import numpy as np\n",
    "import pandas as pd\n",
    "\n",
    "from matplotlib import cm\n",
    "from sklearn.decomposition import PCA\n",
    "from sklearn.manifold import Isomap, SpectralEmbedding\n",
    "from sklearn.preprocessing import MinMaxScaler\n",
    "\n",
    "import model\n",
    "from model import CalculateFeatures, SelectFeatures\n",
    "%matplotlib qt\n"
   ],
   "metadata": {
    "collapsed": false,
    "pycharm": {
     "name": "#%%\n"
    }
   }
  },
  {
   "cell_type": "code",
   "execution_count": 3,
   "outputs": [
    {
     "data": {
      "text/plain": "   Magnitude  Latitude  Longitude  Depth            Datetime\n0        3.9   16.8023   -94.9130  114.9 2017-01-01 00:54:31\n1        3.9   15.2842   -93.1210  100.7 2017-01-01 04:10:39\n2        3.9   17.4503   -94.9543  138.3 2017-01-01 04:23:51\n3        3.9   16.4077   -93.7075  139.4 2017-01-01 04:26:01\n4        4.1   16.7017   -98.8633   27.5 2017-01-01 08:49:23",
      "text/html": "<div>\n<style scoped>\n    .dataframe tbody tr th:only-of-type {\n        vertical-align: middle;\n    }\n\n    .dataframe tbody tr th {\n        vertical-align: top;\n    }\n\n    .dataframe thead th {\n        text-align: right;\n    }\n</style>\n<table border=\"1\" class=\"dataframe\">\n  <thead>\n    <tr style=\"text-align: right;\">\n      <th></th>\n      <th>Magnitude</th>\n      <th>Latitude</th>\n      <th>Longitude</th>\n      <th>Depth</th>\n      <th>Datetime</th>\n    </tr>\n  </thead>\n  <tbody>\n    <tr>\n      <th>0</th>\n      <td>3.9</td>\n      <td>16.8023</td>\n      <td>-94.9130</td>\n      <td>114.9</td>\n      <td>2017-01-01 00:54:31</td>\n    </tr>\n    <tr>\n      <th>1</th>\n      <td>3.9</td>\n      <td>15.2842</td>\n      <td>-93.1210</td>\n      <td>100.7</td>\n      <td>2017-01-01 04:10:39</td>\n    </tr>\n    <tr>\n      <th>2</th>\n      <td>3.9</td>\n      <td>17.4503</td>\n      <td>-94.9543</td>\n      <td>138.3</td>\n      <td>2017-01-01 04:23:51</td>\n    </tr>\n    <tr>\n      <th>3</th>\n      <td>3.9</td>\n      <td>16.4077</td>\n      <td>-93.7075</td>\n      <td>139.4</td>\n      <td>2017-01-01 04:26:01</td>\n    </tr>\n    <tr>\n      <th>4</th>\n      <td>4.1</td>\n      <td>16.7017</td>\n      <td>-98.8633</td>\n      <td>27.5</td>\n      <td>2017-01-01 08:49:23</td>\n    </tr>\n  </tbody>\n</table>\n</div>"
     },
     "execution_count": 3,
     "metadata": {},
     "output_type": "execute_result"
    }
   ],
   "source": [
    "dtypes = {'Magnitude': np.float64, 'Latitude': np.float64, 'Longitude': np.float64, 'Depth': np.float64}\n",
    "df = pd.read_csv('../../data/DATA_3_south.csv', delimiter=',', dtype=dtypes, parse_dates=[\"Datetime\"],\n",
    "                 date_parser=np.datetime64)\n",
    "df = df.reset_index(drop=True)\n",
    "df.head()"
   ],
   "metadata": {
    "collapsed": false,
    "pycharm": {
     "name": "#%%\n"
    }
   }
  },
  {
   "cell_type": "code",
   "execution_count": 4,
   "outputs": [],
   "source": [
    "df_model = CalculateFeatures(df, 50, trim_features=True)"
   ],
   "metadata": {
    "collapsed": false,
    "pycharm": {
     "name": "#%%\n"
    }
   }
  },
  {
   "cell_type": "code",
   "execution_count": 5,
   "outputs": [
    {
     "data": {
      "text/plain": "       old_index              firstT               lastT  meanMag  maxAMag  \\\n31462      31534 2020-05-03 01:40:06 2020-05-05 08:47:56    3.902      4.2   \n31452      31524 2020-05-02 13:26:34 2020-05-05 01:54:29    3.886      4.4   \n31453      31525 2020-05-02 14:49:24 2020-05-05 01:54:48    3.892      4.4   \n31454      31526 2020-05-02 15:11:46 2020-05-05 02:54:24    3.892      4.4   \n31455      31527 2020-05-02 15:30:39 2020-05-05 03:54:14    3.900      4.4   \n\n        maxEMag    magDef          a         b      bStd     grcStd  elapsedT  \\\n31462  4.407565 -0.207565  12.282871  2.786770  0.138838  42.284809    198470   \n31452  4.300383  0.099617  14.564172  3.386715  0.349156  82.429952    217675   \n31453  4.333049  0.066951  13.772086  3.178382  0.302903  72.107358    212724   \n31454  4.333049  0.066951  13.772086  3.178382  0.302903  72.107358    214958   \n31455  4.373212  0.026788  12.917771  2.953841  0.256418  61.514412    217415   \n\n       rateSqrtEnergy        meanT      meanTStd         pMag6  \\\n31462   173750.859086  4050.408163  1.588572e+09  1.902737e-17   \n31452   154469.238588  4442.346939  1.588528e+09  4.783105e-21   \n31453   159858.836148  4341.306122  1.588532e+09  8.505671e-20   \n31454   158197.466765  4386.897959  1.588536e+09  8.505671e-20   \n31455   158983.916427  4437.040816  1.588541e+09  1.892148e-18   \n\n       zSeismicRateChange  bSeismicRateChange  last7dMaxMag  next14dMaxMag  \n31462          109.316056            3.758304           4.6            4.4  \n31452          426.145515          -54.063364           4.6            4.4  \n31453          497.543968          -74.313965           4.6            4.4  \n31454          334.215499           33.909011           4.6            4.4  \n31455          350.499643           37.099205           4.6            4.4  ",
      "text/html": "<div>\n<style scoped>\n    .dataframe tbody tr th:only-of-type {\n        vertical-align: middle;\n    }\n\n    .dataframe tbody tr th {\n        vertical-align: top;\n    }\n\n    .dataframe thead th {\n        text-align: right;\n    }\n</style>\n<table border=\"1\" class=\"dataframe\">\n  <thead>\n    <tr style=\"text-align: right;\">\n      <th></th>\n      <th>old_index</th>\n      <th>firstT</th>\n      <th>lastT</th>\n      <th>meanMag</th>\n      <th>maxAMag</th>\n      <th>maxEMag</th>\n      <th>magDef</th>\n      <th>a</th>\n      <th>b</th>\n      <th>bStd</th>\n      <th>grcStd</th>\n      <th>elapsedT</th>\n      <th>rateSqrtEnergy</th>\n      <th>meanT</th>\n      <th>meanTStd</th>\n      <th>pMag6</th>\n      <th>zSeismicRateChange</th>\n      <th>bSeismicRateChange</th>\n      <th>last7dMaxMag</th>\n      <th>next14dMaxMag</th>\n    </tr>\n  </thead>\n  <tbody>\n    <tr>\n      <th>31462</th>\n      <td>31534</td>\n      <td>2020-05-03 01:40:06</td>\n      <td>2020-05-05 08:47:56</td>\n      <td>3.902</td>\n      <td>4.2</td>\n      <td>4.407565</td>\n      <td>-0.207565</td>\n      <td>12.282871</td>\n      <td>2.786770</td>\n      <td>0.138838</td>\n      <td>42.284809</td>\n      <td>198470</td>\n      <td>173750.859086</td>\n      <td>4050.408163</td>\n      <td>1.588572e+09</td>\n      <td>1.902737e-17</td>\n      <td>109.316056</td>\n      <td>3.758304</td>\n      <td>4.6</td>\n      <td>4.4</td>\n    </tr>\n    <tr>\n      <th>31452</th>\n      <td>31524</td>\n      <td>2020-05-02 13:26:34</td>\n      <td>2020-05-05 01:54:29</td>\n      <td>3.886</td>\n      <td>4.4</td>\n      <td>4.300383</td>\n      <td>0.099617</td>\n      <td>14.564172</td>\n      <td>3.386715</td>\n      <td>0.349156</td>\n      <td>82.429952</td>\n      <td>217675</td>\n      <td>154469.238588</td>\n      <td>4442.346939</td>\n      <td>1.588528e+09</td>\n      <td>4.783105e-21</td>\n      <td>426.145515</td>\n      <td>-54.063364</td>\n      <td>4.6</td>\n      <td>4.4</td>\n    </tr>\n    <tr>\n      <th>31453</th>\n      <td>31525</td>\n      <td>2020-05-02 14:49:24</td>\n      <td>2020-05-05 01:54:48</td>\n      <td>3.892</td>\n      <td>4.4</td>\n      <td>4.333049</td>\n      <td>0.066951</td>\n      <td>13.772086</td>\n      <td>3.178382</td>\n      <td>0.302903</td>\n      <td>72.107358</td>\n      <td>212724</td>\n      <td>159858.836148</td>\n      <td>4341.306122</td>\n      <td>1.588532e+09</td>\n      <td>8.505671e-20</td>\n      <td>497.543968</td>\n      <td>-74.313965</td>\n      <td>4.6</td>\n      <td>4.4</td>\n    </tr>\n    <tr>\n      <th>31454</th>\n      <td>31526</td>\n      <td>2020-05-02 15:11:46</td>\n      <td>2020-05-05 02:54:24</td>\n      <td>3.892</td>\n      <td>4.4</td>\n      <td>4.333049</td>\n      <td>0.066951</td>\n      <td>13.772086</td>\n      <td>3.178382</td>\n      <td>0.302903</td>\n      <td>72.107358</td>\n      <td>214958</td>\n      <td>158197.466765</td>\n      <td>4386.897959</td>\n      <td>1.588536e+09</td>\n      <td>8.505671e-20</td>\n      <td>334.215499</td>\n      <td>33.909011</td>\n      <td>4.6</td>\n      <td>4.4</td>\n    </tr>\n    <tr>\n      <th>31455</th>\n      <td>31527</td>\n      <td>2020-05-02 15:30:39</td>\n      <td>2020-05-05 03:54:14</td>\n      <td>3.900</td>\n      <td>4.4</td>\n      <td>4.373212</td>\n      <td>0.026788</td>\n      <td>12.917771</td>\n      <td>2.953841</td>\n      <td>0.256418</td>\n      <td>61.514412</td>\n      <td>217415</td>\n      <td>158983.916427</td>\n      <td>4437.040816</td>\n      <td>1.588541e+09</td>\n      <td>1.892148e-18</td>\n      <td>350.499643</td>\n      <td>37.099205</td>\n      <td>4.6</td>\n      <td>4.4</td>\n    </tr>\n  </tbody>\n</table>\n</div>"
     },
     "execution_count": 5,
     "metadata": {},
     "output_type": "execute_result"
    }
   ],
   "source": [
    "features = df_model.features.sort_values('nextDMaxMag')\n",
    "features.head()"
   ],
   "metadata": {
    "collapsed": false,
    "pycharm": {
     "name": "#%%\n"
    }
   }
  },
  {
   "cell_type": "code",
   "execution_count": 25,
   "outputs": [],
   "source": [
    "X = features[model.FEATURES]\n",
    "Y = features[model.TARGETS]\n",
    "selected_features = SelectFeatures(features=X, targets=Y, corr_threshold=.95, fixed_features=[\"b\"])\n",
    "\n",
    "X=X[selected_features[0]].to_numpy()\n",
    "Y=Y.to_numpy()"
   ],
   "metadata": {
    "collapsed": false,
    "pycharm": {
     "name": "#%% FEATURE SELECTION\n"
    }
   }
  },
  {
   "cell_type": "code",
   "execution_count": 26,
   "outputs": [],
   "source": [
    "Y_Scaler = MinMaxScaler()\n",
    "X_Scaler = MinMaxScaler()\n",
    "X_norm64 = X_Scaler.fit_transform(X)\n",
    "Y_norm64 = Y_Scaler.fit_transform(Y)\n",
    "X_norm32 = X_norm64.astype(np.float32)\n",
    "Y_norm32 = Y_norm64.astype(np.float32)"
   ],
   "metadata": {
    "collapsed": false,
    "pycharm": {
     "name": "#%% NORMALIZE DATA & SHORTEN DATA\n"
    }
   }
  },
  {
   "cell_type": "code",
   "execution_count": 184,
   "outputs": [
    {
     "ename": "NameError",
     "evalue": "name 'X_norm64' is not defined",
     "output_type": "error",
     "traceback": [
      "\u001B[1;31m---------------------------------------------------------------------------\u001B[0m",
      "\u001B[1;31mNameError\u001B[0m                                 Traceback (most recent call last)",
      "\u001B[1;32m~\\AppData\\Local\\Temp/ipykernel_5640/659048848.py\u001B[0m in \u001B[0;36m<module>\u001B[1;34m\u001B[0m\n\u001B[0;32m      1\u001B[0m \u001B[1;31m# evaluate isomap with logistic regression algorithm for classification\u001B[0m\u001B[1;33m\u001B[0m\u001B[1;33m\u001B[0m\u001B[1;33m\u001B[0m\u001B[0m\n\u001B[0;32m      2\u001B[0m \u001B[0mpca\u001B[0m \u001B[1;33m=\u001B[0m \u001B[0mPCA\u001B[0m\u001B[1;33m(\u001B[0m\u001B[0mn_components\u001B[0m\u001B[1;33m=\u001B[0m\u001B[1;36m2\u001B[0m\u001B[1;33m)\u001B[0m\u001B[1;33m\u001B[0m\u001B[1;33m\u001B[0m\u001B[0m\n\u001B[1;32m----> 3\u001B[1;33m \u001B[0mpca\u001B[0m\u001B[1;33m.\u001B[0m\u001B[0mfit\u001B[0m\u001B[1;33m(\u001B[0m\u001B[0mX_norm64\u001B[0m\u001B[1;33m.\u001B[0m\u001B[0mT\u001B[0m\u001B[1;33m,\u001B[0m \u001B[0mY_norm64\u001B[0m\u001B[1;33m.\u001B[0m\u001B[0mT\u001B[0m\u001B[1;33m)\u001B[0m\u001B[1;33m\u001B[0m\u001B[1;33m\u001B[0m\u001B[0m\n\u001B[0m\u001B[0;32m      4\u001B[0m \u001B[0mpca_components\u001B[0m \u001B[1;33m=\u001B[0m \u001B[0mpca\u001B[0m\u001B[1;33m.\u001B[0m\u001B[0mcomponents_\u001B[0m\u001B[1;33m\u001B[0m\u001B[1;33m\u001B[0m\u001B[0m\n\u001B[0;32m      5\u001B[0m \u001B[1;33m\u001B[0m\u001B[0m\n",
      "\u001B[1;31mNameError\u001B[0m: name 'X_norm64' is not defined"
     ]
    }
   ],
   "source": [
    "# evaluate isomap with logistic regression algorithm for classification\n",
    "pca = PCA(n_components=2)\n",
    "pca.fit(X_norm64.T, Y_norm64.T)\n",
    "pca_components = pca.components_"
   ],
   "metadata": {
    "collapsed": false,
    "pycharm": {
     "name": "#%%\n"
    }
   }
  },
  {
   "cell_type": "code",
   "execution_count": 185,
   "outputs": [
    {
     "ename": "NameError",
     "evalue": "name 'Y_norm64' is not defined",
     "output_type": "error",
     "traceback": [
      "\u001B[1;31m---------------------------------------------------------------------------\u001B[0m",
      "\u001B[1;31mNameError\u001B[0m                                 Traceback (most recent call last)",
      "\u001B[1;32m~\\AppData\\Local\\Temp/ipykernel_5640/2448567868.py\u001B[0m in \u001B[0;36m<module>\u001B[1;34m\u001B[0m\n\u001B[0;32m      1\u001B[0m \u001B[0mcmap\u001B[0m \u001B[1;33m=\u001B[0m \u001B[0mcm\u001B[0m\u001B[1;33m.\u001B[0m\u001B[0mget_cmap\u001B[0m\u001B[1;33m(\u001B[0m\u001B[1;34m\"viridis\"\u001B[0m\u001B[1;33m)\u001B[0m\u001B[1;33m\u001B[0m\u001B[1;33m\u001B[0m\u001B[0m\n\u001B[1;32m----> 2\u001B[1;33m \u001B[0mcolors\u001B[0m \u001B[1;33m=\u001B[0m \u001B[0mlist\u001B[0m\u001B[1;33m(\u001B[0m\u001B[0mmap\u001B[0m\u001B[1;33m(\u001B[0m\u001B[0mcmap\u001B[0m\u001B[1;33m,\u001B[0m \u001B[0mY_norm64\u001B[0m\u001B[1;33m.\u001B[0m\u001B[0mT\u001B[0m\u001B[1;33m[\u001B[0m\u001B[1;36m0\u001B[0m\u001B[1;33m]\u001B[0m\u001B[1;33m)\u001B[0m\u001B[1;33m)\u001B[0m\u001B[1;33m\u001B[0m\u001B[1;33m\u001B[0m\u001B[0m\n\u001B[0m\u001B[0;32m      3\u001B[0m \u001B[0msizes\u001B[0m \u001B[1;33m=\u001B[0m \u001B[0mnp\u001B[0m\u001B[1;33m.\u001B[0m\u001B[0mpower\u001B[0m\u001B[1;33m(\u001B[0m\u001B[1;36m10\u001B[0m\u001B[1;33m,\u001B[0m \u001B[0mY_norm64\u001B[0m\u001B[1;33m.\u001B[0m\u001B[0mT\u001B[0m\u001B[1;33m[\u001B[0m\u001B[1;36m0\u001B[0m\u001B[1;33m]\u001B[0m \u001B[1;33m)\u001B[0m\u001B[1;33m\u001B[0m\u001B[1;33m\u001B[0m\u001B[0m\n\u001B[0;32m      4\u001B[0m \u001B[1;33m\u001B[0m\u001B[0m\n",
      "\u001B[1;31mNameError\u001B[0m: name 'Y_norm64' is not defined"
     ]
    }
   ],
   "source": [
    "cmap = cm.get_cmap(\"viridis\")\n",
    "colors = list(map(cmap, Y_norm64.T[0]))\n",
    "sizes = np.power(10, Y_norm64.T[0] )"
   ],
   "metadata": {
    "collapsed": false,
    "pycharm": {
     "name": "#%%\n"
    }
   }
  },
  {
   "cell_type": "code",
   "source": [
    "%matplotlib qt\n",
    "plt.scatter(pca_components[0], pca_components[1], s=sizes, color=colors)"
   ],
   "metadata": {
    "collapsed": false,
    "pycharm": {
     "name": "#%%\n"
    }
   },
   "execution_count": 186,
   "outputs": [
    {
     "data": {
      "text/plain": "<matplotlib.collections.PathCollection at 0x2ed91430af0>"
     },
     "execution_count": 186,
     "metadata": {},
     "output_type": "execute_result"
    }
   ]
  },
  {
   "cell_type": "code",
   "execution_count": 31,
   "outputs": [],
   "source": [
    "import seaborn as sn\n",
    "import matplotlib.pyplot as plt\n",
    "\n",
    "corrMatrix = df_model.features.corr()\n",
    "sn.heatmap(corrMatrix, annot=True)\n",
    "plt.show()\n"
   ],
   "metadata": {
    "collapsed": false,
    "pycharm": {
     "name": "#%%\n"
    }
   }
  },
  {
   "cell_type": "code",
   "execution_count": 39,
   "outputs": [],
   "source": [
    "embedding = Isomap(n_components=2)\n",
    "X_transformed = embedding.fit_transform(X_norm32, Y_norm32)"
   ],
   "metadata": {
    "collapsed": false,
    "pycharm": {
     "name": "#%%\n"
    }
   }
  },
  {
   "cell_type": "markdown",
   "source": [
    "%matplotlib qt\n",
    "fix, ax = plt.subplots()\n",
    "ax.set_facecolor((0, 0, .420, 0.125))\n",
    "ax.scatter(X_transformed.T[0], X_transformed.T[1], s=sizes, color=colors)"
   ],
   "metadata": {
    "collapsed": false,
    "pycharm": {
     "name": "#%% md\n"
    }
   }
  },
  {
   "cell_type": "code",
   "execution_count": 183,
   "outputs": [
    {
     "data": {
      "text/plain": "[]"
     },
     "execution_count": 183,
     "metadata": {},
     "output_type": "execute_result"
    }
   ],
   "source": [
    "import matplotlib.pyplot as plt\n",
    "%matplotlib qt\n",
    "\n",
    "fig, ax = plt.subplots()\n",
    "num_ticks=np.round((Y_Scaler.data_max_-Y_Scaler.data_min_)*10+1).astype(int)[0]\n",
    "labels=np.round(np.linspace(Y_Scaler.data_min_, Y_Scaler.data_max_, num=num_ticks).T[0], 1)\n",
    "ticks=np.linspace(0, 1, num=num_ticks)[np.isin(labels,np.unique(Y))]\n",
    "cax = plt.scatter(X_transformed.T[0], X_transformed.T[1], s=sizes, color=colors)\n",
    "\n",
    "cbar = fig.colorbar(cax, ticks=ticks)\n",
    "cbar.ax.set_yticklabels(np.unique(Y))\n",
    "plt.plot()"
   ],
   "metadata": {
    "collapsed": false,
    "pycharm": {
     "name": "#%%\n"
    }
   }
  },
  {
   "cell_type": "code",
   "execution_count": null,
   "outputs": [],
   "source": [
    "%matplotlib qt\n",
    "import seaborn as sns\n",
    "import matplotlib.pyplot as plt\n",
    "\n",
    "corrMatrix = features.corr()\n",
    "\n",
    "sns.heatmap(corrMatrix, annot=True, cmap=\"bwr\")\n",
    "plt.show()\n"
   ],
   "metadata": {
    "collapsed": false,
    "pycharm": {
     "name": "#%%\n"
    }
   }
  },
  {
   "cell_type": "code",
   "execution_count": 191,
   "outputs": [
    {
     "ename": "SystemError",
     "evalue": "gstrf was called with invalid arguments",
     "output_type": "error",
     "traceback": [
      "\u001B[1;31m---------------------------------------------------------------------------\u001B[0m",
      "\u001B[1;31mSystemError\u001B[0m                               Traceback (most recent call last)",
      "\u001B[1;32m~\\AppData\\Local\\Temp/ipykernel_5640/2414020943.py\u001B[0m in \u001B[0;36m<module>\u001B[1;34m\u001B[0m\n\u001B[0;32m      1\u001B[0m \u001B[0mEmbedding\u001B[0m  \u001B[1;33m=\u001B[0m \u001B[0mSpectralEmbedding\u001B[0m\u001B[1;33m(\u001B[0m\u001B[0mn_components\u001B[0m\u001B[1;33m=\u001B[0m\u001B[1;36m2\u001B[0m\u001B[1;33m)\u001B[0m\u001B[1;33m\u001B[0m\u001B[1;33m\u001B[0m\u001B[0m\n\u001B[1;32m----> 2\u001B[1;33m \u001B[0mEmbedding\u001B[0m\u001B[1;33m.\u001B[0m\u001B[0mfit\u001B[0m\u001B[1;33m(\u001B[0m\u001B[0mX_norm32\u001B[0m\u001B[1;33m,\u001B[0m \u001B[0mY_norm32\u001B[0m\u001B[1;33m)\u001B[0m\u001B[1;33m\u001B[0m\u001B[1;33m\u001B[0m\u001B[0m\n\u001B[0m",
      "\u001B[1;32m~\\.conda\\envs\\SeismicPrediction\\lib\\site-packages\\sklearn\\manifold\\_spectral_embedding.py\u001B[0m in \u001B[0;36mfit\u001B[1;34m(self, X, y)\u001B[0m\n\u001B[0;32m    573\u001B[0m \u001B[1;33m\u001B[0m\u001B[0m\n\u001B[0;32m    574\u001B[0m         \u001B[0maffinity_matrix\u001B[0m \u001B[1;33m=\u001B[0m \u001B[0mself\u001B[0m\u001B[1;33m.\u001B[0m\u001B[0m_get_affinity_matrix\u001B[0m\u001B[1;33m(\u001B[0m\u001B[0mX\u001B[0m\u001B[1;33m)\u001B[0m\u001B[1;33m\u001B[0m\u001B[1;33m\u001B[0m\u001B[0m\n\u001B[1;32m--> 575\u001B[1;33m         self.embedding_ = spectral_embedding(affinity_matrix,\n\u001B[0m\u001B[0;32m    576\u001B[0m                                              \u001B[0mn_components\u001B[0m\u001B[1;33m=\u001B[0m\u001B[0mself\u001B[0m\u001B[1;33m.\u001B[0m\u001B[0mn_components\u001B[0m\u001B[1;33m,\u001B[0m\u001B[1;33m\u001B[0m\u001B[1;33m\u001B[0m\u001B[0m\n\u001B[0;32m    577\u001B[0m                                              \u001B[0meigen_solver\u001B[0m\u001B[1;33m=\u001B[0m\u001B[0mself\u001B[0m\u001B[1;33m.\u001B[0m\u001B[0meigen_solver\u001B[0m\u001B[1;33m,\u001B[0m\u001B[1;33m\u001B[0m\u001B[1;33m\u001B[0m\u001B[0m\n",
      "\u001B[1;32m~\\.conda\\envs\\SeismicPrediction\\lib\\site-packages\\sklearn\\utils\\validation.py\u001B[0m in \u001B[0;36minner_f\u001B[1;34m(*args, **kwargs)\u001B[0m\n\u001B[0;32m     61\u001B[0m             \u001B[0mextra_args\u001B[0m \u001B[1;33m=\u001B[0m \u001B[0mlen\u001B[0m\u001B[1;33m(\u001B[0m\u001B[0margs\u001B[0m\u001B[1;33m)\u001B[0m \u001B[1;33m-\u001B[0m \u001B[0mlen\u001B[0m\u001B[1;33m(\u001B[0m\u001B[0mall_args\u001B[0m\u001B[1;33m)\u001B[0m\u001B[1;33m\u001B[0m\u001B[1;33m\u001B[0m\u001B[0m\n\u001B[0;32m     62\u001B[0m             \u001B[1;32mif\u001B[0m \u001B[0mextra_args\u001B[0m \u001B[1;33m<=\u001B[0m \u001B[1;36m0\u001B[0m\u001B[1;33m:\u001B[0m\u001B[1;33m\u001B[0m\u001B[1;33m\u001B[0m\u001B[0m\n\u001B[1;32m---> 63\u001B[1;33m                 \u001B[1;32mreturn\u001B[0m \u001B[0mf\u001B[0m\u001B[1;33m(\u001B[0m\u001B[1;33m*\u001B[0m\u001B[0margs\u001B[0m\u001B[1;33m,\u001B[0m \u001B[1;33m**\u001B[0m\u001B[0mkwargs\u001B[0m\u001B[1;33m)\u001B[0m\u001B[1;33m\u001B[0m\u001B[1;33m\u001B[0m\u001B[0m\n\u001B[0m\u001B[0;32m     64\u001B[0m \u001B[1;33m\u001B[0m\u001B[0m\n\u001B[0;32m     65\u001B[0m             \u001B[1;31m# extra_args > 0\u001B[0m\u001B[1;33m\u001B[0m\u001B[1;33m\u001B[0m\u001B[1;33m\u001B[0m\u001B[0m\n",
      "\u001B[1;32m~\\.conda\\envs\\SeismicPrediction\\lib\\site-packages\\sklearn\\manifold\\_spectral_embedding.py\u001B[0m in \u001B[0;36mspectral_embedding\u001B[1;34m(adjacency, n_components, eigen_solver, random_state, eigen_tol, norm_laplacian, drop_first)\u001B[0m\n\u001B[0;32m    277\u001B[0m             \u001B[0mlaplacian\u001B[0m \u001B[1;33m*=\u001B[0m \u001B[1;33m-\u001B[0m\u001B[1;36m1\u001B[0m\u001B[1;33m\u001B[0m\u001B[1;33m\u001B[0m\u001B[0m\n\u001B[0;32m    278\u001B[0m             \u001B[0mv0\u001B[0m \u001B[1;33m=\u001B[0m \u001B[0m_init_arpack_v0\u001B[0m\u001B[1;33m(\u001B[0m\u001B[0mlaplacian\u001B[0m\u001B[1;33m.\u001B[0m\u001B[0mshape\u001B[0m\u001B[1;33m[\u001B[0m\u001B[1;36m0\u001B[0m\u001B[1;33m]\u001B[0m\u001B[1;33m,\u001B[0m \u001B[0mrandom_state\u001B[0m\u001B[1;33m)\u001B[0m\u001B[1;33m\u001B[0m\u001B[1;33m\u001B[0m\u001B[0m\n\u001B[1;32m--> 279\u001B[1;33m             _, diffusion_map = eigsh(\n\u001B[0m\u001B[0;32m    280\u001B[0m                 \u001B[0mlaplacian\u001B[0m\u001B[1;33m,\u001B[0m \u001B[0mk\u001B[0m\u001B[1;33m=\u001B[0m\u001B[0mn_components\u001B[0m\u001B[1;33m,\u001B[0m \u001B[0msigma\u001B[0m\u001B[1;33m=\u001B[0m\u001B[1;36m1.0\u001B[0m\u001B[1;33m,\u001B[0m \u001B[0mwhich\u001B[0m\u001B[1;33m=\u001B[0m\u001B[1;34m'LM'\u001B[0m\u001B[1;33m,\u001B[0m\u001B[1;33m\u001B[0m\u001B[1;33m\u001B[0m\u001B[0m\n\u001B[0;32m    281\u001B[0m                 tol=eigen_tol, v0=v0)\n",
      "\u001B[1;32m~\\.conda\\envs\\SeismicPrediction\\lib\\site-packages\\scipy\\sparse\\linalg\\eigen\\arpack\\arpack.py\u001B[0m in \u001B[0;36meigsh\u001B[1;34m(A, k, M, sigma, which, v0, ncv, maxiter, tol, return_eigenvectors, Minv, OPinv, mode)\u001B[0m\n\u001B[0;32m   1642\u001B[0m             \u001B[0mmatvec\u001B[0m \u001B[1;33m=\u001B[0m \u001B[1;32mNone\u001B[0m\u001B[1;33m\u001B[0m\u001B[1;33m\u001B[0m\u001B[0m\n\u001B[0;32m   1643\u001B[0m             \u001B[1;32mif\u001B[0m \u001B[0mOPinv\u001B[0m \u001B[1;32mis\u001B[0m \u001B[1;32mNone\u001B[0m\u001B[1;33m:\u001B[0m\u001B[1;33m\u001B[0m\u001B[1;33m\u001B[0m\u001B[0m\n\u001B[1;32m-> 1644\u001B[1;33m                 Minv_matvec = get_OPinv_matvec(A, M, sigma,\n\u001B[0m\u001B[0;32m   1645\u001B[0m                                                hermitian=True, tol=tol)\n\u001B[0;32m   1646\u001B[0m             \u001B[1;32melse\u001B[0m\u001B[1;33m:\u001B[0m\u001B[1;33m\u001B[0m\u001B[1;33m\u001B[0m\u001B[0m\n",
      "\u001B[1;32m~\\.conda\\envs\\SeismicPrediction\\lib\\site-packages\\scipy\\sparse\\linalg\\eigen\\arpack\\arpack.py\u001B[0m in \u001B[0;36mget_OPinv_matvec\u001B[1;34m(A, M, sigma, hermitian, tol)\u001B[0m\n\u001B[0;32m   1071\u001B[0m             \u001B[0mA\u001B[0m \u001B[1;33m=\u001B[0m \u001B[0mA\u001B[0m \u001B[1;33m-\u001B[0m \u001B[0msigma\u001B[0m \u001B[1;33m*\u001B[0m \u001B[0meye\u001B[0m\u001B[1;33m(\u001B[0m\u001B[0mA\u001B[0m\u001B[1;33m.\u001B[0m\u001B[0mshape\u001B[0m\u001B[1;33m[\u001B[0m\u001B[1;36m0\u001B[0m\u001B[1;33m]\u001B[0m\u001B[1;33m)\u001B[0m\u001B[1;33m\u001B[0m\u001B[1;33m\u001B[0m\u001B[0m\n\u001B[0;32m   1072\u001B[0m             \u001B[0mA\u001B[0m \u001B[1;33m=\u001B[0m \u001B[0m_fast_spmatrix_to_csc\u001B[0m\u001B[1;33m(\u001B[0m\u001B[0mA\u001B[0m\u001B[1;33m,\u001B[0m \u001B[0mhermitian\u001B[0m\u001B[1;33m=\u001B[0m\u001B[0mhermitian\u001B[0m\u001B[1;33m)\u001B[0m\u001B[1;33m\u001B[0m\u001B[1;33m\u001B[0m\u001B[0m\n\u001B[1;32m-> 1073\u001B[1;33m             \u001B[1;32mreturn\u001B[0m \u001B[0mSpLuInv\u001B[0m\u001B[1;33m(\u001B[0m\u001B[0mA\u001B[0m\u001B[1;33m)\u001B[0m\u001B[1;33m.\u001B[0m\u001B[0mmatvec\u001B[0m\u001B[1;33m\u001B[0m\u001B[1;33m\u001B[0m\u001B[0m\n\u001B[0m\u001B[0;32m   1074\u001B[0m         \u001B[1;32melse\u001B[0m\u001B[1;33m:\u001B[0m\u001B[1;33m\u001B[0m\u001B[1;33m\u001B[0m\u001B[0m\n\u001B[0;32m   1075\u001B[0m             return IterOpInv(_aslinearoperator_with_dtype(A),\n",
      "\u001B[1;32m~\\.conda\\envs\\SeismicPrediction\\lib\\site-packages\\scipy\\sparse\\linalg\\eigen\\arpack\\arpack.py\u001B[0m in \u001B[0;36m__init__\u001B[1;34m(self, M)\u001B[0m\n\u001B[0;32m    911\u001B[0m     \"\"\"\n\u001B[0;32m    912\u001B[0m     \u001B[1;32mdef\u001B[0m \u001B[0m__init__\u001B[0m\u001B[1;33m(\u001B[0m\u001B[0mself\u001B[0m\u001B[1;33m,\u001B[0m \u001B[0mM\u001B[0m\u001B[1;33m)\u001B[0m\u001B[1;33m:\u001B[0m\u001B[1;33m\u001B[0m\u001B[1;33m\u001B[0m\u001B[0m\n\u001B[1;32m--> 913\u001B[1;33m         \u001B[0mself\u001B[0m\u001B[1;33m.\u001B[0m\u001B[0mM_lu\u001B[0m \u001B[1;33m=\u001B[0m \u001B[0msplu\u001B[0m\u001B[1;33m(\u001B[0m\u001B[0mM\u001B[0m\u001B[1;33m)\u001B[0m\u001B[1;33m\u001B[0m\u001B[1;33m\u001B[0m\u001B[0m\n\u001B[0m\u001B[0;32m    914\u001B[0m         \u001B[0mself\u001B[0m\u001B[1;33m.\u001B[0m\u001B[0mshape\u001B[0m \u001B[1;33m=\u001B[0m \u001B[0mM\u001B[0m\u001B[1;33m.\u001B[0m\u001B[0mshape\u001B[0m\u001B[1;33m\u001B[0m\u001B[1;33m\u001B[0m\u001B[0m\n\u001B[0;32m    915\u001B[0m         \u001B[0mself\u001B[0m\u001B[1;33m.\u001B[0m\u001B[0mdtype\u001B[0m \u001B[1;33m=\u001B[0m \u001B[0mM\u001B[0m\u001B[1;33m.\u001B[0m\u001B[0mdtype\u001B[0m\u001B[1;33m\u001B[0m\u001B[1;33m\u001B[0m\u001B[0m\n",
      "\u001B[1;32m~\\.conda\\envs\\SeismicPrediction\\lib\\site-packages\\scipy\\sparse\\linalg\\dsolve\\linsolve.py\u001B[0m in \u001B[0;36msplu\u001B[1;34m(A, permc_spec, diag_pivot_thresh, relax, panel_size, options)\u001B[0m\n\u001B[0;32m    335\u001B[0m         \u001B[0m_options\u001B[0m\u001B[1;33m[\u001B[0m\u001B[1;34m\"SymmetricMode\"\u001B[0m\u001B[1;33m]\u001B[0m \u001B[1;33m=\u001B[0m \u001B[1;32mTrue\u001B[0m\u001B[1;33m\u001B[0m\u001B[1;33m\u001B[0m\u001B[0m\n\u001B[0;32m    336\u001B[0m \u001B[1;33m\u001B[0m\u001B[0m\n\u001B[1;32m--> 337\u001B[1;33m     return _superlu.gstrf(N, A.nnz, A.data, A.indices, A.indptr,\n\u001B[0m\u001B[0;32m    338\u001B[0m                           \u001B[0mcsc_construct_func\u001B[0m\u001B[1;33m=\u001B[0m\u001B[0mcsc_construct_func\u001B[0m\u001B[1;33m,\u001B[0m\u001B[1;33m\u001B[0m\u001B[1;33m\u001B[0m\u001B[0m\n\u001B[0;32m    339\u001B[0m                           ilu=False, options=_options)\n",
      "\u001B[1;31mSystemError\u001B[0m: gstrf was called with invalid arguments"
     ]
    }
   ],
   "source": [
    "Embedding  = SpectralEmbedding(n_components=2)\n",
    "Embedding.fit(X_norm32, Y_norm32)"
   ],
   "metadata": {
    "collapsed": false,
    "pycharm": {
     "name": "#%%\n"
    }
   }
  },
  {
   "cell_type": "code",
   "execution_count": null,
   "outputs": [],
   "source": [],
   "metadata": {
    "collapsed": false,
    "pycharm": {
     "name": "#%%\n"
    }
   }
  }
 ],
 "metadata": {
  "kernelspec": {
   "name": "pycharm-3da3cc3d",
   "language": "python",
   "display_name": "PyCharm (SeismicPrediction)"
  },
  "language_info": {
   "codemirror_mode": {
    "name": "ipython",
    "version": 2
   },
   "file_extension": ".py",
   "mimetype": "text/x-python",
   "name": "python",
   "nbconvert_exporter": "python",
   "pygments_lexer": "ipython2",
   "version": "2.7.6"
  }
 },
 "nbformat": 4,
 "nbformat_minor": 0
}