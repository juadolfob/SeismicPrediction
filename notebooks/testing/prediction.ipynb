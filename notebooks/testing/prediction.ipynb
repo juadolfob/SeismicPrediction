{
 "cells": [
  {
   "cell_type": "code",
   "execution_count": 1,
   "outputs": [],
   "source": [
    "import matplotlib.pyplot as plt\n",
    "import numpy as np\n",
    "import numpy_ext as npext\n",
    "import pandas as pd\n",
    "import pyximport\n",
    "\n",
    "pyximport.install(language_level=3,\n",
    "                  setup_args={'include_dirs': [np.get_include(), npext.np.get_include()]})\n",
    "from matplotlib import cm\n",
    "from sklearn.decomposition import PCA\n",
    "from sklearn.manifold import Isomap, SpectralEmbedding\n",
    "from sklearn.preprocessing import MinMaxScaler\n",
    "import model\n",
    "from model import CalculateFeatures, SelectFeatures\n",
    "%matplotlib qt\n"
   ],
   "metadata": {
    "collapsed": false,
    "pycharm": {
     "name": "#%%\n"
    }
   }
  },
  {
   "cell_type": "code",
   "execution_count": 2,
   "outputs": [
    {
     "data": {
      "text/plain": "   Magnitude  Latitude  Longitude  Depth            Datetime\n0        3.9   16.8023   -94.9130  114.9 2017-01-01 00:54:31\n1        3.9   15.2842   -93.1210  100.7 2017-01-01 04:10:39\n2        3.9   17.4503   -94.9543  138.3 2017-01-01 04:23:51\n3        3.9   16.4077   -93.7075  139.4 2017-01-01 04:26:01\n4        4.1   16.7017   -98.8633   27.5 2017-01-01 08:49:23",
      "text/html": "<div>\n<style scoped>\n    .dataframe tbody tr th:only-of-type {\n        vertical-align: middle;\n    }\n\n    .dataframe tbody tr th {\n        vertical-align: top;\n    }\n\n    .dataframe thead th {\n        text-align: right;\n    }\n</style>\n<table border=\"1\" class=\"dataframe\">\n  <thead>\n    <tr style=\"text-align: right;\">\n      <th></th>\n      <th>Magnitude</th>\n      <th>Latitude</th>\n      <th>Longitude</th>\n      <th>Depth</th>\n      <th>Datetime</th>\n    </tr>\n  </thead>\n  <tbody>\n    <tr>\n      <th>0</th>\n      <td>3.9</td>\n      <td>16.8023</td>\n      <td>-94.9130</td>\n      <td>114.9</td>\n      <td>2017-01-01 00:54:31</td>\n    </tr>\n    <tr>\n      <th>1</th>\n      <td>3.9</td>\n      <td>15.2842</td>\n      <td>-93.1210</td>\n      <td>100.7</td>\n      <td>2017-01-01 04:10:39</td>\n    </tr>\n    <tr>\n      <th>2</th>\n      <td>3.9</td>\n      <td>17.4503</td>\n      <td>-94.9543</td>\n      <td>138.3</td>\n      <td>2017-01-01 04:23:51</td>\n    </tr>\n    <tr>\n      <th>3</th>\n      <td>3.9</td>\n      <td>16.4077</td>\n      <td>-93.7075</td>\n      <td>139.4</td>\n      <td>2017-01-01 04:26:01</td>\n    </tr>\n    <tr>\n      <th>4</th>\n      <td>4.1</td>\n      <td>16.7017</td>\n      <td>-98.8633</td>\n      <td>27.5</td>\n      <td>2017-01-01 08:49:23</td>\n    </tr>\n  </tbody>\n</table>\n</div>"
     },
     "execution_count": 2,
     "metadata": {},
     "output_type": "execute_result"
    }
   ],
   "source": [
    "pdf = pd.DataFrame\n",
    "df = model.load_data('../../data/DATA_3_south.csv')\n",
    "df.head()"
   ],
   "metadata": {
    "collapsed": false,
    "pycharm": {
     "name": "#%%\n"
    }
   }
  },
  {
   "cell_type": "code",
   "execution_count": 3,
   "outputs": [],
   "source": [
    "df_model = CalculateFeatures(df, 50, trim_features=True)"
   ],
   "metadata": {
    "collapsed": false,
    "pycharm": {
     "name": "#%%\n"
    }
   }
  },
  {
   "cell_type": "code",
   "execution_count": 4,
   "outputs": [
    {
     "data": {
      "text/plain": "   old_index              firstT               lastT  meanMag  maxAMag  \\\n0         72 2017-01-02 04:22:50 2017-01-08 00:57:59    3.968      4.8   \n1         73 2017-01-02 06:34:09 2017-01-08 11:24:47    3.964      4.8   \n2         74 2017-01-02 07:16:36 2017-01-08 12:16:03    3.978      4.8   \n3         75 2017-01-02 08:31:38 2017-01-08 21:15:56    3.978      4.8   \n4         76 2017-01-02 14:48:51 2017-01-08 22:53:08    3.982      4.8   \n\n    maxEMag    magDef        a         b      bStd     grcStd  elapsedT  \\\n0  4.621209  0.178791  9.59308  2.075881  0.234991  42.276599    506109   \n1  4.603285  0.196715  9.75370  2.118856  0.246455  42.326895    535838   \n2  4.661154  0.138846  9.19042  1.971705  0.236863  24.754354    536367   \n3  4.661154  0.138846  9.19042  1.971705  0.236863  24.754354    564258   \n4  4.678352  0.121648  9.05955  1.936483  0.226983  24.719963    547457   \n\n   rateSqrtEnergy         meanT      meanTStd          pMag  \\\n0    80703.020164  10328.755102  1.483613e+09  3.505225e-13   \n1    75792.567758  10935.469388  1.483623e+09  1.935804e-13   \n2    78645.619778  10946.265306  1.483634e+09  1.478329e-12   \n3    74758.204835  11515.469388  1.483644e+09  1.478329e-12   \n4    77476.225627  11172.591837  1.483656e+09  2.404915e-12   \n\n   zSeismicRateChange  bSeismicRateChange  lastDMaxMag  nextDMaxMag  \n0          180.138835           -6.383146          4.8          5.0  \n1         1219.200558          292.410678          4.8          5.0  \n2          162.634560            5.059640          4.8          5.0  \n3         1180.910666          266.499676          4.8          5.0  \n4          916.542416         -156.641921          4.8          5.0  ",
      "text/html": "<div>\n<style scoped>\n    .dataframe tbody tr th:only-of-type {\n        vertical-align: middle;\n    }\n\n    .dataframe tbody tr th {\n        vertical-align: top;\n    }\n\n    .dataframe thead th {\n        text-align: right;\n    }\n</style>\n<table border=\"1\" class=\"dataframe\">\n  <thead>\n    <tr style=\"text-align: right;\">\n      <th></th>\n      <th>old_index</th>\n      <th>firstT</th>\n      <th>lastT</th>\n      <th>meanMag</th>\n      <th>maxAMag</th>\n      <th>maxEMag</th>\n      <th>magDef</th>\n      <th>a</th>\n      <th>b</th>\n      <th>bStd</th>\n      <th>grcStd</th>\n      <th>elapsedT</th>\n      <th>rateSqrtEnergy</th>\n      <th>meanT</th>\n      <th>meanTStd</th>\n      <th>pMag</th>\n      <th>zSeismicRateChange</th>\n      <th>bSeismicRateChange</th>\n      <th>lastDMaxMag</th>\n      <th>nextDMaxMag</th>\n    </tr>\n  </thead>\n  <tbody>\n    <tr>\n      <th>0</th>\n      <td>72</td>\n      <td>2017-01-02 04:22:50</td>\n      <td>2017-01-08 00:57:59</td>\n      <td>3.968</td>\n      <td>4.8</td>\n      <td>4.621209</td>\n      <td>0.178791</td>\n      <td>9.59308</td>\n      <td>2.075881</td>\n      <td>0.234991</td>\n      <td>42.276599</td>\n      <td>506109</td>\n      <td>80703.020164</td>\n      <td>10328.755102</td>\n      <td>1.483613e+09</td>\n      <td>3.505225e-13</td>\n      <td>180.138835</td>\n      <td>-6.383146</td>\n      <td>4.8</td>\n      <td>5.0</td>\n    </tr>\n    <tr>\n      <th>1</th>\n      <td>73</td>\n      <td>2017-01-02 06:34:09</td>\n      <td>2017-01-08 11:24:47</td>\n      <td>3.964</td>\n      <td>4.8</td>\n      <td>4.603285</td>\n      <td>0.196715</td>\n      <td>9.75370</td>\n      <td>2.118856</td>\n      <td>0.246455</td>\n      <td>42.326895</td>\n      <td>535838</td>\n      <td>75792.567758</td>\n      <td>10935.469388</td>\n      <td>1.483623e+09</td>\n      <td>1.935804e-13</td>\n      <td>1219.200558</td>\n      <td>292.410678</td>\n      <td>4.8</td>\n      <td>5.0</td>\n    </tr>\n    <tr>\n      <th>2</th>\n      <td>74</td>\n      <td>2017-01-02 07:16:36</td>\n      <td>2017-01-08 12:16:03</td>\n      <td>3.978</td>\n      <td>4.8</td>\n      <td>4.661154</td>\n      <td>0.138846</td>\n      <td>9.19042</td>\n      <td>1.971705</td>\n      <td>0.236863</td>\n      <td>24.754354</td>\n      <td>536367</td>\n      <td>78645.619778</td>\n      <td>10946.265306</td>\n      <td>1.483634e+09</td>\n      <td>1.478329e-12</td>\n      <td>162.634560</td>\n      <td>5.059640</td>\n      <td>4.8</td>\n      <td>5.0</td>\n    </tr>\n    <tr>\n      <th>3</th>\n      <td>75</td>\n      <td>2017-01-02 08:31:38</td>\n      <td>2017-01-08 21:15:56</td>\n      <td>3.978</td>\n      <td>4.8</td>\n      <td>4.661154</td>\n      <td>0.138846</td>\n      <td>9.19042</td>\n      <td>1.971705</td>\n      <td>0.236863</td>\n      <td>24.754354</td>\n      <td>564258</td>\n      <td>74758.204835</td>\n      <td>11515.469388</td>\n      <td>1.483644e+09</td>\n      <td>1.478329e-12</td>\n      <td>1180.910666</td>\n      <td>266.499676</td>\n      <td>4.8</td>\n      <td>5.0</td>\n    </tr>\n    <tr>\n      <th>4</th>\n      <td>76</td>\n      <td>2017-01-02 14:48:51</td>\n      <td>2017-01-08 22:53:08</td>\n      <td>3.982</td>\n      <td>4.8</td>\n      <td>4.678352</td>\n      <td>0.121648</td>\n      <td>9.05955</td>\n      <td>1.936483</td>\n      <td>0.226983</td>\n      <td>24.719963</td>\n      <td>547457</td>\n      <td>77476.225627</td>\n      <td>11172.591837</td>\n      <td>1.483656e+09</td>\n      <td>2.404915e-12</td>\n      <td>916.542416</td>\n      <td>-156.641921</td>\n      <td>4.8</td>\n      <td>5.0</td>\n    </tr>\n  </tbody>\n</table>\n</div>"
     },
     "execution_count": 4,
     "metadata": {},
     "output_type": "execute_result"
    }
   ],
   "source": [
    "features = df_model.features\n",
    "features.head()"
   ],
   "metadata": {
    "collapsed": false,
    "pycharm": {
     "name": "#%%\n"
    }
   }
  },
  {
   "cell_type": "code",
   "execution_count": 8,
   "outputs": [],
   "source": [
    "df_model.features.to_csv(\"../../model/features_cache/features.csv\", index=False)"
   ],
   "metadata": {
    "collapsed": false,
    "pycharm": {
     "name": "#%%\n"
    }
   }
  },
  {
   "cell_type": "code",
   "execution_count": 9,
   "outputs": [],
   "source": [
    "features.sort_values('nextDMaxMag',inplace=True)"
   ],
   "metadata": {
    "collapsed": false,
    "pycharm": {
     "name": "#%%\n"
    }
   }
  },
  {
   "cell_type": "code",
   "execution_count": 10,
   "outputs": [],
   "source": [
    "X = features[model.FEATURES]\n",
    "Y = features[model.TARGETS]\n",
    "selected_features = SelectFeatures(features=X, targets=Y, corr_threshold=.95, fixed_features=[\"b\"])\n",
    "\n",
    "X = X[selected_features[0]].to_numpy()\n",
    "Y = Y.to_numpy()"
   ],
   "metadata": {
    "collapsed": false,
    "pycharm": {
     "name": "#%% FEATURE SELECTION\n"
    }
   }
  },
  {
   "cell_type": "code",
   "execution_count": 11,
   "outputs": [],
   "source": [
    "Y_Scaler = MinMaxScaler()\n",
    "X_Scaler = MinMaxScaler()\n",
    "X_norm64 = X_Scaler.fit_transform(X)\n",
    "Y_norm64 = Y_Scaler.fit_transform(Y)\n",
    "X_norm32 = X_norm64.astype(np.float32)\n",
    "Y_norm32 = Y_norm64.astype(np.float32)"
   ],
   "metadata": {
    "collapsed": false,
    "pycharm": {
     "name": "#%% NORMALIZE DATA & SHORTEN DATA\n"
    }
   }
  },
  {
   "cell_type": "code",
   "execution_count": 12,
   "outputs": [],
   "source": [
    "# evaluate isomap with logistic regression algorithm for classification\n",
    "pca = PCA(n_components=2)\n",
    "pca.fit(X_norm64.T, Y_norm64.T)\n",
    "pca_components = pca.components_"
   ],
   "metadata": {
    "collapsed": false,
    "pycharm": {
     "name": "#%%\n"
    }
   }
  },
  {
   "cell_type": "code",
   "execution_count": 13,
   "outputs": [],
   "source": [
    "cmap = cm.get_cmap(\"viridis\")\n",
    "colors = list(map(cmap, Y_norm64.T[0]))\n",
    "sizes = np.power(10, Y_norm64.T[0])"
   ],
   "metadata": {
    "collapsed": false,
    "pycharm": {
     "name": "#%%\n"
    }
   }
  },
  {
   "cell_type": "code",
   "source": [
    "%matplotlib qt\n",
    "plt.scatter(pca_components[0], pca_components[1], s=sizes, color=colors)"
   ],
   "metadata": {
    "collapsed": false,
    "pycharm": {
     "name": "#%%\n"
    }
   },
   "execution_count": 14,
   "outputs": [
    {
     "data": {
      "text/plain": "<matplotlib.collections.PathCollection at 0x1f96f16bbb0>"
     },
     "execution_count": 14,
     "metadata": {},
     "output_type": "execute_result"
    }
   ]
  },
  {
   "cell_type": "code",
   "execution_count": 31,
   "outputs": [],
   "source": [
    "import seaborn as sn\n",
    "import matplotlib.pyplot as plt\n",
    "\n",
    "corrMatrix = df_model.features.corr()\n",
    "sn.heatmap(corrMatrix, annot=True)\n",
    "plt.show()\n"
   ],
   "metadata": {
    "collapsed": false,
    "pycharm": {
     "name": "#%%\n"
    }
   }
  },
  {
   "cell_type": "code",
   "execution_count": 39,
   "outputs": [],
   "source": [
    "embedding = Isomap(n_components=2)\n",
    "X_transformed = embedding.fit_transform(X_norm32, Y_norm32)"
   ],
   "metadata": {
    "collapsed": false,
    "pycharm": {
     "name": "#%%\n"
    }
   }
  },
  {
   "cell_type": "markdown",
   "source": [
    "%matplotlib qt\n",
    "fix, ax = plt.subplots()\n",
    "ax.set_facecolor((0, 0, .420, 0.125))\n",
    "ax.scatter(X_transformed.T[0], X_transformed.T[1], s=sizes, color=colors)"
   ],
   "metadata": {
    "collapsed": false,
    "pycharm": {
     "name": "#%% md\n"
    }
   }
  },
  {
   "cell_type": "code",
   "execution_count": 183,
   "outputs": [
    {
     "data": {
      "text/plain": "[]"
     },
     "execution_count": 183,
     "metadata": {},
     "output_type": "execute_result"
    }
   ],
   "source": [
    "import matplotlib.pyplot as plt\n",
    "% matplotlib qt\n",
    "\n",
    "fig, ax = plt.subplots()\n",
    "num_ticks = np.round((Y_Scaler.data_max_ - Y_Scaler.data_min_) * 10 + 1).astype(int)[0]\n",
    "labels = np.round(np.linspace(Y_Scaler.data_min_, Y_Scaler.data_max_, num=num_ticks).T[0], 1)\n",
    "ticks = np.linspace(0, 1, num=num_ticks)[np.isin(labels, np.unique(Y))]\n",
    "cax = plt.scatter(X_transformed.T[0], X_transformed.T[1], s=sizes, color=colors)\n",
    "\n",
    "cbar = fig.colorbar(cax, ticks=ticks)\n",
    "cbar.ax.set_yticklabels(np.unique(Y))\n",
    "plt.plot()"
   ],
   "metadata": {
    "collapsed": false,
    "pycharm": {
     "name": "#%%\n"
    }
   }
  },
  {
   "cell_type": "code",
   "execution_count": null,
   "outputs": [],
   "source": [
    "% matplotlib qt\n",
    "import seaborn as sns\n",
    "import matplotlib.pyplot as plt\n",
    "\n",
    "corrMatrix = features.corr()\n",
    "\n",
    "sns.heatmap(corrMatrix, annot=True, cmap=\"bwr\")\n",
    "plt.show()\n"
   ],
   "metadata": {
    "collapsed": false,
    "pycharm": {
     "name": "#%%\n"
    }
   }
  },
  {
   "cell_type": "code",
   "execution_count": 191,
   "outputs": [
    {
     "ename": "SystemError",
     "evalue": "gstrf was called with invalid arguments",
     "output_type": "error",
     "traceback": [
      "\u001B[1;31m---------------------------------------------------------------------------\u001B[0m",
      "\u001B[1;31mSystemError\u001B[0m                               Traceback (most recent call last)",
      "\u001B[1;32m~\\AppData\\Local\\Temp/ipykernel_5640/2414020943.py\u001B[0m in \u001B[0;36m<module>\u001B[1;34m\u001B[0m\n\u001B[0;32m      1\u001B[0m \u001B[0mEmbedding\u001B[0m  \u001B[1;33m=\u001B[0m \u001B[0mSpectralEmbedding\u001B[0m\u001B[1;33m(\u001B[0m\u001B[0mn_components\u001B[0m\u001B[1;33m=\u001B[0m\u001B[1;36m2\u001B[0m\u001B[1;33m)\u001B[0m\u001B[1;33m\u001B[0m\u001B[1;33m\u001B[0m\u001B[0m\n\u001B[1;32m----> 2\u001B[1;33m \u001B[0mEmbedding\u001B[0m\u001B[1;33m.\u001B[0m\u001B[0mfit\u001B[0m\u001B[1;33m(\u001B[0m\u001B[0mX_norm32\u001B[0m\u001B[1;33m,\u001B[0m \u001B[0mY_norm32\u001B[0m\u001B[1;33m)\u001B[0m\u001B[1;33m\u001B[0m\u001B[1;33m\u001B[0m\u001B[0m\n\u001B[0m",
      "\u001B[1;32m~\\.conda\\envs\\SeismicPrediction\\lib\\site-packages\\sklearn\\manifold\\_spectral_embedding.py\u001B[0m in \u001B[0;36mfit\u001B[1;34m(self, X, y)\u001B[0m\n\u001B[0;32m    573\u001B[0m \u001B[1;33m\u001B[0m\u001B[0m\n\u001B[0;32m    574\u001B[0m         \u001B[0maffinity_matrix\u001B[0m \u001B[1;33m=\u001B[0m \u001B[0mself\u001B[0m\u001B[1;33m.\u001B[0m\u001B[0m_get_affinity_matrix\u001B[0m\u001B[1;33m(\u001B[0m\u001B[0mX\u001B[0m\u001B[1;33m)\u001B[0m\u001B[1;33m\u001B[0m\u001B[1;33m\u001B[0m\u001B[0m\n\u001B[1;32m--> 575\u001B[1;33m         self.embedding_ = spectral_embedding(affinity_matrix,\n\u001B[0m\u001B[0;32m    576\u001B[0m                                              \u001B[0mn_components\u001B[0m\u001B[1;33m=\u001B[0m\u001B[0mself\u001B[0m\u001B[1;33m.\u001B[0m\u001B[0mn_components\u001B[0m\u001B[1;33m,\u001B[0m\u001B[1;33m\u001B[0m\u001B[1;33m\u001B[0m\u001B[0m\n\u001B[0;32m    577\u001B[0m                                              \u001B[0meigen_solver\u001B[0m\u001B[1;33m=\u001B[0m\u001B[0mself\u001B[0m\u001B[1;33m.\u001B[0m\u001B[0meigen_solver\u001B[0m\u001B[1;33m,\u001B[0m\u001B[1;33m\u001B[0m\u001B[1;33m\u001B[0m\u001B[0m\n",
      "\u001B[1;32m~\\.conda\\envs\\SeismicPrediction\\lib\\site-packages\\sklearn\\utils\\validation.py\u001B[0m in \u001B[0;36minner_f\u001B[1;34m(*args, **kwargs)\u001B[0m\n\u001B[0;32m     61\u001B[0m             \u001B[0mextra_args\u001B[0m \u001B[1;33m=\u001B[0m \u001B[0mlen\u001B[0m\u001B[1;33m(\u001B[0m\u001B[0margs\u001B[0m\u001B[1;33m)\u001B[0m \u001B[1;33m-\u001B[0m \u001B[0mlen\u001B[0m\u001B[1;33m(\u001B[0m\u001B[0mall_args\u001B[0m\u001B[1;33m)\u001B[0m\u001B[1;33m\u001B[0m\u001B[1;33m\u001B[0m\u001B[0m\n\u001B[0;32m     62\u001B[0m             \u001B[1;32mif\u001B[0m \u001B[0mextra_args\u001B[0m \u001B[1;33m<=\u001B[0m \u001B[1;36m0\u001B[0m\u001B[1;33m:\u001B[0m\u001B[1;33m\u001B[0m\u001B[1;33m\u001B[0m\u001B[0m\n\u001B[1;32m---> 63\u001B[1;33m                 \u001B[1;32mreturn\u001B[0m \u001B[0mf\u001B[0m\u001B[1;33m(\u001B[0m\u001B[1;33m*\u001B[0m\u001B[0margs\u001B[0m\u001B[1;33m,\u001B[0m \u001B[1;33m**\u001B[0m\u001B[0mkwargs\u001B[0m\u001B[1;33m)\u001B[0m\u001B[1;33m\u001B[0m\u001B[1;33m\u001B[0m\u001B[0m\n\u001B[0m\u001B[0;32m     64\u001B[0m \u001B[1;33m\u001B[0m\u001B[0m\n\u001B[0;32m     65\u001B[0m             \u001B[1;31m# extra_args > 0\u001B[0m\u001B[1;33m\u001B[0m\u001B[1;33m\u001B[0m\u001B[1;33m\u001B[0m\u001B[0m\n",
      "\u001B[1;32m~\\.conda\\envs\\SeismicPrediction\\lib\\site-packages\\sklearn\\manifold\\_spectral_embedding.py\u001B[0m in \u001B[0;36mspectral_embedding\u001B[1;34m(adjacency, n_components, eigen_solver, random_state, eigen_tol, norm_laplacian, drop_first)\u001B[0m\n\u001B[0;32m    277\u001B[0m             \u001B[0mlaplacian\u001B[0m \u001B[1;33m*=\u001B[0m \u001B[1;33m-\u001B[0m\u001B[1;36m1\u001B[0m\u001B[1;33m\u001B[0m\u001B[1;33m\u001B[0m\u001B[0m\n\u001B[0;32m    278\u001B[0m             \u001B[0mv0\u001B[0m \u001B[1;33m=\u001B[0m \u001B[0m_init_arpack_v0\u001B[0m\u001B[1;33m(\u001B[0m\u001B[0mlaplacian\u001B[0m\u001B[1;33m.\u001B[0m\u001B[0mshape\u001B[0m\u001B[1;33m[\u001B[0m\u001B[1;36m0\u001B[0m\u001B[1;33m]\u001B[0m\u001B[1;33m,\u001B[0m \u001B[0mrandom_state\u001B[0m\u001B[1;33m)\u001B[0m\u001B[1;33m\u001B[0m\u001B[1;33m\u001B[0m\u001B[0m\n\u001B[1;32m--> 279\u001B[1;33m             _, diffusion_map = eigsh(\n\u001B[0m\u001B[0;32m    280\u001B[0m                 \u001B[0mlaplacian\u001B[0m\u001B[1;33m,\u001B[0m \u001B[0mk\u001B[0m\u001B[1;33m=\u001B[0m\u001B[0mn_components\u001B[0m\u001B[1;33m,\u001B[0m \u001B[0msigma\u001B[0m\u001B[1;33m=\u001B[0m\u001B[1;36m1.0\u001B[0m\u001B[1;33m,\u001B[0m \u001B[0mwhich\u001B[0m\u001B[1;33m=\u001B[0m\u001B[1;34m'LM'\u001B[0m\u001B[1;33m,\u001B[0m\u001B[1;33m\u001B[0m\u001B[1;33m\u001B[0m\u001B[0m\n\u001B[0;32m    281\u001B[0m                 tol=eigen_tol, v0=v0)\n",
      "\u001B[1;32m~\\.conda\\envs\\SeismicPrediction\\lib\\site-packages\\scipy\\sparse\\linalg\\eigen\\arpack\\arpack.py\u001B[0m in \u001B[0;36meigsh\u001B[1;34m(A, k, M, sigma, which, v0, ncv, maxiter, tol, return_eigenvectors, Minv, OPinv, mode)\u001B[0m\n\u001B[0;32m   1642\u001B[0m             \u001B[0mmatvec\u001B[0m \u001B[1;33m=\u001B[0m \u001B[1;32mNone\u001B[0m\u001B[1;33m\u001B[0m\u001B[1;33m\u001B[0m\u001B[0m\n\u001B[0;32m   1643\u001B[0m             \u001B[1;32mif\u001B[0m \u001B[0mOPinv\u001B[0m \u001B[1;32mis\u001B[0m \u001B[1;32mNone\u001B[0m\u001B[1;33m:\u001B[0m\u001B[1;33m\u001B[0m\u001B[1;33m\u001B[0m\u001B[0m\n\u001B[1;32m-> 1644\u001B[1;33m                 Minv_matvec = get_OPinv_matvec(A, M, sigma,\n\u001B[0m\u001B[0;32m   1645\u001B[0m                                                hermitian=True, tol=tol)\n\u001B[0;32m   1646\u001B[0m             \u001B[1;32melse\u001B[0m\u001B[1;33m:\u001B[0m\u001B[1;33m\u001B[0m\u001B[1;33m\u001B[0m\u001B[0m\n",
      "\u001B[1;32m~\\.conda\\envs\\SeismicPrediction\\lib\\site-packages\\scipy\\sparse\\linalg\\eigen\\arpack\\arpack.py\u001B[0m in \u001B[0;36mget_OPinv_matvec\u001B[1;34m(A, M, sigma, hermitian, tol)\u001B[0m\n\u001B[0;32m   1071\u001B[0m             \u001B[0mA\u001B[0m \u001B[1;33m=\u001B[0m \u001B[0mA\u001B[0m \u001B[1;33m-\u001B[0m \u001B[0msigma\u001B[0m \u001B[1;33m*\u001B[0m \u001B[0meye\u001B[0m\u001B[1;33m(\u001B[0m\u001B[0mA\u001B[0m\u001B[1;33m.\u001B[0m\u001B[0mshape\u001B[0m\u001B[1;33m[\u001B[0m\u001B[1;36m0\u001B[0m\u001B[1;33m]\u001B[0m\u001B[1;33m)\u001B[0m\u001B[1;33m\u001B[0m\u001B[1;33m\u001B[0m\u001B[0m\n\u001B[0;32m   1072\u001B[0m             \u001B[0mA\u001B[0m \u001B[1;33m=\u001B[0m \u001B[0m_fast_spmatrix_to_csc\u001B[0m\u001B[1;33m(\u001B[0m\u001B[0mA\u001B[0m\u001B[1;33m,\u001B[0m \u001B[0mhermitian\u001B[0m\u001B[1;33m=\u001B[0m\u001B[0mhermitian\u001B[0m\u001B[1;33m)\u001B[0m\u001B[1;33m\u001B[0m\u001B[1;33m\u001B[0m\u001B[0m\n\u001B[1;32m-> 1073\u001B[1;33m             \u001B[1;32mreturn\u001B[0m \u001B[0mSpLuInv\u001B[0m\u001B[1;33m(\u001B[0m\u001B[0mA\u001B[0m\u001B[1;33m)\u001B[0m\u001B[1;33m.\u001B[0m\u001B[0mmatvec\u001B[0m\u001B[1;33m\u001B[0m\u001B[1;33m\u001B[0m\u001B[0m\n\u001B[0m\u001B[0;32m   1074\u001B[0m         \u001B[1;32melse\u001B[0m\u001B[1;33m:\u001B[0m\u001B[1;33m\u001B[0m\u001B[1;33m\u001B[0m\u001B[0m\n\u001B[0;32m   1075\u001B[0m             return IterOpInv(_aslinearoperator_with_dtype(A),\n",
      "\u001B[1;32m~\\.conda\\envs\\SeismicPrediction\\lib\\site-packages\\scipy\\sparse\\linalg\\eigen\\arpack\\arpack.py\u001B[0m in \u001B[0;36m__init__\u001B[1;34m(self, M)\u001B[0m\n\u001B[0;32m    911\u001B[0m     \"\"\"\n\u001B[0;32m    912\u001B[0m     \u001B[1;32mdef\u001B[0m \u001B[0m__init__\u001B[0m\u001B[1;33m(\u001B[0m\u001B[0mself\u001B[0m\u001B[1;33m,\u001B[0m \u001B[0mM\u001B[0m\u001B[1;33m)\u001B[0m\u001B[1;33m:\u001B[0m\u001B[1;33m\u001B[0m\u001B[1;33m\u001B[0m\u001B[0m\n\u001B[1;32m--> 913\u001B[1;33m         \u001B[0mself\u001B[0m\u001B[1;33m.\u001B[0m\u001B[0mM_lu\u001B[0m \u001B[1;33m=\u001B[0m \u001B[0msplu\u001B[0m\u001B[1;33m(\u001B[0m\u001B[0mM\u001B[0m\u001B[1;33m)\u001B[0m\u001B[1;33m\u001B[0m\u001B[1;33m\u001B[0m\u001B[0m\n\u001B[0m\u001B[0;32m    914\u001B[0m         \u001B[0mself\u001B[0m\u001B[1;33m.\u001B[0m\u001B[0mshape\u001B[0m \u001B[1;33m=\u001B[0m \u001B[0mM\u001B[0m\u001B[1;33m.\u001B[0m\u001B[0mshape\u001B[0m\u001B[1;33m\u001B[0m\u001B[1;33m\u001B[0m\u001B[0m\n\u001B[0;32m    915\u001B[0m         \u001B[0mself\u001B[0m\u001B[1;33m.\u001B[0m\u001B[0mdtype\u001B[0m \u001B[1;33m=\u001B[0m \u001B[0mM\u001B[0m\u001B[1;33m.\u001B[0m\u001B[0mdtype\u001B[0m\u001B[1;33m\u001B[0m\u001B[1;33m\u001B[0m\u001B[0m\n",
      "\u001B[1;32m~\\.conda\\envs\\SeismicPrediction\\lib\\site-packages\\scipy\\sparse\\linalg\\dsolve\\linsolve.py\u001B[0m in \u001B[0;36msplu\u001B[1;34m(A, permc_spec, diag_pivot_thresh, relax, panel_size, options)\u001B[0m\n\u001B[0;32m    335\u001B[0m         \u001B[0m_options\u001B[0m\u001B[1;33m[\u001B[0m\u001B[1;34m\"SymmetricMode\"\u001B[0m\u001B[1;33m]\u001B[0m \u001B[1;33m=\u001B[0m \u001B[1;32mTrue\u001B[0m\u001B[1;33m\u001B[0m\u001B[1;33m\u001B[0m\u001B[0m\n\u001B[0;32m    336\u001B[0m \u001B[1;33m\u001B[0m\u001B[0m\n\u001B[1;32m--> 337\u001B[1;33m     return _superlu.gstrf(N, A.nnz, A.data, A.indices, A.indptr,\n\u001B[0m\u001B[0;32m    338\u001B[0m                           \u001B[0mcsc_construct_func\u001B[0m\u001B[1;33m=\u001B[0m\u001B[0mcsc_construct_func\u001B[0m\u001B[1;33m,\u001B[0m\u001B[1;33m\u001B[0m\u001B[1;33m\u001B[0m\u001B[0m\n\u001B[0;32m    339\u001B[0m                           ilu=False, options=_options)\n",
      "\u001B[1;31mSystemError\u001B[0m: gstrf was called with invalid arguments"
     ]
    }
   ],
   "source": [
    "Embedding = SpectralEmbedding(n_components=2)\n",
    "Embedding.fit(X_norm32, Y_norm32)"
   ],
   "metadata": {
    "collapsed": false,
    "pycharm": {
     "name": "#%%\n"
    }
   }
  },
  {
   "cell_type": "code",
   "execution_count": null,
   "outputs": [],
   "source": [],
   "metadata": {
    "collapsed": false,
    "pycharm": {
     "name": "#%%\n"
    }
   }
  }
 ],
 "metadata": {
  "kernelspec": {
   "name": "seismicprediction",
   "language": "python",
   "display_name": "SeismicPrediction"
  },
  "language_info": {
   "codemirror_mode": {
    "name": "ipython",
    "version": 2
   },
   "file_extension": ".py",
   "mimetype": "text/x-python",
   "name": "python",
   "nbconvert_exporter": "python",
   "pygments_lexer": "ipython2",
   "version": "2.7.6"
  }
 },
 "nbformat": 4,
 "nbformat_minor": 0
}