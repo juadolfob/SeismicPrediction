{
 "cells": [
  {
   "cell_type": "code",
   "execution_count": 209,
   "outputs": [],
   "source": [
    "import matplotlib.pyplot as plt\n",
    "import numpy as np\n",
    "import pandas as pd\n",
    "from matplotlib import cm\n",
    "from sklearn.decomposition import PCA\n",
    "from sklearn.manifold import Isomap\n",
    "from sklearn.preprocessing import MinMaxScaler\n",
    "from model.feature_selection import feature_selection\n",
    "from model.calculate_features import CalculateFeatures\n",
    "from model.feature_selection import feature_selection\n",
    "%matplotlib qt\n"
   ],
   "metadata": {
    "collapsed": false,
    "pycharm": {
     "name": "#%%\n"
    }
   }
  },
  {
   "cell_type": "code",
   "execution_count": 2,
   "outputs": [
    {
     "data": {
      "text/plain": "   Magnitude  Latitude  Longitude  Depth            Datetime\n0        3.9   16.8023   -94.9130  114.9 2017-01-01 00:54:31\n1        3.9   15.2842   -93.1210  100.7 2017-01-01 04:10:39\n2        3.9   17.4503   -94.9543  138.3 2017-01-01 04:23:51\n3        3.9   16.4077   -93.7075  139.4 2017-01-01 04:26:01\n4        4.1   16.7017   -98.8633   27.5 2017-01-01 08:49:23",
      "text/html": "<div>\n<style scoped>\n    .dataframe tbody tr th:only-of-type {\n        vertical-align: middle;\n    }\n\n    .dataframe tbody tr th {\n        vertical-align: top;\n    }\n\n    .dataframe thead th {\n        text-align: right;\n    }\n</style>\n<table border=\"1\" class=\"dataframe\">\n  <thead>\n    <tr style=\"text-align: right;\">\n      <th></th>\n      <th>Magnitude</th>\n      <th>Latitude</th>\n      <th>Longitude</th>\n      <th>Depth</th>\n      <th>Datetime</th>\n    </tr>\n  </thead>\n  <tbody>\n    <tr>\n      <th>0</th>\n      <td>3.9</td>\n      <td>16.8023</td>\n      <td>-94.9130</td>\n      <td>114.9</td>\n      <td>2017-01-01 00:54:31</td>\n    </tr>\n    <tr>\n      <th>1</th>\n      <td>3.9</td>\n      <td>15.2842</td>\n      <td>-93.1210</td>\n      <td>100.7</td>\n      <td>2017-01-01 04:10:39</td>\n    </tr>\n    <tr>\n      <th>2</th>\n      <td>3.9</td>\n      <td>17.4503</td>\n      <td>-94.9543</td>\n      <td>138.3</td>\n      <td>2017-01-01 04:23:51</td>\n    </tr>\n    <tr>\n      <th>3</th>\n      <td>3.9</td>\n      <td>16.4077</td>\n      <td>-93.7075</td>\n      <td>139.4</td>\n      <td>2017-01-01 04:26:01</td>\n    </tr>\n    <tr>\n      <th>4</th>\n      <td>4.1</td>\n      <td>16.7017</td>\n      <td>-98.8633</td>\n      <td>27.5</td>\n      <td>2017-01-01 08:49:23</td>\n    </tr>\n  </tbody>\n</table>\n</div>"
     },
     "execution_count": 2,
     "metadata": {},
     "output_type": "execute_result"
    }
   ],
   "source": [
    "dtypes = {'Magnitude': np.float64, 'Latitude': np.float64, 'Longitude': np.float64, 'Depth': np.float64}\n",
    "df = pd.read_csv('../../data/DATA_3_south.csv', delimiter=',', dtype=dtypes, parse_dates=[\"Datetime\"],\n",
    "                 date_parser=np.datetime64)\n",
    "df = df.reset_index(drop=True)\n",
    "df.head()"
   ],
   "metadata": {
    "collapsed": false,
    "pycharm": {
     "name": "#%%\n"
    }
   }
  },
  {
   "cell_type": "code",
   "execution_count": 3,
   "outputs": [],
   "source": [
    "df_model = CalculateFeatures(df, 50, trimFeatures=False)"
   ],
   "metadata": {
    "collapsed": false,
    "pycharm": {
     "name": "#%%\n"
    }
   }
  },
  {
   "cell_type": "code",
   "execution_count": 4,
   "outputs": [],
   "source": [
    "features = df_model.features\n",
    "features_trimmed = df_model.get_trim_features()\n",
    "features_trimmed.sort_values('next14dMaxMag', inplace=True)"
   ],
   "metadata": {
    "collapsed": false,
    "pycharm": {
     "name": "#%%\n"
    }
   }
  },
  {
   "cell_type": "code",
   "execution_count": 9,
   "outputs": [],
   "source": [
    "main_features =  features[['meanMag', 'maxAMag', 'maxEMag', 'magDef', 'a', 'b', 'bStd', 'grcStd', 'elapsedT', 'rateSqrtEnergy', 'meanT',\n",
    "     'meanTStd', 'pMag6', 'zSeismicRateChange', 'bSeismicRateChange', 'last7dMaxMag','next14dMaxMag']]\n",
    "f_X = main_features.iloc[:-2]\n",
    "f_Y = main_features.iloc[-1]\n",
    "X = f_X.to_numpy()\n",
    "Y = f_Y.to_numpy()"
   ],
   "metadata": {
    "collapsed": false,
    "pycharm": {
     "name": "#%%\n"
    }
   }
  },
  {
   "cell_type": "code",
   "execution_count": 11,
   "outputs": [
    {
     "data": {
      "text/plain": "array([[  3.92      ,   4.4       ,   4.45216564, ...,          nan,\n          4.4       ,   5.        ],\n       [  3.918     ,   4.4       ,   4.44276117, ...,  59.39435197,\n          4.4       ,   5.        ],\n       [  3.918     ,   4.4       ,   4.44276117, ..., 138.45064659,\n          4.4       ,   5.        ],\n       ...,\n       [  3.91      ,   4.3       ,   4.43120285, ..., -47.53466427,\n          4.6       ,   4.3       ],\n       [  3.91      ,   4.3       ,   4.43120285, ...,  12.20099714,\n          4.6       ,   4.3       ],\n       [  3.918     ,   4.3       ,   4.46340772, ...,  76.10938487,\n          4.6       ,   4.3       ]])"
     },
     "execution_count": 11,
     "metadata": {},
     "output_type": "execute_result"
    }
   ],
   "source": [
    "X"
   ],
   "metadata": {
    "collapsed": false,
    "pycharm": {
     "name": "#%%\n"
    }
   }
  },
  {
   "cell_type": "code",
   "execution_count": 43,
   "outputs": [],
   "source": [
    "Y_Scaler = MinMaxScaler()\n",
    "X_Scaler = MinMaxScaler()\n",
    "f_Y_norm = Y_Scaler.fit_transform(Y)\n",
    "f_X_norm = X_Scaler.fit_transform(X)"
   ],
   "metadata": {
    "collapsed": false,
    "pycharm": {
     "name": "#%% NORMALIZE DATA\n"
    }
   }
  },
  {
   "cell_type": "code",
   "execution_count": null,
   "outputs": [],
   "source": [
    "f_X_norm32 = f_X_norm.astype(np.float32)\n",
    "f_Y_norm32 = f_Y_norm.astype(np.float32)"
   ],
   "metadata": {
    "collapsed": false,
    "pycharm": {
     "name": "#%% Shorten data\n"
    }
   }
  },
  {
   "cell_type": "code",
   "source": [
    "from pprint import pprint\n",
    "\n",
    "for i in range(len(X.T)):\n",
    "    pprint(list(zip(f_X_norm.T[i],X.T[i],f_X_norm32.T[i])))"
   ],
   "metadata": {
    "collapsed": false,
    "pycharm": {
     "name": "#%%\n"
    }
   },
   "execution_count": 83,
   "outputs": [
    {
     "ename": "TypeError",
     "evalue": "pprint() takes from 1 to 5 positional arguments but 39171 were given",
     "output_type": "error",
     "traceback": [
      "\u001B[1;31m---------------------------------------------------------------------------\u001B[0m",
      "\u001B[1;31mTypeError\u001B[0m                                 Traceback (most recent call last)",
      "\u001B[1;32m~\\AppData\\Local\\Temp/ipykernel_9744/2452338612.py\u001B[0m in \u001B[0;36m<module>\u001B[1;34m\u001B[0m\n\u001B[0;32m      2\u001B[0m \u001B[1;33m\u001B[0m\u001B[0m\n\u001B[0;32m      3\u001B[0m \u001B[1;32mfor\u001B[0m \u001B[0mi\u001B[0m \u001B[1;32min\u001B[0m \u001B[0mrange\u001B[0m\u001B[1;33m(\u001B[0m\u001B[0mlen\u001B[0m\u001B[1;33m(\u001B[0m\u001B[0mX\u001B[0m\u001B[1;33m.\u001B[0m\u001B[0mT\u001B[0m\u001B[1;33m)\u001B[0m\u001B[1;33m)\u001B[0m\u001B[1;33m:\u001B[0m\u001B[1;33m\u001B[0m\u001B[1;33m\u001B[0m\u001B[0m\n\u001B[1;32m----> 4\u001B[1;33m     \u001B[0mpprint\u001B[0m\u001B[1;33m(\u001B[0m\u001B[1;33m*\u001B[0m\u001B[0mlist\u001B[0m\u001B[1;33m(\u001B[0m\u001B[0mzip\u001B[0m\u001B[1;33m(\u001B[0m\u001B[0mf_X_norm\u001B[0m\u001B[1;33m.\u001B[0m\u001B[0mT\u001B[0m\u001B[1;33m[\u001B[0m\u001B[0mi\u001B[0m\u001B[1;33m]\u001B[0m\u001B[1;33m,\u001B[0m\u001B[0mX\u001B[0m\u001B[1;33m.\u001B[0m\u001B[0mT\u001B[0m\u001B[1;33m[\u001B[0m\u001B[0mi\u001B[0m\u001B[1;33m]\u001B[0m\u001B[1;33m,\u001B[0m\u001B[0mf_X_norm32\u001B[0m\u001B[1;33m.\u001B[0m\u001B[0mT\u001B[0m\u001B[1;33m[\u001B[0m\u001B[0mi\u001B[0m\u001B[1;33m]\u001B[0m\u001B[1;33m)\u001B[0m\u001B[1;33m)\u001B[0m\u001B[1;33m)\u001B[0m\u001B[1;33m\u001B[0m\u001B[1;33m\u001B[0m\u001B[0m\n\u001B[0m",
      "\u001B[1;31mTypeError\u001B[0m: pprint() takes from 1 to 5 positional arguments but 39171 were given"
     ]
    }
   ]
  },
  {
   "cell_type": "code",
   "execution_count": null,
   "outputs": [],
   "source": [
    "# evaluate isomap with logistic regression algorithm for classification\n",
    "pca = PCA(n_components=2)\n",
    "pca.fit(f_X_norm32.T, f_Y_norm32.T)\n",
    "pca_components = pca.components_"
   ],
   "metadata": {
    "collapsed": false,
    "pycharm": {
     "name": "#%%\n"
    }
   }
  },
  {
   "cell_type": "code",
   "execution_count": 33,
   "outputs": [],
   "source": [
    "cmap = cm.get_cmap(\"viridis\")\n",
    "colors = list(map(cmap, f_Y_norm32.T[0]))\n",
    "sizes = np.power(10, f_Y_norm32.T[0] + .25)"
   ],
   "metadata": {
    "collapsed": false,
    "pycharm": {
     "name": "#%%\n"
    }
   }
  },
  {
   "cell_type": "code",
   "source": [
    "%matplotlib qt\n",
    "plt.scatter(pca_components[0], pca_components[1], s=sizes, color=colors)"
   ],
   "metadata": {
    "collapsed": false,
    "pycharm": {
     "name": "#%%\n"
    }
   },
   "execution_count": null,
   "outputs": []
  },
  {
   "cell_type": "code",
   "execution_count": 6,
   "outputs": [],
   "source": [
    "import pandas as pd\n",
    "import seaborn as sn\n",
    "import matplotlib.pyplot as plt\n",
    "\n",
    "corrMatrix = features.corr()\n",
    "sn.heatmap(corrMatrix, annot=True)\n",
    "plt.show()\n"
   ],
   "metadata": {
    "collapsed": false,
    "pycharm": {
     "name": "#%%\n"
    }
   }
  },
  {
   "cell_type": "code",
   "execution_count": 36,
   "outputs": [
    {
     "data": {
      "text/plain": "dtype('bool')"
     },
     "execution_count": 36,
     "metadata": {},
     "output_type": "execute_result"
    }
   ],
   "source": [],
   "metadata": {
    "collapsed": false,
    "pycharm": {
     "name": "#%%\n"
    }
   }
  },
  {
   "cell_type": "code",
   "execution_count": null,
   "outputs": [],
   "source": [
    "embedding = Isomap(n_components=2)\n",
    "X_transformed = embedding.fit_transform(f_X_norm32, a)"
   ],
   "metadata": {
    "collapsed": false,
    "pycharm": {
     "name": "#%%\n",
     "is_executing": true
    }
   }
  },
  {
   "cell_type": "markdown",
   "source": [
    "%matplotlib qt\n",
    "fix, ax = plt.subplots()\n",
    "ax.set_facecolor((0, 0, .420, 0.125))\n",
    "ax.scatter(X_transformed.T[0], X_transformed.T[1], s=sizes, color=colors)"
   ],
   "metadata": {
    "collapsed": false,
    "pycharm": {
     "name": "#%% md\n"
    }
   }
  },
  {
   "cell_type": "code",
   "execution_count": 12,
   "outputs": [],
   "source": [
    "import matplotlib.pyplot as plt\n",
    "% matplotlib qt\n",
    "fig = plt.figure()\n",
    "ax = plt.axes(projection='3d')\n",
    "ax.scatter3D(X_transformed.T[0], X_transformed.T[1], X_transformed.T[2], s=sizes, color=colors);"
   ],
   "metadata": {
    "collapsed": false,
    "pycharm": {
     "name": "#%%\n"
    }
   }
  },
  {
   "cell_type": "code",
   "execution_count": 25,
   "outputs": [
    {
     "data": {
      "text/plain": "[(3.892, 3.8920000000000003, 0.11578941),\n (4.4, 4.4, 0.09523809),\n (4.3330493, 4.333049433249058, 0.11037946),\n (0.06695057, 0.06695056675094246, 0.18876411),\n (13.772086, 13.772085897522178, 0.6113184),\n (3.178382, 3.178381901633518, 0.6122097),\n (14.84226, 14.842260458553298, 0.1901691),\n (72.10736, 72.10735804046563, 0.4648822),\n (221307.0, 221307.0, 0.32300612),\n (153659.0, 153658.99434200482, 0.0013076877),\n (4516.469, 4516.469387755102, 0.32300612),\n (1588523300.0, 1588523242.2315843, 0.7638664),\n (8.5056714e-20, 8.50567119662474e-20, 3.0724385e-14),\n (299.4161, 299.41609843159733, 0.15041952),\n (26.791641, 26.79164123974763, 0.47528192),\n (4.6, 4.6, 0.100000024)]"
     },
     "execution_count": 25,
     "metadata": {},
     "output_type": "execute_result"
    }
   ],
   "source": [],
   "metadata": {
    "collapsed": false,
    "pycharm": {
     "name": "#%%\n"
    }
   }
  },
  {
   "cell_type": "code",
   "execution_count": 36,
   "outputs": [
    {
     "data": {
      "text/plain": "array([[0.],\n       [0.],\n       [0.],\n       ...,\n       [1.],\n       [1.],\n       [1.]])"
     },
     "execution_count": 36,
     "metadata": {},
     "output_type": "execute_result"
    }
   ],
   "source": [
    "\n",
    "f_X_norm"
   ],
   "metadata": {
    "collapsed": false,
    "pycharm": {
     "name": "#%%\n"
    }
   }
  },
  {
   "cell_type": "code",
   "execution_count": 77,
   "outputs": [
    {
     "data": {
      "text/plain": "array([0.61052632, 0.21428571, 0.64587154, 0.11780502, 0.10093372,\n       0.10051837, 0.04124154, 0.06388119, 0.37693954, 0.00190763,\n       0.37693954, 0.14489289, 0.00604487, 0.06915661, 0.45411116,\n       0.25      ])"
     },
     "execution_count": 77,
     "metadata": {},
     "output_type": "execute_result"
    }
   ],
   "source": [],
   "metadata": {
    "collapsed": false,
    "pycharm": {
     "name": "#%%\n"
    }
   }
  },
  {
   "cell_type": "code",
   "execution_count": 101,
   "outputs": [],
   "source": [
    "import pandas as pd\n",
    "import seaborn as sns\n",
    "import matplotlib.pyplot as plt\n",
    "\n",
    "corrMatrix = main_features.corr()\n",
    "sns.heatmap(corrMatrix, annot=True,cmap=\"bwr\")\n",
    "plt.show()"
   ],
   "metadata": {
    "collapsed": false,
    "pycharm": {
     "name": "#%%\n"
    }
   }
  },
  {
   "cell_type": "code",
   "execution_count": 22,
   "outputs": [
    {
     "data": {
      "text/plain": "       old_index              firstT               lastT  meanMag  maxAMag  \\\n0             49 2017-01-01 00:54:31 2017-01-05 19:01:25    3.920      4.4   \n1             50 2017-01-01 04:10:39 2017-01-05 23:48:11    3.918      4.4   \n2             51 2017-01-01 04:23:51 2017-01-06 03:34:05    3.918      4.4   \n3             52 2017-01-01 04:26:01 2017-01-06 07:44:08    3.918      4.4   \n4             53 2017-01-01 08:49:23 2017-01-06 08:43:52    3.916      4.4   \n...          ...                 ...                 ...      ...      ...   \n39406      39455 2021-05-27 05:46:09 2021-05-29 13:59:14    3.910      4.3   \n39407      39456 2021-05-27 05:48:53 2021-05-29 14:15:02    3.910      4.3   \n39408      39457 2021-05-27 06:21:49 2021-05-29 16:09:39    3.918      4.3   \n39409      39458 2021-05-27 06:49:52 2021-05-29 19:54:14    3.918      4.3   \n39410      39459 2021-05-27 06:51:27 2021-05-30 01:38:49    3.926      4.3   \n\n        maxEMag    magDef          a         b      bStd     grcStd  elapsedT  \\\n0      4.452166 -0.052166  11.613363  2.608475  9.326278  46.432020    410814   \n1      4.442761 -0.042761  11.745555  2.643751  9.626963  47.781183    416252   \n2      4.442761 -0.042761  11.745555  2.643751  9.626963  47.781183    429014   \n3      4.442761 -0.042761  11.745555  2.643751  9.626963  47.781183    443887   \n4      4.433093 -0.033093  11.886313  2.681268  9.950613  49.237072    431669   \n...         ...       ...        ...       ...       ...        ...       ...   \n39406  4.431203 -0.131203  12.062507  2.722174  9.126619  52.860716    202385   \n39407  4.431203 -0.131203  12.062507  2.722174  9.126619  52.860716    203169   \n39408  4.463408 -0.163408  11.566727  2.591457  8.084512  47.124461    208070   \n39409  4.463408 -0.163408  11.566727  2.591457  8.084512  47.124461    219862   \n39410  4.494713 -0.194713  11.112065  2.472252  7.194328  41.687844    240442   \n\n       rateSqrtEnergy        meanT      meanTStd         pMag6  \\\n0        87680.297260  8383.959184  1.483392e+09  2.234340e-16   \n1        86280.164530  8494.938776  1.483401e+09  1.372440e-16   \n2        83713.564233  8755.387755  1.483409e+09  1.372440e-16   \n3        80908.634508  9058.918367  1.483418e+09  1.372440e-16   \n4        82953.115590  8809.571429  1.483427e+09  8.173144e-17   \n...               ...          ...           ...           ...   \n39406   171097.340298  4130.306122  1.622188e+09  4.644661e-17   \n39407   170437.100228  4146.306122  1.622192e+09  4.644661e-17   \n39408   169112.377303  4246.326531  1.622197e+09  2.826576e-16   \n39409   160042.264445  4486.979592  1.622201e+09  2.826576e-16   \n39410   149110.346196  4906.979592  1.622205e+09  1.467188e-15   \n\n       zSeismicRateChange  bSeismicRateChange  last7dMaxMag  next14dMaxMag  \n0                     NaN                 NaN           4.4            5.0  \n1              521.440313           59.394352           4.4            5.0  \n2              798.811617          138.450647           4.4            5.0  \n3              862.351436          158.927921           4.4            5.0  \n4              781.600921         -128.429872           4.4            5.0  \n...                   ...                 ...           ...            ...  \n39406          392.237173          -47.534664           4.6            4.3  \n39407          197.989899           12.200997           4.6            4.3  \n39408          495.025252           76.109385           4.6            4.3  \n39409          767.854153          180.894967           4.6            4.3  \n39410         1014.396372          307.013179           4.3            NaN  \n\n[39411 rows x 20 columns]",
      "text/html": "<div>\n<style scoped>\n    .dataframe tbody tr th:only-of-type {\n        vertical-align: middle;\n    }\n\n    .dataframe tbody tr th {\n        vertical-align: top;\n    }\n\n    .dataframe thead th {\n        text-align: right;\n    }\n</style>\n<table border=\"1\" class=\"dataframe\">\n  <thead>\n    <tr style=\"text-align: right;\">\n      <th></th>\n      <th>old_index</th>\n      <th>firstT</th>\n      <th>lastT</th>\n      <th>meanMag</th>\n      <th>maxAMag</th>\n      <th>maxEMag</th>\n      <th>magDef</th>\n      <th>a</th>\n      <th>b</th>\n      <th>bStd</th>\n      <th>grcStd</th>\n      <th>elapsedT</th>\n      <th>rateSqrtEnergy</th>\n      <th>meanT</th>\n      <th>meanTStd</th>\n      <th>pMag6</th>\n      <th>zSeismicRateChange</th>\n      <th>bSeismicRateChange</th>\n      <th>last7dMaxMag</th>\n      <th>next14dMaxMag</th>\n    </tr>\n  </thead>\n  <tbody>\n    <tr>\n      <th>0</th>\n      <td>49</td>\n      <td>2017-01-01 00:54:31</td>\n      <td>2017-01-05 19:01:25</td>\n      <td>3.920</td>\n      <td>4.4</td>\n      <td>4.452166</td>\n      <td>-0.052166</td>\n      <td>11.613363</td>\n      <td>2.608475</td>\n      <td>9.326278</td>\n      <td>46.432020</td>\n      <td>410814</td>\n      <td>87680.297260</td>\n      <td>8383.959184</td>\n      <td>1.483392e+09</td>\n      <td>2.234340e-16</td>\n      <td>NaN</td>\n      <td>NaN</td>\n      <td>4.4</td>\n      <td>5.0</td>\n    </tr>\n    <tr>\n      <th>1</th>\n      <td>50</td>\n      <td>2017-01-01 04:10:39</td>\n      <td>2017-01-05 23:48:11</td>\n      <td>3.918</td>\n      <td>4.4</td>\n      <td>4.442761</td>\n      <td>-0.042761</td>\n      <td>11.745555</td>\n      <td>2.643751</td>\n      <td>9.626963</td>\n      <td>47.781183</td>\n      <td>416252</td>\n      <td>86280.164530</td>\n      <td>8494.938776</td>\n      <td>1.483401e+09</td>\n      <td>1.372440e-16</td>\n      <td>521.440313</td>\n      <td>59.394352</td>\n      <td>4.4</td>\n      <td>5.0</td>\n    </tr>\n    <tr>\n      <th>2</th>\n      <td>51</td>\n      <td>2017-01-01 04:23:51</td>\n      <td>2017-01-06 03:34:05</td>\n      <td>3.918</td>\n      <td>4.4</td>\n      <td>4.442761</td>\n      <td>-0.042761</td>\n      <td>11.745555</td>\n      <td>2.643751</td>\n      <td>9.626963</td>\n      <td>47.781183</td>\n      <td>429014</td>\n      <td>83713.564233</td>\n      <td>8755.387755</td>\n      <td>1.483409e+09</td>\n      <td>1.372440e-16</td>\n      <td>798.811617</td>\n      <td>138.450647</td>\n      <td>4.4</td>\n      <td>5.0</td>\n    </tr>\n    <tr>\n      <th>3</th>\n      <td>52</td>\n      <td>2017-01-01 04:26:01</td>\n      <td>2017-01-06 07:44:08</td>\n      <td>3.918</td>\n      <td>4.4</td>\n      <td>4.442761</td>\n      <td>-0.042761</td>\n      <td>11.745555</td>\n      <td>2.643751</td>\n      <td>9.626963</td>\n      <td>47.781183</td>\n      <td>443887</td>\n      <td>80908.634508</td>\n      <td>9058.918367</td>\n      <td>1.483418e+09</td>\n      <td>1.372440e-16</td>\n      <td>862.351436</td>\n      <td>158.927921</td>\n      <td>4.4</td>\n      <td>5.0</td>\n    </tr>\n    <tr>\n      <th>4</th>\n      <td>53</td>\n      <td>2017-01-01 08:49:23</td>\n      <td>2017-01-06 08:43:52</td>\n      <td>3.916</td>\n      <td>4.4</td>\n      <td>4.433093</td>\n      <td>-0.033093</td>\n      <td>11.886313</td>\n      <td>2.681268</td>\n      <td>9.950613</td>\n      <td>49.237072</td>\n      <td>431669</td>\n      <td>82953.115590</td>\n      <td>8809.571429</td>\n      <td>1.483427e+09</td>\n      <td>8.173144e-17</td>\n      <td>781.600921</td>\n      <td>-128.429872</td>\n      <td>4.4</td>\n      <td>5.0</td>\n    </tr>\n    <tr>\n      <th>...</th>\n      <td>...</td>\n      <td>...</td>\n      <td>...</td>\n      <td>...</td>\n      <td>...</td>\n      <td>...</td>\n      <td>...</td>\n      <td>...</td>\n      <td>...</td>\n      <td>...</td>\n      <td>...</td>\n      <td>...</td>\n      <td>...</td>\n      <td>...</td>\n      <td>...</td>\n      <td>...</td>\n      <td>...</td>\n      <td>...</td>\n      <td>...</td>\n      <td>...</td>\n    </tr>\n    <tr>\n      <th>39406</th>\n      <td>39455</td>\n      <td>2021-05-27 05:46:09</td>\n      <td>2021-05-29 13:59:14</td>\n      <td>3.910</td>\n      <td>4.3</td>\n      <td>4.431203</td>\n      <td>-0.131203</td>\n      <td>12.062507</td>\n      <td>2.722174</td>\n      <td>9.126619</td>\n      <td>52.860716</td>\n      <td>202385</td>\n      <td>171097.340298</td>\n      <td>4130.306122</td>\n      <td>1.622188e+09</td>\n      <td>4.644661e-17</td>\n      <td>392.237173</td>\n      <td>-47.534664</td>\n      <td>4.6</td>\n      <td>4.3</td>\n    </tr>\n    <tr>\n      <th>39407</th>\n      <td>39456</td>\n      <td>2021-05-27 05:48:53</td>\n      <td>2021-05-29 14:15:02</td>\n      <td>3.910</td>\n      <td>4.3</td>\n      <td>4.431203</td>\n      <td>-0.131203</td>\n      <td>12.062507</td>\n      <td>2.722174</td>\n      <td>9.126619</td>\n      <td>52.860716</td>\n      <td>203169</td>\n      <td>170437.100228</td>\n      <td>4146.306122</td>\n      <td>1.622192e+09</td>\n      <td>4.644661e-17</td>\n      <td>197.989899</td>\n      <td>12.200997</td>\n      <td>4.6</td>\n      <td>4.3</td>\n    </tr>\n    <tr>\n      <th>39408</th>\n      <td>39457</td>\n      <td>2021-05-27 06:21:49</td>\n      <td>2021-05-29 16:09:39</td>\n      <td>3.918</td>\n      <td>4.3</td>\n      <td>4.463408</td>\n      <td>-0.163408</td>\n      <td>11.566727</td>\n      <td>2.591457</td>\n      <td>8.084512</td>\n      <td>47.124461</td>\n      <td>208070</td>\n      <td>169112.377303</td>\n      <td>4246.326531</td>\n      <td>1.622197e+09</td>\n      <td>2.826576e-16</td>\n      <td>495.025252</td>\n      <td>76.109385</td>\n      <td>4.6</td>\n      <td>4.3</td>\n    </tr>\n    <tr>\n      <th>39409</th>\n      <td>39458</td>\n      <td>2021-05-27 06:49:52</td>\n      <td>2021-05-29 19:54:14</td>\n      <td>3.918</td>\n      <td>4.3</td>\n      <td>4.463408</td>\n      <td>-0.163408</td>\n      <td>11.566727</td>\n      <td>2.591457</td>\n      <td>8.084512</td>\n      <td>47.124461</td>\n      <td>219862</td>\n      <td>160042.264445</td>\n      <td>4486.979592</td>\n      <td>1.622201e+09</td>\n      <td>2.826576e-16</td>\n      <td>767.854153</td>\n      <td>180.894967</td>\n      <td>4.6</td>\n      <td>4.3</td>\n    </tr>\n    <tr>\n      <th>39410</th>\n      <td>39459</td>\n      <td>2021-05-27 06:51:27</td>\n      <td>2021-05-30 01:38:49</td>\n      <td>3.926</td>\n      <td>4.3</td>\n      <td>4.494713</td>\n      <td>-0.194713</td>\n      <td>11.112065</td>\n      <td>2.472252</td>\n      <td>7.194328</td>\n      <td>41.687844</td>\n      <td>240442</td>\n      <td>149110.346196</td>\n      <td>4906.979592</td>\n      <td>1.622205e+09</td>\n      <td>1.467188e-15</td>\n      <td>1014.396372</td>\n      <td>307.013179</td>\n      <td>4.3</td>\n      <td>NaN</td>\n    </tr>\n  </tbody>\n</table>\n<p>39411 rows × 20 columns</p>\n</div>"
     },
     "execution_count": 22,
     "metadata": {},
     "output_type": "execute_result"
    }
   ],
   "source": [
    "\n",
    "features"
   ],
   "metadata": {
    "collapsed": false,
    "pycharm": {
     "name": "#%%\n"
    }
   }
  },
  {
   "cell_type": "code",
   "execution_count": 102,
   "outputs": [],
   "source": [
    "# creating set to hold the correlated features\n",
    "model."
   ],
   "metadata": {
    "collapsed": false,
    "pycharm": {
     "name": "#%%\n"
    }
   }
  },
  {
   "cell_type": "code",
   "execution_count": 103,
   "outputs": [
    {
     "data": {
      "text/plain": "{'b', 'maxEMag', 'meanT'}"
     },
     "execution_count": 103,
     "metadata": {},
     "output_type": "execute_result"
    }
   ],
   "source": [
    "corr_features"
   ],
   "metadata": {
    "collapsed": false,
    "pycharm": {
     "name": "#%%\n"
    }
   }
  },
  {
   "cell_type": "code",
   "execution_count": 89,
   "outputs": [
    {
     "data": {
      "text/plain": "'next14dMaxMag'"
     },
     "execution_count": 89,
     "metadata": {},
     "output_type": "execute_result"
    }
   ],
   "source": [],
   "metadata": {
    "collapsed": false,
    "pycharm": {
     "name": "#%%\n"
    }
   }
  },
  {
   "cell_type": "code",
   "execution_count": 70,
   "outputs": [],
   "source": [],
   "metadata": {
    "collapsed": false,
    "pycharm": {
     "name": "#%%\n"
    }
   }
  },
  {
   "cell_type": "code",
   "execution_count": 76,
   "outputs": [
    {
     "data": {
      "text/plain": "<AxesSubplot:>"
     },
     "execution_count": 76,
     "metadata": {},
     "output_type": "execute_result"
    }
   ],
   "source": [],
   "metadata": {
    "collapsed": false,
    "pycharm": {
     "name": "#%%\n"
    }
   }
  },
  {
   "cell_type": "code",
   "execution_count": 115,
   "outputs": [
    {
     "data": {
      "text/plain": "array([[ 1.        ,  0.62784803,  0.95624834,  0.29845348, -0.8932318 ,\n        -0.89318061, -0.13523588, -0.58589166, -0.18319824,  0.4351462 ,\n        -0.18319824, -0.23925359,  0.29997525,         nan,         nan,\n         0.5314931 ,  0.33436521],\n       [ 0.62784803,  1.        ,  0.41285029,  0.92837404, -0.38578341,\n        -0.38494519,  0.58021633, -0.01716123, -0.09159707,  0.39871869,\n        -0.09159707, -0.09671284,  0.09703312,         nan,         nan,\n         0.43303105,  0.18498849],\n       [ 0.95624834,  0.41285029,  1.        ,  0.04478364, -0.94134758,\n        -0.94153961, -0.37858357, -0.73994447, -0.18190486,  0.37846012,\n        -0.18190486, -0.23101663,  0.31184035,         nan,         nan,\n         0.47689734,  0.32856344],\n       [ 0.29845348,  0.92837404,  0.04478364,  1.        , -0.03902856,\n        -0.03803082,  0.7908812 ,  0.2831078 , -0.02624152,  0.28290001,\n        -0.02624152, -0.01181284, -0.0208156 ,         nan,         nan,\n         0.28036819,  0.06883321],\n       [-0.8932318 , -0.38578341, -0.94134758, -0.03902856,  1.        ,\n         0.99998802,  0.40822184,  0.80767466,  0.10521533, -0.27604371,\n         0.10521533,  0.21058403, -0.15827612,         nan,         nan,\n        -0.37683512, -0.24805066],\n       [-0.89318061, -0.38494519, -0.94153961, -0.03803082,  0.99998802,\n         1.        ,  0.40939431,  0.80857233,  0.10566809, -0.27622265,\n         0.10566809,  0.21066279, -0.15851377,         nan,         nan,\n        -0.37689328, -0.24823003],\n       [-0.13523588,  0.58021633, -0.37858357,  0.7908812 ,  0.40822184,\n         0.40939431,  1.        ,  0.73211681,  0.02562913,  0.01987136,\n         0.02562913,  0.06461242, -0.06465075,         nan,         nan,\n         0.04537022, -0.05094619],\n       [-0.58589166, -0.01716123, -0.73994447,  0.2831078 ,  0.80767466,\n         0.80857233,  0.73211681,  1.        ,  0.0728013 , -0.16516495,\n         0.0728013 ,  0.13366665, -0.10846473,         nan,         nan,\n        -0.22734622, -0.17047751],\n       [-0.18319824, -0.09159707, -0.18190486, -0.02624152,  0.10521533,\n         0.10566809,  0.02562913,  0.0728013 ,  1.        , -0.38316628,\n         1.        ,  0.16683771, -0.09028196,         nan,         nan,\n        -0.46919362, -0.26998151],\n       [ 0.4351462 ,  0.39871869,  0.37846012,  0.28290001, -0.27604371,\n        -0.27622265,  0.01987136, -0.16516495, -0.38316628,  1.        ,\n        -0.38316628, -0.22214656,  0.18612072,         nan,         nan,\n         0.52772403,  0.35001404],\n       [-0.18319824, -0.09159707, -0.18190486, -0.02624152,  0.10521533,\n         0.10566809,  0.02562913,  0.0728013 ,  1.        , -0.38316628,\n         1.        ,  0.16683771, -0.09028196,         nan,         nan,\n        -0.46919362, -0.26998151],\n       [-0.23925359, -0.09671284, -0.23101663, -0.01181284,  0.21058403,\n         0.21066279,  0.06461242,  0.13366665,  0.16683771, -0.22214656,\n         0.16683771,  1.        , -0.06093257,         nan,         nan,\n        -0.2474215 , -0.2413448 ],\n       [ 0.29997525,  0.09703312,  0.31184035, -0.0208156 , -0.15827612,\n        -0.15851377, -0.06465075, -0.10846473, -0.09028196,  0.18612072,\n        -0.09028196, -0.06093257,  1.        ,         nan,         nan,\n         0.18570397,  0.14361614],\n       [        nan,         nan,         nan,         nan,         nan,\n                nan,         nan,         nan,         nan,         nan,\n                nan,         nan,         nan,         nan,         nan,\n                nan,         nan],\n       [        nan,         nan,         nan,         nan,         nan,\n                nan,         nan,         nan,         nan,         nan,\n                nan,         nan,         nan,         nan,         nan,\n                nan,         nan],\n       [ 0.5314931 ,  0.43303105,  0.47689734,  0.28036819, -0.37683512,\n        -0.37689328,  0.04537022, -0.22734622, -0.46919362,  0.52772403,\n        -0.46919362, -0.2474215 ,  0.18570397,         nan,         nan,\n         1.        ,  0.44747196],\n       [ 0.33436521,  0.18498849,  0.32856344,  0.06883321, -0.24805066,\n        -0.24823003, -0.05094619, -0.17047751, -0.26998151,  0.35001404,\n        -0.26998151, -0.2413448 ,  0.14361614,         nan,         nan,\n         0.44747196,  1.        ]])"
     },
     "execution_count": 115,
     "metadata": {},
     "output_type": "execute_result"
    }
   ],
   "source": [],
   "metadata": {
    "collapsed": false,
    "pycharm": {
     "name": "#%%\n"
    }
   }
  },
  {
   "cell_type": "code",
   "execution_count": 119,
   "outputs": [
    {
     "name": "stderr",
     "output_type": "stream",
     "text": [
      "C:\\Users\\fof\\AppData\\Local\\Temp/ipykernel_2364/1493744337.py:1: SettingWithCopyWarning: \n",
      "A value is trying to be set on a copy of a slice from a DataFrame\n",
      "\n",
      "See the caveats in the documentation: https://pandas.pydata.org/pandas-docs/stable/user_guide/indexing.html#returning-a-view-versus-a-copy\n",
      "  f_X.dropna(inplace=True)\n"
     ]
    },
    {
     "data": {
      "text/plain": "                     meanMag   maxAMag   maxEMag    magDef         a  \\\nmeanMag             1.000000  0.627844  0.956248  0.298449 -0.893231   \nmaxAMag             0.627844  1.000000  0.412844  0.928374 -0.385777   \nmaxEMag             0.956248  0.412844  1.000000  0.044777 -0.941347   \nmagDef              0.298449  0.928374  0.044777  1.000000 -0.039022   \na                  -0.893231 -0.385777 -0.941347 -0.039022  1.000000   \nb                  -0.893180 -0.384939 -0.941539 -0.038024  0.999988   \nbStd               -0.135243  0.580215 -0.378592  0.790880  0.408230   \ngrcStd             -0.585893 -0.017159 -0.739947  0.283110  0.807677   \nelapsedT           -0.183171 -0.091562 -0.181876 -0.026215  0.105185   \nrateSqrtEnergy      0.435143  0.398715  0.378456  0.282897 -0.276040   \nmeanT              -0.183171 -0.091562 -0.181876 -0.026215  0.105185   \nmeanTStd           -0.239293 -0.096746 -0.231057 -0.011832  0.210620   \npMag6               0.299976  0.097033  0.311841 -0.020816 -0.158276   \nzSeismicRateChange -0.106710 -0.039036 -0.110740  0.002370  0.070939   \nbSeismicRateChange -0.024255 -0.047275 -0.014060 -0.046116  0.011426   \nlast7dMaxMag        0.531486  0.433022  0.476889  0.280361 -0.376826   \nnext14dMaxMag       0.334359  0.184981  0.328557  0.068828 -0.248045   \n\n                           b      bStd    grcStd  elapsedT  rateSqrtEnergy  \\\nmeanMag            -0.893180 -0.135243 -0.585893 -0.183171        0.435143   \nmaxAMag            -0.384939  0.580215 -0.017159 -0.091562        0.398715   \nmaxEMag            -0.941539 -0.378592 -0.739947 -0.181876        0.378456   \nmagDef             -0.038024  0.790880  0.283110 -0.026215        0.282897   \na                   0.999988  0.408230  0.807677  0.105185       -0.276040   \nb                   1.000000  0.409402  0.808575  0.105637       -0.276219   \nbStd                0.409402  1.000000  0.732119  0.025655        0.019868   \ngrcStd              0.808575  0.732119  1.000000  0.072800       -0.165164   \nelapsedT            0.105637  0.025655  0.072800  1.000000       -0.383175   \nrateSqrtEnergy     -0.276219  0.019868 -0.165164 -0.383175        1.000000   \nmeanT               0.105637  0.025655  0.072800  1.000000       -0.383175   \nmeanTStd            0.210698  0.064600  0.133677  0.166976       -0.222172   \npMag6              -0.158514 -0.064651 -0.108465 -0.090286        0.186121   \nzSeismicRateChange  0.071176  0.024796  0.049401  0.410839       -0.181815   \nbSeismicRateChange  0.011446 -0.019236  0.006019  0.032942       -0.050210   \nlast7dMaxMag       -0.376884  0.045362 -0.227346 -0.469173        0.527722   \nnext14dMaxMag      -0.248224 -0.050951 -0.170477 -0.269971        0.350011   \n\n                       meanT  meanTStd     pMag6  zSeismicRateChange  \\\nmeanMag            -0.183171 -0.239293  0.299976           -0.106710   \nmaxAMag            -0.091562 -0.096746  0.097033           -0.039036   \nmaxEMag            -0.181876 -0.231057  0.311841           -0.110740   \nmagDef             -0.026215 -0.011832 -0.020816            0.002370   \na                   0.105185  0.210620 -0.158276            0.070939   \nb                   0.105637  0.210698 -0.158514            0.071176   \nbStd                0.025655  0.064600 -0.064651            0.024796   \ngrcStd              0.072800  0.133677 -0.108465            0.049401   \nelapsedT            1.000000  0.166976 -0.090286            0.410839   \nrateSqrtEnergy     -0.383175 -0.222172  0.186121           -0.181815   \nmeanT               1.000000  0.166976 -0.090286            0.410839   \nmeanTStd            0.166976  1.000000 -0.060937            0.130929   \npMag6              -0.090286 -0.060937  1.000000           -0.057062   \nzSeismicRateChange  0.410839  0.130929 -0.057062            1.000000   \nbSeismicRateChange  0.032942  0.002068 -0.000975            0.010018   \nlast7dMaxMag       -0.469173 -0.247479  0.185705           -0.250305   \nnext14dMaxMag      -0.269971 -0.241378  0.143616           -0.160365   \n\n                    bSeismicRateChange  last7dMaxMag  next14dMaxMag  \nmeanMag                      -0.024255      0.531486       0.334359  \nmaxAMag                      -0.047275      0.433022       0.184981  \nmaxEMag                      -0.014060      0.476889       0.328557  \nmagDef                       -0.046116      0.280361       0.068828  \na                             0.011426     -0.376826      -0.248045  \nb                             0.011446     -0.376884      -0.248224  \nbStd                         -0.019236      0.045362      -0.050951  \ngrcStd                        0.006019     -0.227346      -0.170477  \nelapsedT                      0.032942     -0.469173      -0.269971  \nrateSqrtEnergy               -0.050210      0.527722       0.350011  \nmeanT                         0.032942     -0.469173      -0.269971  \nmeanTStd                      0.002068     -0.247479      -0.241378  \npMag6                        -0.000975      0.185705       0.143616  \nzSeismicRateChange            0.010018     -0.250305      -0.160365  \nbSeismicRateChange            1.000000     -0.007083      -0.010332  \nlast7dMaxMag                 -0.007083      1.000000       0.447466  \nnext14dMaxMag                -0.010332      0.447466       1.000000  ",
      "text/html": "<div>\n<style scoped>\n    .dataframe tbody tr th:only-of-type {\n        vertical-align: middle;\n    }\n\n    .dataframe tbody tr th {\n        vertical-align: top;\n    }\n\n    .dataframe thead th {\n        text-align: right;\n    }\n</style>\n<table border=\"1\" class=\"dataframe\">\n  <thead>\n    <tr style=\"text-align: right;\">\n      <th></th>\n      <th>meanMag</th>\n      <th>maxAMag</th>\n      <th>maxEMag</th>\n      <th>magDef</th>\n      <th>a</th>\n      <th>b</th>\n      <th>bStd</th>\n      <th>grcStd</th>\n      <th>elapsedT</th>\n      <th>rateSqrtEnergy</th>\n      <th>meanT</th>\n      <th>meanTStd</th>\n      <th>pMag6</th>\n      <th>zSeismicRateChange</th>\n      <th>bSeismicRateChange</th>\n      <th>last7dMaxMag</th>\n      <th>next14dMaxMag</th>\n    </tr>\n  </thead>\n  <tbody>\n    <tr>\n      <th>meanMag</th>\n      <td>1.000000</td>\n      <td>0.627844</td>\n      <td>0.956248</td>\n      <td>0.298449</td>\n      <td>-0.893231</td>\n      <td>-0.893180</td>\n      <td>-0.135243</td>\n      <td>-0.585893</td>\n      <td>-0.183171</td>\n      <td>0.435143</td>\n      <td>-0.183171</td>\n      <td>-0.239293</td>\n      <td>0.299976</td>\n      <td>-0.106710</td>\n      <td>-0.024255</td>\n      <td>0.531486</td>\n      <td>0.334359</td>\n    </tr>\n    <tr>\n      <th>maxAMag</th>\n      <td>0.627844</td>\n      <td>1.000000</td>\n      <td>0.412844</td>\n      <td>0.928374</td>\n      <td>-0.385777</td>\n      <td>-0.384939</td>\n      <td>0.580215</td>\n      <td>-0.017159</td>\n      <td>-0.091562</td>\n      <td>0.398715</td>\n      <td>-0.091562</td>\n      <td>-0.096746</td>\n      <td>0.097033</td>\n      <td>-0.039036</td>\n      <td>-0.047275</td>\n      <td>0.433022</td>\n      <td>0.184981</td>\n    </tr>\n    <tr>\n      <th>maxEMag</th>\n      <td>0.956248</td>\n      <td>0.412844</td>\n      <td>1.000000</td>\n      <td>0.044777</td>\n      <td>-0.941347</td>\n      <td>-0.941539</td>\n      <td>-0.378592</td>\n      <td>-0.739947</td>\n      <td>-0.181876</td>\n      <td>0.378456</td>\n      <td>-0.181876</td>\n      <td>-0.231057</td>\n      <td>0.311841</td>\n      <td>-0.110740</td>\n      <td>-0.014060</td>\n      <td>0.476889</td>\n      <td>0.328557</td>\n    </tr>\n    <tr>\n      <th>magDef</th>\n      <td>0.298449</td>\n      <td>0.928374</td>\n      <td>0.044777</td>\n      <td>1.000000</td>\n      <td>-0.039022</td>\n      <td>-0.038024</td>\n      <td>0.790880</td>\n      <td>0.283110</td>\n      <td>-0.026215</td>\n      <td>0.282897</td>\n      <td>-0.026215</td>\n      <td>-0.011832</td>\n      <td>-0.020816</td>\n      <td>0.002370</td>\n      <td>-0.046116</td>\n      <td>0.280361</td>\n      <td>0.068828</td>\n    </tr>\n    <tr>\n      <th>a</th>\n      <td>-0.893231</td>\n      <td>-0.385777</td>\n      <td>-0.941347</td>\n      <td>-0.039022</td>\n      <td>1.000000</td>\n      <td>0.999988</td>\n      <td>0.408230</td>\n      <td>0.807677</td>\n      <td>0.105185</td>\n      <td>-0.276040</td>\n      <td>0.105185</td>\n      <td>0.210620</td>\n      <td>-0.158276</td>\n      <td>0.070939</td>\n      <td>0.011426</td>\n      <td>-0.376826</td>\n      <td>-0.248045</td>\n    </tr>\n    <tr>\n      <th>b</th>\n      <td>-0.893180</td>\n      <td>-0.384939</td>\n      <td>-0.941539</td>\n      <td>-0.038024</td>\n      <td>0.999988</td>\n      <td>1.000000</td>\n      <td>0.409402</td>\n      <td>0.808575</td>\n      <td>0.105637</td>\n      <td>-0.276219</td>\n      <td>0.105637</td>\n      <td>0.210698</td>\n      <td>-0.158514</td>\n      <td>0.071176</td>\n      <td>0.011446</td>\n      <td>-0.376884</td>\n      <td>-0.248224</td>\n    </tr>\n    <tr>\n      <th>bStd</th>\n      <td>-0.135243</td>\n      <td>0.580215</td>\n      <td>-0.378592</td>\n      <td>0.790880</td>\n      <td>0.408230</td>\n      <td>0.409402</td>\n      <td>1.000000</td>\n      <td>0.732119</td>\n      <td>0.025655</td>\n      <td>0.019868</td>\n      <td>0.025655</td>\n      <td>0.064600</td>\n      <td>-0.064651</td>\n      <td>0.024796</td>\n      <td>-0.019236</td>\n      <td>0.045362</td>\n      <td>-0.050951</td>\n    </tr>\n    <tr>\n      <th>grcStd</th>\n      <td>-0.585893</td>\n      <td>-0.017159</td>\n      <td>-0.739947</td>\n      <td>0.283110</td>\n      <td>0.807677</td>\n      <td>0.808575</td>\n      <td>0.732119</td>\n      <td>1.000000</td>\n      <td>0.072800</td>\n      <td>-0.165164</td>\n      <td>0.072800</td>\n      <td>0.133677</td>\n      <td>-0.108465</td>\n      <td>0.049401</td>\n      <td>0.006019</td>\n      <td>-0.227346</td>\n      <td>-0.170477</td>\n    </tr>\n    <tr>\n      <th>elapsedT</th>\n      <td>-0.183171</td>\n      <td>-0.091562</td>\n      <td>-0.181876</td>\n      <td>-0.026215</td>\n      <td>0.105185</td>\n      <td>0.105637</td>\n      <td>0.025655</td>\n      <td>0.072800</td>\n      <td>1.000000</td>\n      <td>-0.383175</td>\n      <td>1.000000</td>\n      <td>0.166976</td>\n      <td>-0.090286</td>\n      <td>0.410839</td>\n      <td>0.032942</td>\n      <td>-0.469173</td>\n      <td>-0.269971</td>\n    </tr>\n    <tr>\n      <th>rateSqrtEnergy</th>\n      <td>0.435143</td>\n      <td>0.398715</td>\n      <td>0.378456</td>\n      <td>0.282897</td>\n      <td>-0.276040</td>\n      <td>-0.276219</td>\n      <td>0.019868</td>\n      <td>-0.165164</td>\n      <td>-0.383175</td>\n      <td>1.000000</td>\n      <td>-0.383175</td>\n      <td>-0.222172</td>\n      <td>0.186121</td>\n      <td>-0.181815</td>\n      <td>-0.050210</td>\n      <td>0.527722</td>\n      <td>0.350011</td>\n    </tr>\n    <tr>\n      <th>meanT</th>\n      <td>-0.183171</td>\n      <td>-0.091562</td>\n      <td>-0.181876</td>\n      <td>-0.026215</td>\n      <td>0.105185</td>\n      <td>0.105637</td>\n      <td>0.025655</td>\n      <td>0.072800</td>\n      <td>1.000000</td>\n      <td>-0.383175</td>\n      <td>1.000000</td>\n      <td>0.166976</td>\n      <td>-0.090286</td>\n      <td>0.410839</td>\n      <td>0.032942</td>\n      <td>-0.469173</td>\n      <td>-0.269971</td>\n    </tr>\n    <tr>\n      <th>meanTStd</th>\n      <td>-0.239293</td>\n      <td>-0.096746</td>\n      <td>-0.231057</td>\n      <td>-0.011832</td>\n      <td>0.210620</td>\n      <td>0.210698</td>\n      <td>0.064600</td>\n      <td>0.133677</td>\n      <td>0.166976</td>\n      <td>-0.222172</td>\n      <td>0.166976</td>\n      <td>1.000000</td>\n      <td>-0.060937</td>\n      <td>0.130929</td>\n      <td>0.002068</td>\n      <td>-0.247479</td>\n      <td>-0.241378</td>\n    </tr>\n    <tr>\n      <th>pMag6</th>\n      <td>0.299976</td>\n      <td>0.097033</td>\n      <td>0.311841</td>\n      <td>-0.020816</td>\n      <td>-0.158276</td>\n      <td>-0.158514</td>\n      <td>-0.064651</td>\n      <td>-0.108465</td>\n      <td>-0.090286</td>\n      <td>0.186121</td>\n      <td>-0.090286</td>\n      <td>-0.060937</td>\n      <td>1.000000</td>\n      <td>-0.057062</td>\n      <td>-0.000975</td>\n      <td>0.185705</td>\n      <td>0.143616</td>\n    </tr>\n    <tr>\n      <th>zSeismicRateChange</th>\n      <td>-0.106710</td>\n      <td>-0.039036</td>\n      <td>-0.110740</td>\n      <td>0.002370</td>\n      <td>0.070939</td>\n      <td>0.071176</td>\n      <td>0.024796</td>\n      <td>0.049401</td>\n      <td>0.410839</td>\n      <td>-0.181815</td>\n      <td>0.410839</td>\n      <td>0.130929</td>\n      <td>-0.057062</td>\n      <td>1.000000</td>\n      <td>0.010018</td>\n      <td>-0.250305</td>\n      <td>-0.160365</td>\n    </tr>\n    <tr>\n      <th>bSeismicRateChange</th>\n      <td>-0.024255</td>\n      <td>-0.047275</td>\n      <td>-0.014060</td>\n      <td>-0.046116</td>\n      <td>0.011426</td>\n      <td>0.011446</td>\n      <td>-0.019236</td>\n      <td>0.006019</td>\n      <td>0.032942</td>\n      <td>-0.050210</td>\n      <td>0.032942</td>\n      <td>0.002068</td>\n      <td>-0.000975</td>\n      <td>0.010018</td>\n      <td>1.000000</td>\n      <td>-0.007083</td>\n      <td>-0.010332</td>\n    </tr>\n    <tr>\n      <th>last7dMaxMag</th>\n      <td>0.531486</td>\n      <td>0.433022</td>\n      <td>0.476889</td>\n      <td>0.280361</td>\n      <td>-0.376826</td>\n      <td>-0.376884</td>\n      <td>0.045362</td>\n      <td>-0.227346</td>\n      <td>-0.469173</td>\n      <td>0.527722</td>\n      <td>-0.469173</td>\n      <td>-0.247479</td>\n      <td>0.185705</td>\n      <td>-0.250305</td>\n      <td>-0.007083</td>\n      <td>1.000000</td>\n      <td>0.447466</td>\n    </tr>\n    <tr>\n      <th>next14dMaxMag</th>\n      <td>0.334359</td>\n      <td>0.184981</td>\n      <td>0.328557</td>\n      <td>0.068828</td>\n      <td>-0.248045</td>\n      <td>-0.248224</td>\n      <td>-0.050951</td>\n      <td>-0.170477</td>\n      <td>-0.269971</td>\n      <td>0.350011</td>\n      <td>-0.269971</td>\n      <td>-0.241378</td>\n      <td>0.143616</td>\n      <td>-0.160365</td>\n      <td>-0.010332</td>\n      <td>0.447466</td>\n      <td>1.000000</td>\n    </tr>\n  </tbody>\n</table>\n</div>"
     },
     "execution_count": 119,
     "metadata": {},
     "output_type": "execute_result"
    }
   ],
   "source": [
    "f_X.dropna(inplace=True)\n",
    "f_X.corr()"
   ],
   "metadata": {
    "collapsed": false,
    "pycharm": {
     "name": "#%%\n"
    }
   }
  },
  {
   "cell_type": "code",
   "execution_count": 120,
   "outputs": [
    {
     "data": {
      "text/plain": "<AxesSubplot:>"
     },
     "execution_count": 120,
     "metadata": {},
     "output_type": "execute_result"
    }
   ],
   "source": [
    "sns.heatmap(pd.DataFrame(np.corrcoef(f_X.to_numpy().T)))"
   ],
   "metadata": {
    "collapsed": false,
    "pycharm": {
     "name": "#%%\n"
    }
   }
  },
  {
   "cell_type": "code",
   "execution_count": 212,
   "outputs": [
    {
     "data": {
      "text/plain": "(['maxEMag', 'meanT', 'b'],\n ['meanTStd',\n  'bSeismicRateChange',\n  'bStd',\n  'last7dMaxMag',\n  'elapsedT',\n  'magDef',\n  'grcStd',\n  'a',\n  'rateSqrtEnergy',\n  'pMag6',\n  'next14dMaxMag',\n  'meanMag',\n  'zSeismicRateChange',\n  'maxAMag'])"
     },
     "execution_count": 212,
     "metadata": {},
     "output_type": "execute_result"
    }
   ],
   "source": [
    "df = f_X\n",
    "\n",
    "feature_selection(df,.95)"
   ],
   "metadata": {
    "collapsed": false,
    "pycharm": {
     "name": "#%%\n"
    }
   }
  },
  {
   "cell_type": "code",
   "execution_count": 207,
   "outputs": [
    {
     "ename": "AttributeError",
     "evalue": "module 'model' has no attribute 'feature_selection'",
     "output_type": "error",
     "traceback": [
      "\u001B[1;31m---------------------------------------------------------------------------\u001B[0m",
      "\u001B[1;31mAttributeError\u001B[0m                            Traceback (most recent call last)",
      "\u001B[1;32m~\\AppData\\Local\\Temp/ipykernel_2364/75010125.py\u001B[0m in \u001B[0;36m<module>\u001B[1;34m\u001B[0m\n\u001B[1;32m----> 1\u001B[1;33m \u001B[0mmodel\u001B[0m\u001B[1;33m.\u001B[0m\u001B[0mfeature_selection\u001B[0m\u001B[1;33m\u001B[0m\u001B[1;33m\u001B[0m\u001B[0m\n\u001B[0m",
      "\u001B[1;31mAttributeError\u001B[0m: module 'model' has no attribute 'feature_selection'"
     ]
    }
   ],
   "source": [],
   "metadata": {
    "collapsed": false,
    "pycharm": {
     "name": "#%%"
    }
   }
  }
 ],
 "metadata": {
  "kernelspec": {
   "name": "seismicprediction",
   "language": "python",
   "display_name": "SeismicPrediction"
  },
  "language_info": {
   "codemirror_mode": {
    "name": "ipython",
    "version": 2
   },
   "file_extension": ".py",
   "mimetype": "text/x-python",
   "name": "python",
   "nbconvert_exporter": "python",
   "pygments_lexer": "ipython2",
   "version": "2.7.6"
  }
 },
 "nbformat": 4,
 "nbformat_minor": 0
}