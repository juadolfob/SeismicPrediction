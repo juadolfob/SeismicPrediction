{
 "cells": [
  {
   "cell_type": "code",
   "execution_count": 12,
   "outputs": [
    {
     "name": "stdout",
     "output_type": "stream",
     "text": [
      "Calculating new features...\n",
      "New features generated.\n",
      "New features saved.\n"
     ]
    }
   ],
   "source": [
    "import model\n",
    "from model import CalculateFeatures\n",
    "\n",
    "print(\"Calculating new features...\")\n",
    "df = model.load_data('../../data/DATA_3_south.csv')\n",
    "df_last500=df[:500]\n",
    "df_model = CalculateFeatures(df_last500, 50, trim_features=True, mag_threshold=6.0)\n",
    "print(\"New features generated.\")\n",
    "features = df_model.features\n",
    "features.to_csv(\"../../model/features_cache/features.csv\", index=False)\n",
    "print(\"New features saved.\")"
   ],
   "metadata": {
    "collapsed": false,
    "pycharm": {
     "name": "#%%\n"
    }
   }
  },
  {
   "cell_type": "code",
   "execution_count": 13,
   "outputs": [
    {
     "data": {
      "text/plain": "     old_index              firstT               lastT  elapsedT  meanMag  \\\n0           72 2017-01-02 04:22:50 2017-01-08 00:57:59    506109    3.968   \n1           73 2017-01-02 06:34:09 2017-01-08 11:24:47    535838    3.964   \n2           74 2017-01-02 07:16:36 2017-01-08 12:16:03    536367    3.978   \n3           75 2017-01-02 08:31:38 2017-01-08 21:15:56    564258    3.978   \n4           76 2017-01-02 14:48:51 2017-01-08 22:53:08    547457    3.982   \n..         ...                 ...                 ...       ...      ...   \n272        344 2017-02-02 01:53:46 2017-02-06 00:38:13    341067    3.960   \n273        345 2017-02-02 04:55:09 2017-02-06 03:09:46    339277    3.960   \n274        346 2017-02-02 07:17:25 2017-02-06 04:03:05    333940    3.960   \n275        347 2017-02-02 07:32:42 2017-02-06 04:27:36    334494    3.956   \n276        348 2017-02-02 07:51:33 2017-02-06 04:59:05    335252    3.956   \n\n     maxMag  rateSqrtEnergy             u             c     a_lsq  ...  \\\n0       4.8    80703.020164  10328.755102  1.483613e+09  8.264119  ...   \n1       4.8    75792.567758  10935.469388  1.483623e+09  8.206529  ...   \n2       4.8    78645.619778  10946.265306  1.483634e+09  7.947511  ...   \n3       4.8    74758.204835  11515.469388  1.483644e+09  7.947511  ...   \n4       4.8    77476.225627  11172.591837  1.483656e+09  8.002564  ...   \n..      ...             ...           ...           ...       ...  ...   \n272     4.5   115297.670760   6960.551020  1.486164e+09  8.548680  ...   \n273     4.5   115905.972621   6924.020408  1.486171e+09  8.548680  ...   \n274     4.5   117758.371783   6815.102041  1.486178e+09  8.548680  ...   \n275     4.5   116583.676997   6826.408163  1.486185e+09  8.659864  ...   \n276     4.5   116320.082963   6841.877551  1.486192e+09  8.659864  ...   \n\n     bStd_mlk  grcStd_lsq  grcStd_mlk      pMag_lsq      pMag_mlk  \\\n0    0.364415   32.814512   77.689325  3.291510e-11  3.086617e-16   \n1    0.384960   32.315588   81.559177  3.917680e-11  1.291747e-16   \n2    0.362695   33.436872   78.113437  1.082742e-10  2.295409e-15   \n3    0.362695   33.436872   78.113437  1.082742e-10  2.295409e-15   \n4    0.344660   33.954916   74.703050  9.168694e-11  4.815036e-15   \n..        ...         ...         ...           ...           ...   \n272  0.216414   20.507565   51.493780  1.319592e-11  5.175555e-17   \n273  0.216414   20.507565   51.493780  1.319592e-11  5.175555e-17   \n274  0.216414   20.507565   51.493780  1.319592e-11  5.175555e-17   \n275  0.229362   21.445244   54.486459  8.480495e-12  1.978637e-17   \n276  0.229362   21.445244   54.486459  8.480495e-12  1.978637e-17   \n\n     zSeismicRateChange  bSeismicRateChange  lastDMaxMag  nextDMaxMag  \\\n0            180.138835           -6.383146          4.8          5.0   \n1           1219.200558          292.410678          4.8          5.0   \n2            162.634560            5.059640          4.8          5.0   \n3           1180.910666          266.499676          4.8          5.0   \n4            916.542416         -156.641921          4.8          5.0   \n..                  ...                 ...          ...          ...   \n272          462.547295          -50.986212          4.5          5.0   \n273          299.165506          -21.460530          4.5          5.0   \n274          516.575261          -64.161114          4.5          5.0   \n275          166.433170            6.712022          4.5          5.0   \n276          194.679223            9.175935          4.5          5.0   \n\n     nextDMaxMagT  \n0           False  \n1           False  \n2           False  \n3           False  \n4           False  \n..            ...  \n272         False  \n273         False  \n274         False  \n275         False  \n276         False  \n\n[277 rows x 28 columns]",
      "text/html": "<div>\n<style scoped>\n    .dataframe tbody tr th:only-of-type {\n        vertical-align: middle;\n    }\n\n    .dataframe tbody tr th {\n        vertical-align: top;\n    }\n\n    .dataframe thead th {\n        text-align: right;\n    }\n</style>\n<table border=\"1\" class=\"dataframe\">\n  <thead>\n    <tr style=\"text-align: right;\">\n      <th></th>\n      <th>old_index</th>\n      <th>firstT</th>\n      <th>lastT</th>\n      <th>elapsedT</th>\n      <th>meanMag</th>\n      <th>maxMag</th>\n      <th>rateSqrtEnergy</th>\n      <th>u</th>\n      <th>c</th>\n      <th>a_lsq</th>\n      <th>...</th>\n      <th>bStd_mlk</th>\n      <th>grcStd_lsq</th>\n      <th>grcStd_mlk</th>\n      <th>pMag_lsq</th>\n      <th>pMag_mlk</th>\n      <th>zSeismicRateChange</th>\n      <th>bSeismicRateChange</th>\n      <th>lastDMaxMag</th>\n      <th>nextDMaxMag</th>\n      <th>nextDMaxMagT</th>\n    </tr>\n  </thead>\n  <tbody>\n    <tr>\n      <th>0</th>\n      <td>72</td>\n      <td>2017-01-02 04:22:50</td>\n      <td>2017-01-08 00:57:59</td>\n      <td>506109</td>\n      <td>3.968</td>\n      <td>4.8</td>\n      <td>80703.020164</td>\n      <td>10328.755102</td>\n      <td>1.483613e+09</td>\n      <td>8.264119</td>\n      <td>...</td>\n      <td>0.364415</td>\n      <td>32.814512</td>\n      <td>77.689325</td>\n      <td>3.291510e-11</td>\n      <td>3.086617e-16</td>\n      <td>180.138835</td>\n      <td>-6.383146</td>\n      <td>4.8</td>\n      <td>5.0</td>\n      <td>False</td>\n    </tr>\n    <tr>\n      <th>1</th>\n      <td>73</td>\n      <td>2017-01-02 06:34:09</td>\n      <td>2017-01-08 11:24:47</td>\n      <td>535838</td>\n      <td>3.964</td>\n      <td>4.8</td>\n      <td>75792.567758</td>\n      <td>10935.469388</td>\n      <td>1.483623e+09</td>\n      <td>8.206529</td>\n      <td>...</td>\n      <td>0.384960</td>\n      <td>32.315588</td>\n      <td>81.559177</td>\n      <td>3.917680e-11</td>\n      <td>1.291747e-16</td>\n      <td>1219.200558</td>\n      <td>292.410678</td>\n      <td>4.8</td>\n      <td>5.0</td>\n      <td>False</td>\n    </tr>\n    <tr>\n      <th>2</th>\n      <td>74</td>\n      <td>2017-01-02 07:16:36</td>\n      <td>2017-01-08 12:16:03</td>\n      <td>536367</td>\n      <td>3.978</td>\n      <td>4.8</td>\n      <td>78645.619778</td>\n      <td>10946.265306</td>\n      <td>1.483634e+09</td>\n      <td>7.947511</td>\n      <td>...</td>\n      <td>0.362695</td>\n      <td>33.436872</td>\n      <td>78.113437</td>\n      <td>1.082742e-10</td>\n      <td>2.295409e-15</td>\n      <td>162.634560</td>\n      <td>5.059640</td>\n      <td>4.8</td>\n      <td>5.0</td>\n      <td>False</td>\n    </tr>\n    <tr>\n      <th>3</th>\n      <td>75</td>\n      <td>2017-01-02 08:31:38</td>\n      <td>2017-01-08 21:15:56</td>\n      <td>564258</td>\n      <td>3.978</td>\n      <td>4.8</td>\n      <td>74758.204835</td>\n      <td>11515.469388</td>\n      <td>1.483644e+09</td>\n      <td>7.947511</td>\n      <td>...</td>\n      <td>0.362695</td>\n      <td>33.436872</td>\n      <td>78.113437</td>\n      <td>1.082742e-10</td>\n      <td>2.295409e-15</td>\n      <td>1180.910666</td>\n      <td>266.499676</td>\n      <td>4.8</td>\n      <td>5.0</td>\n      <td>False</td>\n    </tr>\n    <tr>\n      <th>4</th>\n      <td>76</td>\n      <td>2017-01-02 14:48:51</td>\n      <td>2017-01-08 22:53:08</td>\n      <td>547457</td>\n      <td>3.982</td>\n      <td>4.8</td>\n      <td>77476.225627</td>\n      <td>11172.591837</td>\n      <td>1.483656e+09</td>\n      <td>8.002564</td>\n      <td>...</td>\n      <td>0.344660</td>\n      <td>33.954916</td>\n      <td>74.703050</td>\n      <td>9.168694e-11</td>\n      <td>4.815036e-15</td>\n      <td>916.542416</td>\n      <td>-156.641921</td>\n      <td>4.8</td>\n      <td>5.0</td>\n      <td>False</td>\n    </tr>\n    <tr>\n      <th>...</th>\n      <td>...</td>\n      <td>...</td>\n      <td>...</td>\n      <td>...</td>\n      <td>...</td>\n      <td>...</td>\n      <td>...</td>\n      <td>...</td>\n      <td>...</td>\n      <td>...</td>\n      <td>...</td>\n      <td>...</td>\n      <td>...</td>\n      <td>...</td>\n      <td>...</td>\n      <td>...</td>\n      <td>...</td>\n      <td>...</td>\n      <td>...</td>\n      <td>...</td>\n      <td>...</td>\n    </tr>\n    <tr>\n      <th>272</th>\n      <td>344</td>\n      <td>2017-02-02 01:53:46</td>\n      <td>2017-02-06 00:38:13</td>\n      <td>341067</td>\n      <td>3.960</td>\n      <td>4.5</td>\n      <td>115297.670760</td>\n      <td>6960.551020</td>\n      <td>1.486164e+09</td>\n      <td>8.548680</td>\n      <td>...</td>\n      <td>0.216414</td>\n      <td>20.507565</td>\n      <td>51.493780</td>\n      <td>1.319592e-11</td>\n      <td>5.175555e-17</td>\n      <td>462.547295</td>\n      <td>-50.986212</td>\n      <td>4.5</td>\n      <td>5.0</td>\n      <td>False</td>\n    </tr>\n    <tr>\n      <th>273</th>\n      <td>345</td>\n      <td>2017-02-02 04:55:09</td>\n      <td>2017-02-06 03:09:46</td>\n      <td>339277</td>\n      <td>3.960</td>\n      <td>4.5</td>\n      <td>115905.972621</td>\n      <td>6924.020408</td>\n      <td>1.486171e+09</td>\n      <td>8.548680</td>\n      <td>...</td>\n      <td>0.216414</td>\n      <td>20.507565</td>\n      <td>51.493780</td>\n      <td>1.319592e-11</td>\n      <td>5.175555e-17</td>\n      <td>299.165506</td>\n      <td>-21.460530</td>\n      <td>4.5</td>\n      <td>5.0</td>\n      <td>False</td>\n    </tr>\n    <tr>\n      <th>274</th>\n      <td>346</td>\n      <td>2017-02-02 07:17:25</td>\n      <td>2017-02-06 04:03:05</td>\n      <td>333940</td>\n      <td>3.960</td>\n      <td>4.5</td>\n      <td>117758.371783</td>\n      <td>6815.102041</td>\n      <td>1.486178e+09</td>\n      <td>8.548680</td>\n      <td>...</td>\n      <td>0.216414</td>\n      <td>20.507565</td>\n      <td>51.493780</td>\n      <td>1.319592e-11</td>\n      <td>5.175555e-17</td>\n      <td>516.575261</td>\n      <td>-64.161114</td>\n      <td>4.5</td>\n      <td>5.0</td>\n      <td>False</td>\n    </tr>\n    <tr>\n      <th>275</th>\n      <td>347</td>\n      <td>2017-02-02 07:32:42</td>\n      <td>2017-02-06 04:27:36</td>\n      <td>334494</td>\n      <td>3.956</td>\n      <td>4.5</td>\n      <td>116583.676997</td>\n      <td>6826.408163</td>\n      <td>1.486185e+09</td>\n      <td>8.659864</td>\n      <td>...</td>\n      <td>0.229362</td>\n      <td>21.445244</td>\n      <td>54.486459</td>\n      <td>8.480495e-12</td>\n      <td>1.978637e-17</td>\n      <td>166.433170</td>\n      <td>6.712022</td>\n      <td>4.5</td>\n      <td>5.0</td>\n      <td>False</td>\n    </tr>\n    <tr>\n      <th>276</th>\n      <td>348</td>\n      <td>2017-02-02 07:51:33</td>\n      <td>2017-02-06 04:59:05</td>\n      <td>335252</td>\n      <td>3.956</td>\n      <td>4.5</td>\n      <td>116320.082963</td>\n      <td>6841.877551</td>\n      <td>1.486192e+09</td>\n      <td>8.659864</td>\n      <td>...</td>\n      <td>0.229362</td>\n      <td>21.445244</td>\n      <td>54.486459</td>\n      <td>8.480495e-12</td>\n      <td>1.978637e-17</td>\n      <td>194.679223</td>\n      <td>9.175935</td>\n      <td>4.5</td>\n      <td>5.0</td>\n      <td>False</td>\n    </tr>\n  </tbody>\n</table>\n<p>277 rows × 28 columns</p>\n</div>"
     },
     "execution_count": 13,
     "metadata": {},
     "output_type": "execute_result"
    }
   ],
   "source": [
    "features"
   ],
   "metadata": {
    "collapsed": false,
    "pycharm": {
     "name": "#%%\n"
    }
   }
  },
  {
   "cell_type": "code",
   "execution_count": null,
   "outputs": [],
   "source": [],
   "metadata": {
    "collapsed": false,
    "pycharm": {
     "name": "#%%\n"
    }
   }
  }
 ],
 "metadata": {
  "kernelspec": {
   "display_name": "Python 3",
   "language": "python",
   "name": "python3"
  },
  "language_info": {
   "codemirror_mode": {
    "name": "ipython",
    "version": 2
   },
   "file_extension": ".py",
   "mimetype": "text/x-python",
   "name": "python",
   "nbconvert_exporter": "python",
   "pygments_lexer": "ipython2",
   "version": "2.7.6"
  }
 },
 "nbformat": 4,
 "nbformat_minor": 0
}