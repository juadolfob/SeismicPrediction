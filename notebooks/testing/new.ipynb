{
 "cells": [
  {
   "cell_type": "code",
   "execution_count": 1,
   "outputs": [],
   "source": [
    "import numpy as np\n",
    "import tensorflow as tf"
   ],
   "metadata": {
    "collapsed": false,
    "pycharm": {
     "name": "#%%\n"
    }
   }
  },
  {
   "cell_type": "code",
   "execution_count": 60,
   "outputs": [],
   "source": [
    "from keras.utils import metrics_utils\n",
    "from tensorflow.python.ops import init_ops\n",
    "\n",
    "\n",
    "class NegativePredictiveValue(tf.keras.metrics.Metric):\n",
    "\n",
    "  def __init__(self, name='Negative Predictive Value', **kwargs):\n",
    "    super(NegativePredictiveValue, self).__init__(name=name, **kwargs)\n",
    "    self.true_negatives = self.add_weight(\n",
    "        'true_negatives',\n",
    "        initializer=init_ops.zeros_initializer)\n",
    "    self.false_negatives = self.add_weight(\n",
    "        'false_negatives',\n",
    "        initializer=init_ops.zeros_initializer)\n",
    "\n",
    "\n",
    "  def update_state(self, y_true, y_pred, sample_weight=None):\n",
    "        y_true = tf.cast(y_true, tf.bool)\n",
    "        y_pred = tf.cast(tf.round(y_pred), tf.bool)\n",
    "        # if (y_pred == negative_value) and (y_pred == negative_value)\n",
    "        self.true_negatives = tf.reduce_sum(tf.cast(tf.logical_and(tf.equal(y_pred, False),\n",
    "                                                  tf.equal(y_pred, y_true)), tf.float32))\n",
    "        # if (y_pred == negative_value) and (y_pred != negative_value)\n",
    "        self.false_negatives = tf.reduce_sum(tf.cast(tf.logical_and(tf.equal(y_pred, False),\n",
    "                                                  tf.not_equal(y_pred, y_true)), tf.float32))\n",
    "\n",
    "  def result(self):\n",
    "      return self.true_negatives /(self.true_negatives+self.false_negatives+tf.keras.backend.epsilon())\n",
    "\n",
    "  def reset_states(self):\n",
    "        self.true_negatives.assign(0)\n",
    "        self.false_negatives.assign(0)"
   ],
   "metadata": {
    "collapsed": false,
    "pycharm": {
     "name": "#%%\n"
    }
   }
  },
  {
   "cell_type": "code",
   "execution_count": 61,
   "outputs": [
    {
     "name": "stdout",
     "output_type": "stream",
     "text": [
      "tf.Tensor([False  True False False False False False  True], shape=(8,), dtype=bool)\n",
      "tf.Tensor([ True False  True False False  True  True  True], shape=(8,), dtype=bool)\n",
      "0.6666666865348816\n"
     ]
    }
   ],
   "source": [
    "m = NegativePredictiveValue()\n",
    "m.update_state(np.array([0,1,0,0,0,0,0,1]),\n",
    "               np.array([1,0,1,0,.1,1,1,1]))\n",
    "\n",
    "print(float(m.result()))"
   ],
   "metadata": {
    "collapsed": false,
    "pycharm": {
     "name": "#%%\n"
    }
   }
  },
  {
   "cell_type": "code",
   "execution_count": null,
   "outputs": [],
   "source": [],
   "metadata": {
    "collapsed": false,
    "pycharm": {
     "name": "#%%\n"
    }
   }
  }
 ],
 "metadata": {
  "kernelspec": {
   "display_name": "Python 3",
   "language": "python",
   "name": "python3"
  },
  "language_info": {
   "codemirror_mode": {
    "name": "ipython",
    "version": 2
   },
   "file_extension": ".py",
   "mimetype": "text/x-python",
   "name": "python",
   "nbconvert_exporter": "python",
   "pygments_lexer": "ipython2",
   "version": "2.7.6"
  }
 },
 "nbformat": 4,
 "nbformat_minor": 0
}