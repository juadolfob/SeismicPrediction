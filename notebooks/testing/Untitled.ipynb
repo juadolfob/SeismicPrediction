{
 "cells": [
  {
   "cell_type": "code",
   "execution_count": 1,
   "outputs": [],
   "source": [
    "\n",
    "\n",
    "import numpy as np\n",
    "import pandas as pd\n",
    "import numpy_ext as npext"
   ],
   "metadata": {
    "collapsed": false,
    "pycharm": {
     "name": "#%%\n"
    }
   }
  },
  {
   "cell_type": "code",
   "execution_count": 2,
   "outputs": [],
   "source": [
    "from numpy.ma import cumsum\n",
    "\n",
    "\n",
    "from model.calculate_features import CalculateFeatures\n",
    "\n",
    "dtypes = {'Magnitude': np.float64, 'Latitude': np.float64, 'Longitude': np.float64, 'Depth': np.float64}\n",
    "df = pd.read_csv('../../data/DATA_2_2017.csv', delimiter=',', dtype=dtypes,parse_dates=[\"Datetime\"],date_parser=np.datetime64)"
   ],
   "metadata": {
    "collapsed": false,
    "pycharm": {
     "name": "#%%\n"
    }
   }
  },
  {
   "cell_type": "code",
   "execution_count": 3,
   "outputs": [
    {
     "data": {
      "text/plain": "     index  Magnitude  Latitude  Longitude  Depth            Datetime\n0    40642        3.8     17.01     -95.84   50.0 2021-05-18 10:25:06\n1    40643        3.8     19.36    -103.89   51.0 2021-05-18 10:37:07\n2    40644        3.9     16.45     -95.16   56.0 2021-05-18 11:17:23\n3    40645        4.0     15.82     -94.21   81.0 2021-05-18 11:46:12\n4    40646        3.8     16.18     -94.03  107.0 2021-05-18 13:03:22\n..     ...        ...       ...        ...    ...                 ...\n195  40837        3.9     16.81    -100.96   12.0 2021-05-29 14:15:02\n196  40838        4.2     16.78    -100.89   15.0 2021-05-29 16:09:39\n197  40839        3.8     32.10    -115.08   15.0 2021-05-29 18:26:41\n198  40840        3.9     15.87     -94.71   15.0 2021-05-29 19:54:14\n199  40841        4.3     17.78     -93.72    3.0 2021-05-30 01:38:49\n\n[200 rows x 6 columns]",
      "text/html": "<div>\n<style scoped>\n    .dataframe tbody tr th:only-of-type {\n        vertical-align: middle;\n    }\n\n    .dataframe tbody tr th {\n        vertical-align: top;\n    }\n\n    .dataframe thead th {\n        text-align: right;\n    }\n</style>\n<table border=\"1\" class=\"dataframe\">\n  <thead>\n    <tr style=\"text-align: right;\">\n      <th></th>\n      <th>index</th>\n      <th>Magnitude</th>\n      <th>Latitude</th>\n      <th>Longitude</th>\n      <th>Depth</th>\n      <th>Datetime</th>\n    </tr>\n  </thead>\n  <tbody>\n    <tr>\n      <th>0</th>\n      <td>40642</td>\n      <td>3.8</td>\n      <td>17.01</td>\n      <td>-95.84</td>\n      <td>50.0</td>\n      <td>2021-05-18 10:25:06</td>\n    </tr>\n    <tr>\n      <th>1</th>\n      <td>40643</td>\n      <td>3.8</td>\n      <td>19.36</td>\n      <td>-103.89</td>\n      <td>51.0</td>\n      <td>2021-05-18 10:37:07</td>\n    </tr>\n    <tr>\n      <th>2</th>\n      <td>40644</td>\n      <td>3.9</td>\n      <td>16.45</td>\n      <td>-95.16</td>\n      <td>56.0</td>\n      <td>2021-05-18 11:17:23</td>\n    </tr>\n    <tr>\n      <th>3</th>\n      <td>40645</td>\n      <td>4.0</td>\n      <td>15.82</td>\n      <td>-94.21</td>\n      <td>81.0</td>\n      <td>2021-05-18 11:46:12</td>\n    </tr>\n    <tr>\n      <th>4</th>\n      <td>40646</td>\n      <td>3.8</td>\n      <td>16.18</td>\n      <td>-94.03</td>\n      <td>107.0</td>\n      <td>2021-05-18 13:03:22</td>\n    </tr>\n    <tr>\n      <th>...</th>\n      <td>...</td>\n      <td>...</td>\n      <td>...</td>\n      <td>...</td>\n      <td>...</td>\n      <td>...</td>\n    </tr>\n    <tr>\n      <th>195</th>\n      <td>40837</td>\n      <td>3.9</td>\n      <td>16.81</td>\n      <td>-100.96</td>\n      <td>12.0</td>\n      <td>2021-05-29 14:15:02</td>\n    </tr>\n    <tr>\n      <th>196</th>\n      <td>40838</td>\n      <td>4.2</td>\n      <td>16.78</td>\n      <td>-100.89</td>\n      <td>15.0</td>\n      <td>2021-05-29 16:09:39</td>\n    </tr>\n    <tr>\n      <th>197</th>\n      <td>40839</td>\n      <td>3.8</td>\n      <td>32.10</td>\n      <td>-115.08</td>\n      <td>15.0</td>\n      <td>2021-05-29 18:26:41</td>\n    </tr>\n    <tr>\n      <th>198</th>\n      <td>40840</td>\n      <td>3.9</td>\n      <td>15.87</td>\n      <td>-94.71</td>\n      <td>15.0</td>\n      <td>2021-05-29 19:54:14</td>\n    </tr>\n    <tr>\n      <th>199</th>\n      <td>40841</td>\n      <td>4.3</td>\n      <td>17.78</td>\n      <td>-93.72</td>\n      <td>3.0</td>\n      <td>2021-05-30 01:38:49</td>\n    </tr>\n  </tbody>\n</table>\n<p>200 rows × 6 columns</p>\n</div>"
     },
     "execution_count": 3,
     "metadata": {},
     "output_type": "execute_result"
    }
   ],
   "source": [
    "df=df[-200:].reset_index()\n",
    "df"
   ],
   "metadata": {
    "collapsed": false,
    "pycharm": {
     "name": "#%%\n"
    }
   }
  },
  {
   "cell_type": "code",
   "execution_count": 4,
   "outputs": [
    {
     "data": {
      "text/plain": "0.0"
     },
     "execution_count": 4,
     "metadata": {},
     "output_type": "execute_result"
    }
   ],
   "source": [
    "df_greater_than_5=df[df.Magnitude >= 5].index\n",
    "df_lesser_than_5=df[df.Magnitude < 5].index\n",
    "len(df_greater_than_5)/len(df_lesser_than_5)*100"
   ],
   "metadata": {
    "collapsed": false,
    "pycharm": {
     "name": "#%%\n"
    }
   }
  },
  {
   "cell_type": "code",
   "execution_count": 5,
   "outputs": [
    {
     "data": {
      "text/plain": "<Figure size 432x288 with 1 Axes>",
      "image/png": "[encoded data removed]"
     },
     "metadata": {
      "needs_background": "light"
     },
     "output_type": "display_data"
    }
   ],
   "source": [
    "a=CalculateFeatures(df,50)"
   ],
   "metadata": {
    "collapsed": false,
    "pycharm": {
     "name": "#%%\n"
    }
   }
  },
  {
   "cell_type": "code",
   "execution_count": 6,
   "outputs": [
    {
     "data": {
      "text/plain": "2.5348985192072244"
     },
     "execution_count": 6,
     "metadata": {},
     "output_type": "execute_result"
    }
   ],
   "source": [
    "a.b"
   ],
   "metadata": {
    "collapsed": false,
    "pycharm": {
     "name": "#%%\n"
    }
   }
  },
  {
   "cell_type": "code",
   "execution_count": 7,
   "outputs": [
    {
     "data": {
      "text/plain": "     old_index              firstT               lastT  meanMag          a  \\\n1           50 2021-05-18 10:37:07 2021-05-21 23:14:38    3.948   9.920047   \n2           51 2021-05-18 11:17:23 2021-05-21 23:31:06    3.952   9.762965   \n3           52 2021-05-18 11:46:12 2021-05-21 23:56:00    3.952   9.762965   \n4           53 2021-05-18 13:03:22 2021-05-22 01:46:58    3.948   9.920047   \n5           54 2021-05-18 15:32:53 2021-05-22 03:36:37    3.954   9.653166   \n..         ...                 ...                 ...      ...        ...   \n145        194 2021-05-27 09:34:35 2021-05-29 13:59:14    3.900  12.693612   \n146        195 2021-05-27 10:51:45 2021-05-29 14:15:02    3.902  12.553417   \n147        196 2021-05-27 11:09:51 2021-05-29 16:09:39    3.906  12.286362   \n148        197 2021-05-27 14:42:26 2021-05-29 18:26:41    3.902  12.611684   \n149        198 2021-05-27 14:51:06 2021-05-29 19:54:14    3.902  12.611684   \n\n            b  elapsedT  rateSqrtEnergy    meanTDiff  maxMag  \\\n1    2.160948    304651   123974.872133  6217.367347     4.4   \n2    2.118886    303223   125323.790345  6188.224490     4.4   \n3    2.118886    302988   125420.992513  6183.428571     4.4   \n4    2.160948    305016   123826.516544  6224.816327     4.4   \n5    2.090125    302624   126066.631600  6176.000000     4.4   \n..        ...       ...             ...          ...     ...   \n145  2.890790    188679   180717.102881  3850.591837     4.3   \n146  2.853407    184997   184886.916257  3775.448980     4.3   \n147  2.783464    190788   180992.594222  3893.632653     4.3   \n148  2.869527    186255   184151.986024  3801.122449     4.3   \n149  2.869527    190988   179588.393809  3897.714286     4.3   \n\n     zSeismicRateChange  bSeismicRateChange  last7dMaxMag  next14dMaxMag  \n1            856.562899          190.693680           4.4            4.8  \n2            267.207784          -18.114726           4.4            4.8  \n3            108.397417           -2.987962           4.4            4.8  \n4            318.433667           25.793582           4.4            4.8  \n5            345.832329          -30.326213           4.4            4.8  \n..                  ...                 ...           ...            ...  \n145          255.734237           21.154938           4.7            4.3  \n146          429.068759          -59.359471           4.7            4.3  \n147          538.098504           94.237313           4.7            4.3  \n148          476.077725          -72.676883           4.7            4.3  \n149          486.466854           76.764298           4.7            4.3  \n\n[149 rows x 14 columns]",
      "text/html": "<div>\n<style scoped>\n    .dataframe tbody tr th:only-of-type {\n        vertical-align: middle;\n    }\n\n    .dataframe tbody tr th {\n        vertical-align: top;\n    }\n\n    .dataframe thead th {\n        text-align: right;\n    }\n</style>\n<table border=\"1\" class=\"dataframe\">\n  <thead>\n    <tr style=\"text-align: right;\">\n      <th></th>\n      <th>old_index</th>\n      <th>firstT</th>\n      <th>lastT</th>\n      <th>meanMag</th>\n      <th>a</th>\n      <th>b</th>\n      <th>elapsedT</th>\n      <th>rateSqrtEnergy</th>\n      <th>meanTDiff</th>\n      <th>maxMag</th>\n      <th>zSeismicRateChange</th>\n      <th>bSeismicRateChange</th>\n      <th>last7dMaxMag</th>\n      <th>next14dMaxMag</th>\n    </tr>\n  </thead>\n  <tbody>\n    <tr>\n      <th>1</th>\n      <td>50</td>\n      <td>2021-05-18 10:37:07</td>\n      <td>2021-05-21 23:14:38</td>\n      <td>3.948</td>\n      <td>9.920047</td>\n      <td>2.160948</td>\n      <td>304651</td>\n      <td>123974.872133</td>\n      <td>6217.367347</td>\n      <td>4.4</td>\n      <td>856.562899</td>\n      <td>190.693680</td>\n      <td>4.4</td>\n      <td>4.8</td>\n    </tr>\n    <tr>\n      <th>2</th>\n      <td>51</td>\n      <td>2021-05-18 11:17:23</td>\n      <td>2021-05-21 23:31:06</td>\n      <td>3.952</td>\n      <td>9.762965</td>\n      <td>2.118886</td>\n      <td>303223</td>\n      <td>125323.790345</td>\n      <td>6188.224490</td>\n      <td>4.4</td>\n      <td>267.207784</td>\n      <td>-18.114726</td>\n      <td>4.4</td>\n      <td>4.8</td>\n    </tr>\n    <tr>\n      <th>3</th>\n      <td>52</td>\n      <td>2021-05-18 11:46:12</td>\n      <td>2021-05-21 23:56:00</td>\n      <td>3.952</td>\n      <td>9.762965</td>\n      <td>2.118886</td>\n      <td>302988</td>\n      <td>125420.992513</td>\n      <td>6183.428571</td>\n      <td>4.4</td>\n      <td>108.397417</td>\n      <td>-2.987962</td>\n      <td>4.4</td>\n      <td>4.8</td>\n    </tr>\n    <tr>\n      <th>4</th>\n      <td>53</td>\n      <td>2021-05-18 13:03:22</td>\n      <td>2021-05-22 01:46:58</td>\n      <td>3.948</td>\n      <td>9.920047</td>\n      <td>2.160948</td>\n      <td>305016</td>\n      <td>123826.516544</td>\n      <td>6224.816327</td>\n      <td>4.4</td>\n      <td>318.433667</td>\n      <td>25.793582</td>\n      <td>4.4</td>\n      <td>4.8</td>\n    </tr>\n    <tr>\n      <th>5</th>\n      <td>54</td>\n      <td>2021-05-18 15:32:53</td>\n      <td>2021-05-22 03:36:37</td>\n      <td>3.954</td>\n      <td>9.653166</td>\n      <td>2.090125</td>\n      <td>302624</td>\n      <td>126066.631600</td>\n      <td>6176.000000</td>\n      <td>4.4</td>\n      <td>345.832329</td>\n      <td>-30.326213</td>\n      <td>4.4</td>\n      <td>4.8</td>\n    </tr>\n    <tr>\n      <th>...</th>\n      <td>...</td>\n      <td>...</td>\n      <td>...</td>\n      <td>...</td>\n      <td>...</td>\n      <td>...</td>\n      <td>...</td>\n      <td>...</td>\n      <td>...</td>\n      <td>...</td>\n      <td>...</td>\n      <td>...</td>\n      <td>...</td>\n      <td>...</td>\n    </tr>\n    <tr>\n      <th>145</th>\n      <td>194</td>\n      <td>2021-05-27 09:34:35</td>\n      <td>2021-05-29 13:59:14</td>\n      <td>3.900</td>\n      <td>12.693612</td>\n      <td>2.890790</td>\n      <td>188679</td>\n      <td>180717.102881</td>\n      <td>3850.591837</td>\n      <td>4.3</td>\n      <td>255.734237</td>\n      <td>21.154938</td>\n      <td>4.7</td>\n      <td>4.3</td>\n    </tr>\n    <tr>\n      <th>146</th>\n      <td>195</td>\n      <td>2021-05-27 10:51:45</td>\n      <td>2021-05-29 14:15:02</td>\n      <td>3.902</td>\n      <td>12.553417</td>\n      <td>2.853407</td>\n      <td>184997</td>\n      <td>184886.916257</td>\n      <td>3775.448980</td>\n      <td>4.3</td>\n      <td>429.068759</td>\n      <td>-59.359471</td>\n      <td>4.7</td>\n      <td>4.3</td>\n    </tr>\n    <tr>\n      <th>147</th>\n      <td>196</td>\n      <td>2021-05-27 11:09:51</td>\n      <td>2021-05-29 16:09:39</td>\n      <td>3.906</td>\n      <td>12.286362</td>\n      <td>2.783464</td>\n      <td>190788</td>\n      <td>180992.594222</td>\n      <td>3893.632653</td>\n      <td>4.3</td>\n      <td>538.098504</td>\n      <td>94.237313</td>\n      <td>4.7</td>\n      <td>4.3</td>\n    </tr>\n    <tr>\n      <th>148</th>\n      <td>197</td>\n      <td>2021-05-27 14:42:26</td>\n      <td>2021-05-29 18:26:41</td>\n      <td>3.902</td>\n      <td>12.611684</td>\n      <td>2.869527</td>\n      <td>186255</td>\n      <td>184151.986024</td>\n      <td>3801.122449</td>\n      <td>4.3</td>\n      <td>476.077725</td>\n      <td>-72.676883</td>\n      <td>4.7</td>\n      <td>4.3</td>\n    </tr>\n    <tr>\n      <th>149</th>\n      <td>198</td>\n      <td>2021-05-27 14:51:06</td>\n      <td>2021-05-29 19:54:14</td>\n      <td>3.902</td>\n      <td>12.611684</td>\n      <td>2.869527</td>\n      <td>190988</td>\n      <td>179588.393809</td>\n      <td>3897.714286</td>\n      <td>4.3</td>\n      <td>486.466854</td>\n      <td>76.764298</td>\n      <td>4.7</td>\n      <td>4.3</td>\n    </tr>\n  </tbody>\n</table>\n<p>149 rows × 14 columns</p>\n</div>"
     },
     "execution_count": 7,
     "metadata": {},
     "output_type": "execute_result"
    }
   ],
   "source": [
    "a.features"
   ],
   "metadata": {
    "collapsed": false,
    "pycharm": {
     "name": "#%%\n"
    }
   }
  },
  {
   "cell_type": "code",
   "execution_count": 7,
   "outputs": [],
   "source": [],
   "metadata": {
    "collapsed": false,
    "pycharm": {
     "name": "#%%\n"
    }
   }
  },
  {
   "cell_type": "code",
   "execution_count": 8,
   "outputs": [
    {
     "data": {
      "text/plain": "<Figure size 432x288 with 1 Axes>",
      "image/png": "[encoded data removed]"
     },
     "metadata": {
      "needs_background": "light"
     },
     "output_type": "display_data"
    },
    {
     "ename": "AttributeError",
     "evalue": "'numpy.ndarray' object has no attribute 'mapped_mag'",
     "output_type": "error",
     "traceback": [
      "\u001B[1;31m---------------------------------------------------------------------------\u001B[0m",
      "\u001B[1;31mAttributeError\u001B[0m                            Traceback (most recent call last)",
      "\u001B[1;32m<ipython-input-8-0717bfc54d4c>\u001B[0m in \u001B[0;36m<module>\u001B[1;34m\u001B[0m\n\u001B[0;32m      4\u001B[0m \u001B[1;33m\u001B[0m\u001B[0m\n\u001B[0;32m      5\u001B[0m \u001B[0mGRC\u001B[0m \u001B[1;33m=\u001B[0m \u001B[0mCalculateFeatures\u001B[0m\u001B[1;33m.\u001B[0m\u001B[0mgutenberg_richter_curve_fit\u001B[0m\u001B[1;33m(\u001B[0m\u001B[0mdf\u001B[0m\u001B[1;33m.\u001B[0m\u001B[0mMagnitude\u001B[0m\u001B[1;33m)\u001B[0m\u001B[1;33m\u001B[0m\u001B[1;33m\u001B[0m\u001B[0m\n\u001B[1;32m----> 6\u001B[1;33m \u001B[0mx\u001B[0m\u001B[1;33m=\u001B[0m\u001B[0mGRC\u001B[0m\u001B[1;33m.\u001B[0m\u001B[0mmapped_mag\u001B[0m\u001B[1;33m[\u001B[0m\u001B[1;33m:\u001B[0m\u001B[1;33m,\u001B[0m\u001B[1;36m0\u001B[0m\u001B[1;33m]\u001B[0m\u001B[1;33m\u001B[0m\u001B[1;33m\u001B[0m\u001B[0m\n\u001B[0m\u001B[0;32m      7\u001B[0m \u001B[0my\u001B[0m\u001B[1;33m=\u001B[0m\u001B[0mGRC\u001B[0m\u001B[1;33m.\u001B[0m\u001B[0mmapped_mag\u001B[0m\u001B[1;33m[\u001B[0m\u001B[1;33m:\u001B[0m\u001B[1;33m,\u001B[0m\u001B[1;36m1\u001B[0m\u001B[1;33m]\u001B[0m\u001B[1;33m\u001B[0m\u001B[1;33m\u001B[0m\u001B[0m\n\u001B[0;32m      8\u001B[0m \u001B[0mplt\u001B[0m\u001B[1;33m.\u001B[0m\u001B[0mfigure\u001B[0m\u001B[1;33m(\u001B[0m\u001B[1;33m)\u001B[0m\u001B[1;33m\u001B[0m\u001B[1;33m\u001B[0m\u001B[0m\n",
      "\u001B[1;31mAttributeError\u001B[0m: 'numpy.ndarray' object has no attribute 'mapped_mag'"
     ]
    }
   ],
   "source": [
    "import numpy as np\n",
    "import matplotlib.pyplot as plt\n",
    "from scipy.optimize import curve_fit\n",
    "\n",
    "GRC = CalculateFeatures.gutenberg_richter_curve_fit(df.Magnitude)\n",
    "x=GRC.mapped_mag[:,0]\n",
    "y=GRC.mapped_mag[:,1]\n",
    "plt.figure()\n",
    "plt.plot(x, y, 'ko', label=\"Original Data\")\n",
    "plt.plot(x, GRC.gutenberg_richter_law(x,GRC.a,GRC.b), 'r-', label=\"Fitted Curve\")\n",
    "plt.legend()\n",
    "plt.show()"
   ],
   "metadata": {
    "collapsed": false,
    "pycharm": {
     "name": "#%%\n"
    }
   }
  },
  {
   "cell_type": "code",
   "execution_count": null,
   "outputs": [],
   "source": [],
   "metadata": {
    "collapsed": false,
    "pycharm": {
     "name": "#%%\n"
    }
   }
  }
 ],
 "metadata": {
  "kernelspec": {
   "name": "seismicprediction",
   "language": "python",
   "display_name": "SeismicPrediction"
  }
 },
 "nbformat": 4,
 "nbformat_minor": 5
}