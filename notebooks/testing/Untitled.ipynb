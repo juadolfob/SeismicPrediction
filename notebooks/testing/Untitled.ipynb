{
 "cells": [
  {
   "cell_type": "code",
   "execution_count": 1,
   "outputs": [],
   "source": [
    "import numpy as np\n",
    "import pandas as pd"
   ],
   "metadata": {
    "collapsed": false,
    "pycharm": {
     "name": "#%%\n"
    }
   }
  },
  {
   "cell_type": "code",
   "execution_count": 3,
   "outputs": [],
   "source": [
    "from model.calculate_features import CalculateFeatures\n",
    "\n",
    "dtypes = {'Magnitude': np.float64, 'Latitude': np.float64, 'Longitude': np.float64, 'Depth': np.float64}\n",
    "df = pd.read_csv('../../data/DATA_2.csv', delimiter=',', dtype=dtypes,parse_dates=[\"Datetime\"],date_parser=np.datetime64)\n",
    "df = df[:16]\n",
    "a=CalculateFeatures(df,3)"
   ],
   "metadata": {
    "collapsed": false,
    "pycharm": {
     "name": "#%%\n"
    }
   }
  },
  {
   "cell_type": "code",
   "execution_count": 4,
   "outputs": [
    {
     "data": {
      "text/plain": "                firstT               lastT   meanMag          a         b  \\\n0  1988-01-01 05:42:07 1988-01-01 15:55:44  4.233333   2.356720  0.492494   \n1  1988-01-01 15:26:55 1988-01-01 20:22:04  4.366667   5.813672  1.273888   \n2  1988-01-01 15:55:44 1988-01-01 20:52:15  4.266667   3.731581  0.814397   \n3  1988-01-01 20:22:04 1988-01-02 00:19:04  4.066667  10.019546  2.385606   \n4  1988-01-01 20:52:15 1988-01-02 03:39:45  4.066667  10.019546  2.385606   \n5  1988-01-02 00:19:04 1988-01-02 04:15:05  4.100000   9.144958  2.165321   \n6  1988-01-02 03:39:45 1988-01-02 09:35:41  4.033333   3.897477  0.898260   \n7  1988-01-02 04:15:05 1988-01-02 16:04:46  3.900000   6.520657  1.590404   \n8  1988-01-02 09:35:41 1988-01-02 21:19:35  3.866667   9.542425  2.385606   \n9  1988-01-02 16:04:46 1988-01-03 03:14:30  4.100000   3.194428  0.717332   \n10 1988-01-02 21:19:35 1988-01-03 04:00:32  4.266667   3.696846  0.802915   \n11 1988-01-03 03:14:30 1988-01-03 16:42:23  4.366667  10.735228  2.385606   \n12 1988-01-03 04:00:32 1988-01-03 17:56:35  4.166667   2.194011  0.440228   \n13 1988-01-03 16:42:23 1988-01-03 21:10:15  4.000000   4.351294  1.025603   \n\n    elapsedT  rateSqrtEnergy  meanTDiff  maxMag  \n0      36817   112300.945105    18408.5     4.6  \n1      17709   265077.702018     8854.5     4.6  \n2      17791   233548.863335     8895.5     4.6  \n3      14220   190624.115594     7110.0     4.2  \n4      24450   110866.050051    12225.0     4.2  \n5      14161   201991.919025     7080.5     4.2  \n6      21356   123076.449512    10678.0     4.2  \n7      42581    48583.723413    21290.5     4.1  \n8      42234    45437.583111    21117.0     4.0  \n9      40184    80637.035870    20092.0     4.5  \n10     24057   166749.750857    12028.5     4.5  \n11     48473    93880.963708    24236.5     4.5  \n12     50163    66490.975059    25081.5     4.3  \n13     16072   159544.964841     8036.0     4.3  ",
      "text/html": "<div>\n<style scoped>\n    .dataframe tbody tr th:only-of-type {\n        vertical-align: middle;\n    }\n\n    .dataframe tbody tr th {\n        vertical-align: top;\n    }\n\n    .dataframe thead th {\n        text-align: right;\n    }\n</style>\n<table border=\"1\" class=\"dataframe\">\n  <thead>\n    <tr style=\"text-align: right;\">\n      <th></th>\n      <th>firstT</th>\n      <th>lastT</th>\n      <th>meanMag</th>\n      <th>a</th>\n      <th>b</th>\n      <th>elapsedT</th>\n      <th>rateSqrtEnergy</th>\n      <th>meanTDiff</th>\n      <th>maxMag</th>\n    </tr>\n  </thead>\n  <tbody>\n    <tr>\n      <th>0</th>\n      <td>1988-01-01 05:42:07</td>\n      <td>1988-01-01 15:55:44</td>\n      <td>4.233333</td>\n      <td>2.356720</td>\n      <td>0.492494</td>\n      <td>36817</td>\n      <td>112300.945105</td>\n      <td>18408.5</td>\n      <td>4.6</td>\n    </tr>\n    <tr>\n      <th>1</th>\n      <td>1988-01-01 15:26:55</td>\n      <td>1988-01-01 20:22:04</td>\n      <td>4.366667</td>\n      <td>5.813672</td>\n      <td>1.273888</td>\n      <td>17709</td>\n      <td>265077.702018</td>\n      <td>8854.5</td>\n      <td>4.6</td>\n    </tr>\n    <tr>\n      <th>2</th>\n      <td>1988-01-01 15:55:44</td>\n      <td>1988-01-01 20:52:15</td>\n      <td>4.266667</td>\n      <td>3.731581</td>\n      <td>0.814397</td>\n      <td>17791</td>\n      <td>233548.863335</td>\n      <td>8895.5</td>\n      <td>4.6</td>\n    </tr>\n    <tr>\n      <th>3</th>\n      <td>1988-01-01 20:22:04</td>\n      <td>1988-01-02 00:19:04</td>\n      <td>4.066667</td>\n      <td>10.019546</td>\n      <td>2.385606</td>\n      <td>14220</td>\n      <td>190624.115594</td>\n      <td>7110.0</td>\n      <td>4.2</td>\n    </tr>\n    <tr>\n      <th>4</th>\n      <td>1988-01-01 20:52:15</td>\n      <td>1988-01-02 03:39:45</td>\n      <td>4.066667</td>\n      <td>10.019546</td>\n      <td>2.385606</td>\n      <td>24450</td>\n      <td>110866.050051</td>\n      <td>12225.0</td>\n      <td>4.2</td>\n    </tr>\n    <tr>\n      <th>5</th>\n      <td>1988-01-02 00:19:04</td>\n      <td>1988-01-02 04:15:05</td>\n      <td>4.100000</td>\n      <td>9.144958</td>\n      <td>2.165321</td>\n      <td>14161</td>\n      <td>201991.919025</td>\n      <td>7080.5</td>\n      <td>4.2</td>\n    </tr>\n    <tr>\n      <th>6</th>\n      <td>1988-01-02 03:39:45</td>\n      <td>1988-01-02 09:35:41</td>\n      <td>4.033333</td>\n      <td>3.897477</td>\n      <td>0.898260</td>\n      <td>21356</td>\n      <td>123076.449512</td>\n      <td>10678.0</td>\n      <td>4.2</td>\n    </tr>\n    <tr>\n      <th>7</th>\n      <td>1988-01-02 04:15:05</td>\n      <td>1988-01-02 16:04:46</td>\n      <td>3.900000</td>\n      <td>6.520657</td>\n      <td>1.590404</td>\n      <td>42581</td>\n      <td>48583.723413</td>\n      <td>21290.5</td>\n      <td>4.1</td>\n    </tr>\n    <tr>\n      <th>8</th>\n      <td>1988-01-02 09:35:41</td>\n      <td>1988-01-02 21:19:35</td>\n      <td>3.866667</td>\n      <td>9.542425</td>\n      <td>2.385606</td>\n      <td>42234</td>\n      <td>45437.583111</td>\n      <td>21117.0</td>\n      <td>4.0</td>\n    </tr>\n    <tr>\n      <th>9</th>\n      <td>1988-01-02 16:04:46</td>\n      <td>1988-01-03 03:14:30</td>\n      <td>4.100000</td>\n      <td>3.194428</td>\n      <td>0.717332</td>\n      <td>40184</td>\n      <td>80637.035870</td>\n      <td>20092.0</td>\n      <td>4.5</td>\n    </tr>\n    <tr>\n      <th>10</th>\n      <td>1988-01-02 21:19:35</td>\n      <td>1988-01-03 04:00:32</td>\n      <td>4.266667</td>\n      <td>3.696846</td>\n      <td>0.802915</td>\n      <td>24057</td>\n      <td>166749.750857</td>\n      <td>12028.5</td>\n      <td>4.5</td>\n    </tr>\n    <tr>\n      <th>11</th>\n      <td>1988-01-03 03:14:30</td>\n      <td>1988-01-03 16:42:23</td>\n      <td>4.366667</td>\n      <td>10.735228</td>\n      <td>2.385606</td>\n      <td>48473</td>\n      <td>93880.963708</td>\n      <td>24236.5</td>\n      <td>4.5</td>\n    </tr>\n    <tr>\n      <th>12</th>\n      <td>1988-01-03 04:00:32</td>\n      <td>1988-01-03 17:56:35</td>\n      <td>4.166667</td>\n      <td>2.194011</td>\n      <td>0.440228</td>\n      <td>50163</td>\n      <td>66490.975059</td>\n      <td>25081.5</td>\n      <td>4.3</td>\n    </tr>\n    <tr>\n      <th>13</th>\n      <td>1988-01-03 16:42:23</td>\n      <td>1988-01-03 21:10:15</td>\n      <td>4.000000</td>\n      <td>4.351294</td>\n      <td>1.025603</td>\n      <td>16072</td>\n      <td>159544.964841</td>\n      <td>8036.0</td>\n      <td>4.3</td>\n    </tr>\n  </tbody>\n</table>\n</div>"
     },
     "execution_count": 4,
     "metadata": {},
     "output_type": "execute_result"
    }
   ],
   "source": [
    "a.features"
   ],
   "metadata": {
    "collapsed": false,
    "pycharm": {
     "name": "#%%\n"
    }
   }
  },
  {
   "cell_type": "code",
   "execution_count": null,
   "outputs": [],
   "source": [],
   "metadata": {
    "collapsed": false,
    "pycharm": {
     "name": "#%%\n"
    }
   }
  }
 ],
 "metadata": {
  "kernelspec": {
   "name": "seismicprediction",
   "language": "python",
   "display_name": "SeismicPrediction"
  }
 },
 "nbformat": 4,
 "nbformat_minor": 5
}