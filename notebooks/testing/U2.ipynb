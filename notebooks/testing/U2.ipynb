{
 "cells": [
  {
   "cell_type": "code",
   "execution_count": null,
   "outputs": [],
   "source": [
    "#%matplotlib widget"
   ],
   "metadata": {
    "collapsed": false,
    "pycharm": {
     "name": "#%%\n"
    }
   }
  },
  {
   "cell_type": "markdown",
   "metadata": {
    "collapsed": true,
    "pycharm": {
     "name": "#%% md\n"
    }
   },
   "source": [
    "<html>\n",
    "<head>\n",
    "\t<meta charset=\"utf-8\"/>\n",
    "\t<link rel=\"stylesheet\" type=\"text/css\" href=\"style.css\">\n",
    "\t<script type=\"text/javascript\" src=\"JavaScript.js\"></script>\n",
    "</head>\n",
    "<body>\n",
    "\t<table>\n",
    "\t\t<tr>\n",
    "\t\t\t<td><div id=\"div11\" style=\"width:50px; height:50px\"></div></td>\n",
    "\t\t\t<td><div id=\"div12\" style=\"width:50px; height:50px\"></div></td>\n",
    "\t\t\t<td><div id=\"div13\" style=\"width:50px; height:50px\"></div></td>\n",
    "\t\t</tr>\n",
    "\t\t<tr>\n",
    "\t\t\t<td><div id=\"div21\" style=\"width:50px; height:50px\"></div></td>\n",
    "\t\t\t<td><div id=\"div22\" style=\"width:50px; height:50px\"></div></td>\n",
    "\t\t\t<td><div id=\"div23\" style=\"width:50px; height:50px\"></div></td>\n",
    "\t\t</tr>\n",
    "\t\t<tr>\n",
    "\t\t\t<td><div id=\"div31\" style=\"width:50px; height:50px\"></div></td>\n",
    "\t\t\t<td><div id=\"div32\" style=\"width:50px; height:50px\"></div></td>\n",
    "\t\t\t<td><div id=\"div33\" style=\"width:50px; height:50px\"></div></td>\n",
    "\t\t</tr>\n",
    "\t</table>\n",
    "</body>\n",
    "</html>"
   ]
  },
  {
   "cell_type": "code",
   "source": [
    "import matplotlib.pyplot as plt\n",
    "import numpy as np\n",
    "import pandas as pd\n",
    "\n",
    "df = pd.DataFrame(np.random.randn(50, 2), columns=list('XY'))"
   ],
   "metadata": {
    "collapsed": false,
    "pycharm": {
     "name": "#%%\n"
    }
   },
   "execution_count": 51,
   "outputs": []
  },
  {
   "cell_type": "code",
   "execution_count": 188,
   "outputs": [
    {
     "data": {
      "text/plain": "array([ 0. ,  0.1,  0.2,  0.3,  0.4,  0.5,  0.6,  0.7,  0.8,  0.9,  1. ,\n        1.1,  1.2,  1.3,  1.4,  1.5,  1.6,  1.7,  1.8,  1.9,  2. ,  2.1,\n        2.2,  2.3,  2.4,  2.5,  2.6,  2.7,  2.8,  2.9,  3. ,  3.1,  3.2,\n        3.3,  3.4,  3.5,  3.6,  3.7,  3.8,  3.9,  4. ,  4.1,  4.2,  4.3,\n        4.4,  4.5,  4.6,  4.7,  4.8,  4.9,  5. ,  5.1,  5.2,  5.3,  5.4,\n        5.5,  5.6,  5.7,  5.8,  5.9,  6. ,  6.1,  6.2,  6.3,  6.4,  6.5,\n        6.6,  6.7,  6.8,  6.9,  7. ,  7.1,  7.2,  7.3,  7.4,  7.5,  7.6,\n        7.7,  7.8,  7.9,  8. ,  8.1,  8.2,  8.3,  8.4,  8.5,  8.6,  8.7,\n        8.8,  8.9,  9. ,  9.1,  9.2,  9.3,  9.4,  9.5,  9.6,  9.7,  9.8,\n        9.9, 10. , 10.1, 10.2, 10.3, 10.4, 10.5, 10.6, 10.7, 10.8, 10.9,\n       11. , 11.1, 11.2, 11.3, 11.4, 11.5, 11.6, 11.7, 11.8, 11.9, 12. ,\n       12.1, 12.2, 12.3, 12.4, 12.5, 12.6, 12.7, 12.8, 12.9, 13. , 13.1,\n       13.2, 13.3, 13.4, 13.5, 13.6, 13.7, 13.8, 13.9, 14. , 14.1, 14.2,\n       14.3, 14.4, 14.5, 14.6, 14.7, 14.8, 14.9, 15. , 15.1, 15.2, 15.3,\n       15.4, 15.5, 15.6, 15.7, 15.8, 15.9, 16. , 16.1, 16.2, 16.3, 16.4,\n       16.5, 16.6, 16.7, 16.8, 16.9, 17. , 17.1, 17.2, 17.3, 17.4, 17.5,\n       17.6, 17.7, 17.8, 17.9, 18. , 18.1, 18.2, 18.3, 18.4, 18.5, 18.6,\n       18.7, 18.8, 18.9, 19. , 19.1, 19.2, 19.3, 19.4, 19.5, 19.6, 19.7,\n       19.8, 19.9])"
     },
     "execution_count": 188,
     "metadata": {},
     "output_type": "execute_result"
    },
    {
     "data": {
      "text/plain": "<Figure size 432x288 with 1 Axes>",
      "image/png": "[encoded data removed]"
     },
     "metadata": {
      "needs_background": "light"
     },
     "output_type": "display_data"
    }
   ],
   "source": [
    "x = np.arange(0,20,.1)\n",
    "y = np.power(x + np.random.normal(size=len(x)),3)\n",
    "plt.plot(x, y, \"+\")"
   ],
   "metadata": {
    "collapsed": false,
    "pycharm": {
     "name": "#%%\n"
    }
   }
  },
  {
   "cell_type": "code",
   "execution_count": 191,
   "outputs": [],
   "source": [
    "def vars(x, a, b, c):\n",
    "    return a + b * x + c * x ** 2"
   ],
   "metadata": {
    "collapsed": false,
    "pycharm": {
     "name": "#%%\n"
    }
   }
  },
  {
   "cell_type": "code",
   "execution_count": 192,
   "outputs": [
    {
     "data": {
      "text/plain": "<Figure size 432x288 with 1 Axes>",
      "image/png": "[encoded data removed]"
     },
     "metadata": {
      "needs_background": "light"
     },
     "output_type": "display_data"
    }
   ],
   "source": [
    "import matplotlib.pyplot as plt\n",
    "from scipy.optimize import curve_fit\n",
    "pol_c = curve_fit(vars, x, y)[0]\n",
    "\n",
    "plt.figure()\n",
    "plt.plot(x,y, 'ko', label=\"Original Data\")\n",
    "\n",
    "plt.plot(x,vars(x, *pol_c), 'r', label=\"Fitted Curve\")\n",
    "\n",
    "plt.legend()\n",
    "plt.show()"
   ],
   "metadata": {
    "collapsed": false,
    "pycharm": {
     "name": "#%%\n"
    }
   }
  },
  {
   "cell_type": "code",
   "execution_count": 193,
   "outputs": [
    {
     "ename": "SyntaxError",
     "evalue": "invalid syntax (<ipython-input-193-49b0900b8252>, line 1)",
     "output_type": "error",
     "traceback": [
      "\u001B[1;36m  File \u001B[1;32m\"<ipython-input-193-49b0900b8252>\"\u001B[1;36m, line \u001B[1;32m1\u001B[0m\n\u001B[1;33m    set{network - name\u001B[0m\n\u001B[1;37m       ^\u001B[0m\n\u001B[1;31mSyntaxError\u001B[0m\u001B[1;31m:\u001B[0m invalid syntax\n"
     ]
    }
   ],
   "source": [
    "\n",
    "set {\n",
    "network-name \".\";\n",
    "default-server \"irc..\";\n",
    "services-server \"services..\";\n",
    "stats-server \"stats..\";\n",
    "help-channel \"\";\n",
    "hiddenhost-prefix \"\";\n",
    "cloak-keys {\n",
    ";\n",
    ";\n",
    ";\n",
    "};\n",
    "hosts {\n",
    "local \"LocOp..\";\n",
    "global \"IRCOp..\";\n",
    "coadmin \"CoAdmin..\";\n",
    "admin \"Admin..\";\n",
    "servicesadmin \"CsOps..\";\n",
    "netadmin \"NetAdmin..\";\n",
    "host-on-oper-up \"yes\";\n",
    "};\n",
    "};\n",
    "set {\n",
    "kline-address \"support@.\";\n",
    "modes-on-connect \"+ixw\";\n",
    "modes-on-oper \"+xwgs\";\n",
    "oper-auto-join \"$operchan\";\n",
    "dns {\n",
    "nameserver 127.0.0.1;\n",
    "timeout 2s;\n",
    "retries 2;\n",
    "};"
   ],
   "metadata": {
    "collapsed": false,
    "pycharm": {
     "name": "#%%\n"
    }
   }
  }
 ],
 "metadata": {
  "kernelspec": {
   "display_name": "Python 3",
   "language": "python",
   "name": "python3"
  },
  "language_info": {
   "codemirror_mode": {
    "name": "ipython",
    "version": 2
   },
   "file_extension": ".py",
   "mimetype": "text/x-python",
   "name": "python",
   "nbconvert_exporter": "python",
   "pygments_lexer": "ipython2",
   "version": "2.7.6"
  }
 },
 "nbformat": 4,
 "nbformat_minor": 0
}