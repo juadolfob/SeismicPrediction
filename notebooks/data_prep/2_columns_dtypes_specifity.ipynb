{
 "cells": [
  {
   "cell_type": "code",
   "execution_count": 1,
   "metadata": {
    "tags": []
   },
   "outputs": [
    {
     "name": "stderr",
     "output_type": "stream",
     "text": [
      "C:\\Users\\fof\\miniconda3\\envs\\SeismicPrediction\\lib\\site-packages\\IPython\\core\\interactiveshell.py:3165: DtypeWarning: Columns (6) have mixed types.Specify dtype option on import or set low_memory=False.\n",
      "  has_raised = await self.run_ast_nodes(code_ast.body, cell_name,\n"
     ]
    }
   ],
   "source": []
  },
  {
   "cell_type": "code",
   "execution_count": 1,
   "metadata": {},
   "outputs": [],
   "source": [
    "import pandas as pd"
   ]
  },
  {
   "cell_type": "code",
   "execution_count": 24,
   "metadata": {},
   "outputs": [
    {
     "name": "stderr",
     "output_type": "stream",
     "text": [
      "C:\\Users\\fof\\miniconda3\\envs\\SeismicPrediction\\lib\\site-packages\\IPython\\core\\interactiveshell.py:3165: DtypeWarning: Columns (6) have mixed types.Specify dtype option on import or set low_memory=False.\n",
      "  has_raised = await self.run_ast_nodes(code_ast.body, cell_name,\n"
     ]
    }
   ],
   "source": [
    "\n",
    "df = pd.read_csv('../../data/DATA_0.csv', delimiter=',')"
   ]
  },
  {
   "cell_type": "code",
   "execution_count": 25,
   "metadata": {},
   "outputs": [],
   "source": [
    "# Remove unnecesary rows\n",
    "\n",
    "df.drop(df.columns[0], axis=1, inplace=True)\n",
    "df.drop(['Fecha', 'Hora','Referencia de localizacion','Estatus'],axis=1, inplace=True)"
   ]
  },
  {
   "cell_type": "code",
   "execution_count": 26,
   "metadata": {},
   "outputs": [],
   "source": [
    "# Remove and complete data accordingly\n",
    "\n",
    "# Remove rows with Profundidad == 'en revision'\n",
    "df=df.loc[df.Profundidad != 'en revision',:]\n",
    "\n",
    "# Fix non float specifications, like Profundidad == 'menos de 1'\n",
    "df.loc[(df.Profundidad == 'menos de 1'), 'Profundidad'] = 1.0"
   ]
  },
  {
   "cell_type": "code",
   "execution_count": 27,
   "metadata": {},
   "outputs": [
    {
     "data": {
      "text/plain": [
       "Magnitud       float64\n",
       "Latitud        float64\n",
       "Longitud       float64\n",
       "Profundidad    float64\n",
       "Fecha UTC       object\n",
       "Hora UTC        object\n",
       "dtype: object"
      ]
     },
     "execution_count": 27,
     "metadata": {},
     "output_type": "execute_result"
    }
   ],
   "source": [
    "# Specify data type of Profundidad\n",
    "\n",
    "df.astype({'Profundidad': 'float'}).dtypes"
   ]
  }
 ],
 "metadata": {
  "kernelspec": {
   "display_name": "SeismicPrediction",
   "language": "python",
   "name": "seismicprediction"
  },
  "language_info": {
   "codemirror_mode": {
    "name": "ipython",
    "version": 3
   },
   "file_extension": ".py",
   "mimetype": "text/x-python",
   "name": "python",
   "nbconvert_exporter": "python",
   "pygments_lexer": "ipython3",
   "version": "3.9.5"
  }
 },
 "nbformat": 4,
 "nbformat_minor": 4
}