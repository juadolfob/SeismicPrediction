{
 "cells": [
  {
   "cell_type": "code",
   "execution_count": 2,
   "metadata": {
    "collapsed": true,
    "pycharm": {
     "name": "#%%\n"
    }
   },
   "outputs": [],
   "source": [
    "import pandas as pd"
   ]
  },
  {
   "cell_type": "code",
   "execution_count": 4,
   "outputs": [
    {
     "name": "stderr",
     "output_type": "stream",
     "text": [
      "C:\\Users\\fof\\miniconda3\\envs\\SeismicPrediction\\lib\\site-packages\\IPython\\core\\interactiveshell.py:3165: DtypeWarning: Columns (2) have mixed types.Specify dtype option on import or set low_memory=False.\n",
      "  has_raised = await self.run_ast_nodes(code_ast.body, cell_name,\n"
     ]
    }
   ],
   "source": [
    "df = pd.read_csv('../../data/DATA.csv', delimiter=',')"
   ],
   "metadata": {
    "collapsed": false,
    "pycharm": {
     "name": "#%%\n"
    }
   }
  },
  {
   "cell_type": "code",
   "execution_count": 8,
   "outputs": [
    {
     "data": {
      "text/plain": "             Fecha      Hora Magnitud  Latitud  Longitud Profundidad  \\\n0       1900-01-20  00:33:30      7.4    20.00   -105.00        33.0   \n1       1900-05-16  14:12:00      6.9    20.00   -105.00        33.0   \n2       1901-03-05  04:45:00      6.9    25.00   -110.00        33.0   \n3       1901-12-08  20:17:00      7.0    26.00   -110.00        33.0   \n4       1902-01-16  17:19:00      7.0    17.62    -99.72        33.0   \n...            ...       ...      ...      ...       ...         ...   \n222460  2021-05-29  15:35:53      3.5    16.29    -98.19        21.0   \n222461  2021-05-29  15:45:42      3.4    20.40   -105.16         5.0   \n222462  2021-05-29  16:00:25      3.5    15.89    -98.44         8.0   \n222463  2021-05-29  16:52:05      3.4    17.14    -99.07        51.0   \n222464  2021-05-29  20:38:49      4.3    17.78    -93.72         3.0   \n\n                         Referencia de localizacion   Fecha UTC  Hora UTC  \\\n0       71 km al NOROESTE de AUTLAN DE NAVARRO, JAL  1900-01-20  06:33:30   \n1       71 km al NOROESTE de AUTLAN DE NAVARRO, JAL  1900-05-16  20:12:00   \n2                  100 km al NORESTE de LA PAZ, BCS  1901-03-05  10:45:00   \n3                      83 km al OESTE de AHOME, SIN  1901-12-09  02:17:00   \n4           21 km al OESTE de ZUMPANGO DEL RIO, GRO  1902-01-16  23:19:00   \n...                                             ...         ...       ...   \n222460  15 km al SUROESTE de PINOTEPA NACIONAL, OAX  2021-05-29  20:35:53   \n222461     25 km al SURESTE de PUERTO VALLARTA, JAL  2021-05-29  20:45:42   \n222462  65 km al SUROESTE de PINOTEPA NACIONAL, OAX  2021-05-29  21:00:25   \n222463          51 km al NORESTE de SAN MARCOS, GRO  2021-05-29  21:52:05   \n222464          35 km al OESTE de HUIMANGUILLO, TAB  2021-05-30  01:38:49   \n\n           Estatus  \n0         revisado  \n1         revisado  \n2         revisado  \n3         revisado  \n4         revisado  \n...            ...  \n222460  verificado  \n222461  verificado  \n222462  verificado  \n222463  verificado  \n222464  verificado  \n\n[204816 rows x 10 columns]",
      "text/html": "<div>\n<style scoped>\n    .dataframe tbody tr th:only-of-type {\n        vertical-align: middle;\n    }\n\n    .dataframe tbody tr th {\n        vertical-align: top;\n    }\n\n    .dataframe thead th {\n        text-align: right;\n    }\n</style>\n<table border=\"1\" class=\"dataframe\">\n  <thead>\n    <tr style=\"text-align: right;\">\n      <th></th>\n      <th>Fecha</th>\n      <th>Hora</th>\n      <th>Magnitud</th>\n      <th>Latitud</th>\n      <th>Longitud</th>\n      <th>Profundidad</th>\n      <th>Referencia de localizacion</th>\n      <th>Fecha UTC</th>\n      <th>Hora UTC</th>\n      <th>Estatus</th>\n    </tr>\n  </thead>\n  <tbody>\n    <tr>\n      <th>0</th>\n      <td>1900-01-20</td>\n      <td>00:33:30</td>\n      <td>7.4</td>\n      <td>20.00</td>\n      <td>-105.00</td>\n      <td>33.0</td>\n      <td>71 km al NOROESTE de AUTLAN DE NAVARRO, JAL</td>\n      <td>1900-01-20</td>\n      <td>06:33:30</td>\n      <td>revisado</td>\n    </tr>\n    <tr>\n      <th>1</th>\n      <td>1900-05-16</td>\n      <td>14:12:00</td>\n      <td>6.9</td>\n      <td>20.00</td>\n      <td>-105.00</td>\n      <td>33.0</td>\n      <td>71 km al NOROESTE de AUTLAN DE NAVARRO, JAL</td>\n      <td>1900-05-16</td>\n      <td>20:12:00</td>\n      <td>revisado</td>\n    </tr>\n    <tr>\n      <th>2</th>\n      <td>1901-03-05</td>\n      <td>04:45:00</td>\n      <td>6.9</td>\n      <td>25.00</td>\n      <td>-110.00</td>\n      <td>33.0</td>\n      <td>100 km al NORESTE de LA PAZ, BCS</td>\n      <td>1901-03-05</td>\n      <td>10:45:00</td>\n      <td>revisado</td>\n    </tr>\n    <tr>\n      <th>3</th>\n      <td>1901-12-08</td>\n      <td>20:17:00</td>\n      <td>7.0</td>\n      <td>26.00</td>\n      <td>-110.00</td>\n      <td>33.0</td>\n      <td>83 km al OESTE de AHOME, SIN</td>\n      <td>1901-12-09</td>\n      <td>02:17:00</td>\n      <td>revisado</td>\n    </tr>\n    <tr>\n      <th>4</th>\n      <td>1902-01-16</td>\n      <td>17:19:00</td>\n      <td>7.0</td>\n      <td>17.62</td>\n      <td>-99.72</td>\n      <td>33.0</td>\n      <td>21 km al OESTE de ZUMPANGO DEL RIO, GRO</td>\n      <td>1902-01-16</td>\n      <td>23:19:00</td>\n      <td>revisado</td>\n    </tr>\n    <tr>\n      <th>...</th>\n      <td>...</td>\n      <td>...</td>\n      <td>...</td>\n      <td>...</td>\n      <td>...</td>\n      <td>...</td>\n      <td>...</td>\n      <td>...</td>\n      <td>...</td>\n      <td>...</td>\n    </tr>\n    <tr>\n      <th>222460</th>\n      <td>2021-05-29</td>\n      <td>15:35:53</td>\n      <td>3.5</td>\n      <td>16.29</td>\n      <td>-98.19</td>\n      <td>21.0</td>\n      <td>15 km al SUROESTE de PINOTEPA NACIONAL, OAX</td>\n      <td>2021-05-29</td>\n      <td>20:35:53</td>\n      <td>verificado</td>\n    </tr>\n    <tr>\n      <th>222461</th>\n      <td>2021-05-29</td>\n      <td>15:45:42</td>\n      <td>3.4</td>\n      <td>20.40</td>\n      <td>-105.16</td>\n      <td>5.0</td>\n      <td>25 km al SURESTE de PUERTO VALLARTA, JAL</td>\n      <td>2021-05-29</td>\n      <td>20:45:42</td>\n      <td>verificado</td>\n    </tr>\n    <tr>\n      <th>222462</th>\n      <td>2021-05-29</td>\n      <td>16:00:25</td>\n      <td>3.5</td>\n      <td>15.89</td>\n      <td>-98.44</td>\n      <td>8.0</td>\n      <td>65 km al SUROESTE de PINOTEPA NACIONAL, OAX</td>\n      <td>2021-05-29</td>\n      <td>21:00:25</td>\n      <td>verificado</td>\n    </tr>\n    <tr>\n      <th>222463</th>\n      <td>2021-05-29</td>\n      <td>16:52:05</td>\n      <td>3.4</td>\n      <td>17.14</td>\n      <td>-99.07</td>\n      <td>51.0</td>\n      <td>51 km al NORESTE de SAN MARCOS, GRO</td>\n      <td>2021-05-29</td>\n      <td>21:52:05</td>\n      <td>verificado</td>\n    </tr>\n    <tr>\n      <th>222464</th>\n      <td>2021-05-29</td>\n      <td>20:38:49</td>\n      <td>4.3</td>\n      <td>17.78</td>\n      <td>-93.72</td>\n      <td>3.0</td>\n      <td>35 km al OESTE de HUIMANGUILLO, TAB</td>\n      <td>2021-05-30</td>\n      <td>01:38:49</td>\n      <td>verificado</td>\n    </tr>\n  </tbody>\n</table>\n<p>204816 rows × 10 columns</p>\n</div>"
     },
     "execution_count": 8,
     "metadata": {},
     "output_type": "execute_result"
    }
   ],
   "source": [
    "#drop rows without magnitude\n",
    "\n",
    "df.drop(df[df['Magnitud'] == 'no calculable'].index, inplace = True)\n",
    "df"
   ],
   "metadata": {
    "collapsed": false,
    "pycharm": {
     "name": "#%%\n"
    }
   }
  },
  {
   "cell_type": "code",
   "execution_count": 7,
   "outputs": [],
   "source": [
    "df.to_csv(\"../../data/DATA_0.csv\")"
   ],
   "metadata": {
    "collapsed": false,
    "pycharm": {
     "name": "#%%\n"
    }
   }
  }
 ],
 "metadata": {
  "kernelspec": {
   "display_name": "Python 3",
   "language": "python",
   "name": "python3"
  },
  "language_info": {
   "codemirror_mode": {
    "name": "ipython",
    "version": 2
   },
   "file_extension": ".py",
   "mimetype": "text/x-python",
   "name": "python",
   "nbconvert_exporter": "python",
   "pygments_lexer": "ipython2",
   "version": "2.7.6"
  }
 },
 "nbformat": 4,
 "nbformat_minor": 0
}